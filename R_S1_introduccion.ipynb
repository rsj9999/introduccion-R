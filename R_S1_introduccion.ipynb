{
 "cells": [
  {
   "cell_type": "markdown",
   "metadata": {
    "button": false,
    "new_sheet": false,
    "run_control": {
     "read_only": false
    }
   },
   "source": [
    "# R: Introducción y estructuras de datos"
   ]
  },
  {
   "cell_type": "markdown",
   "metadata": {
    "button": false,
    "new_sheet": false,
    "run_control": {
     "read_only": false
    }
   },
   "source": [
    "## ¿Qué es R?\n",
    "\n",
    "* En 1976, John Chambers, Rick Becker y Allan Wilks desarrollaron *S* como un conjunto de macros Fortran, que se convirtieron en el entorno de análisis estadístico de Bell Labs.\n",
    "* En 1988, se reescribió completamente S (S3) en código C. Diez años más tarde, en 1998, se lanzó la S4, que contenía un conjunto de características orientadas a objetos más avanzadas que las de S3. S4 (y su versión comercial S-Plus) siguen estando vigentes en la actualidad.\n",
    "* En pocas palabras, R es un dialecto libre del lenguaje S, desarrollado en 1993 por Robert Gentleman y Ross Ihaka del departamento de Estadística de la Universidad de Auckland.\n",
    "* Con más de 2 millones de usuarios a nivel mundial, R se ha convertido rápidamente en el lenguaje de programación líder en estadística y ciencia de datos. Cada año, el número de usuarios de R crece en un 40%, y cada vez más organizaciones lo están usando para sus actividades cotidianas. Sus características básicas son:\n",
    "  + software libre de código abierto -> desarrolladores de todo el mundo contribuyen con paquetes que permiten realizar análisis cada vez más específicos y sofisticados. No hay limitaciones.   \n",
    "  + está en constante evolución y se dispone de una amplia documentación. Hay mucha información disponible en foros como Stackoverflow.\n",
    "  + gran capacidad de gráficos para visualizar información compleja de una forma sencilla. \n",
    "  + muy flexible, puede trabajar con datos procedentes de todo tipo de archivos: .txt, .csv, JSON, etc.\n",
    "* Existen múltiples guías para el aprendizaje y uso de R. Dos de las más populares son las siguientes:\n",
    "  + \"Introduccion a R\": http://cran.r-project.org/doc/contrib/R-intro-1.1.0-espanol.1.pdf\n",
    "  + \"R para principiantes\": https://cran.r-project.org/doc/contrib/rdebuts_es.pdf\n",
    "  + \"The R book\": ftp://ftp.tuebingen.mpg.de/pub/kyb/bresciani/Crawley%20-%20The%20R%20Book.pdf"
   ]
  },
  {
   "cell_type": "markdown",
   "metadata": {
    "button": false,
    "new_sheet": false,
    "run_control": {
     "read_only": false
    }
   },
   "source": [
    "## Primeros pasos con R\n",
    "\n",
    "* Instalación:\n",
    " + Desde la paǵina de CRAN (Comprehensive R Archive Network): https://cran.r-project.org/mirrors.html. CRAN es el repositorio oficial de R (y la mayoría de sus paquetes), el cual es coordinado por la \"R foundation\" y mantenido por la comunidad de usuarios de R en todo el mundo.\n",
    "   + En Ubuntu y otras distribuciones Linux suele bastar con ejecutar `sudo apt-get install r-base`\n",
    "   + Suele publicarse una nueva versión de R cada seis meses. Es conveniente utilizar siempre la última versión.\n",
    "* R es un lenguaje de programación orientado a objetos, muy similar en sintaxis a C y C++. Todo en R son objetos: un valor numérico es un objeto, un vector es un objeto, una función es un objeto, una base de datos es un objeto, un gráfico es un objeto... Entre otras cosas, esto significa que una misma función puede hacer cosas distintas según la clase del objeto que recibe como argumento, pudiendo incluso no hacer nada (o producir un error) si se le pasan argumentos de una clase inadecuada.\n",
    "* El nombre de un objeto de R puede ser cualquier cadena alfanumérica formada por letras (R distingue entre mayúsculas y minúsculas), dígitos del 0 al 9 (nunca en primera posición del nombre) y los signos \".\" y \"\\_\". Por ejemplo, *Var123* o *Var.123* son nombres válidos.\n",
    "\n",
    "### R desde terminal\n",
    "\n",
    "* Para abrir una sesión de R, simplemente ejecuta la orden `R` desde la terminal. Algunos comandos básicos son los siguientes:\n",
    "\n",
    "`# esto es un comentario\n",
    "getwd()  # muestra el directorio de trabajo actual\n",
    "setwd(\"/home/jovyan/panorama/R\")  # especifica un nuevo directorio de trabajo\n",
    "list.files()  # lista el contenido del directorio de trabajo \n",
    "ls()  # lista los objetos guardados en memoria en la sesión de trabajo actual\n",
    "quit()  # cierra la sesión actual`\n",
    "\n",
    "* Uso de R como calculadora:\n",
    "\n",
    "`2+2\n",
    "10/2\n",
    "sqrt(8)\n",
    "3^2\n",
    "log(7)\n",
    "x <- 5; y <- 6; x+y  # las expresiones \"<-\" y \"=\" son equivalentes`\n",
    "\n",
    "### R en Jupyter\n",
    "\n",
    "* Para poder usar R desde Jupyter necesitamos instalar primero *IRKernell* (kernel de R). [IRKernel](https://irkernel.github.io/) permite incorporar celdas que calculen utilizando R como lenguaje de programación. Para su instalación es [necesario](https://irkernel.github.io/requirements/) tener instalado R en la instancia de Jupyter. En ese caso, la instalación básica del kernel se realiza siguiendo las siguientes [instrucciones](https://irkernel.github.io/installation/#binary-panel):\n",
    "\n",
    " 1) Se instalan desde la consola de R los paquetes necesarios, incluido IRKernel:\n",
    " \n",
    "   `install.packages(c('repr', 'IRdisplay', 'evaluate', 'crayon', 'pbdZMQ', 'devtools', 'uuid', 'digest'))`   \n",
    "   `devtools::install_github('IRkernel/IRkernel')`\n",
    "   \n",
    " 2) A continuación debe hacerse visible el kernel desde Jupyter. Para ello, debemos ejecutar desde R:\n",
    " \n",
    "   `IRkernel::installspec()`   \n",
    "   \n",
    "Ahora se activará dentro del menú *Kernel* de Jupyter una nueva opción `R` para utilizar celdas con ese lenguaje.\n",
    "\n",
    "En ocasiones puede ocurrir que la instalación del kernel no se propague al notebook de modo que no permita seleccionar el Kernel de `R`. En ese caso debemos, por un lado, revisar el listado de kernels (desde la terminal de Jupyter)\n",
    "\n",
    "   `jupyter kernelspec list`\n",
    "   \n",
    "y a continuación, en caso de que esté disponible el kernel, forzar su instalación\n",
    "\n",
    "   `jupyter kernelspec install /path/jupyter/kernels/ir`\n",
    "\n",
    "En dicho momento se activará la opción de ese kernel en el notebook."
   ]
  },
  {
   "cell_type": "markdown",
   "metadata": {
    "button": false,
    "new_sheet": false,
    "run_control": {
     "read_only": false
    }
   },
   "source": [
    "## Estructuras de datos en R\n",
    "\n",
    "* Como ya hemos comentado, las entidades que R crea y manipula se denominan objetos, y pueden ser de distintos tipos.    \n",
    "  + Los atributos de un objeto suministran información específica sobre el propio objeto.\n",
    "  + Un objeto siempre lleva como attributo la longitud y la clase\n",
    "    + La función `class()` devuelve la clase del objeto.  \n",
    "    + La función `length()` devuelve la longitud del objeto.  \n",
    "    + La función `str()` da informacion sobre todo la estructura del objeto.  \n",
    "\n",
    "* R dispone las siguientes estructuras de datos (clases).\n",
    "  + vector\n",
    "  + matrix\n",
    "  + array\n",
    "  + factor\n",
    "  + list\n",
    "  + data.frame\n",
    "\n",
    "* Estas estructuras pueden estar formadas for un único o varios tipos (clases atómicas).\n",
    "  + Enteros  - **integer** (2L, as.integer(3), etc.)\n",
    "  + Numérico - **numeric/double**: (números reales) (2, 2.0, pi, Inf, etc.) \n",
    "  + Complejo - **complex** (1 + 0i, 1 + 4i, etc.)\n",
    "    + Los operadores aritméticos elementales son los habituales: +, -, /, ^ ,%%,%/%...\n",
    "  + Lógicos - **logical** (TRUE, FALSE) \n",
    "    + Operadores lógicos: ==, =!, <=, >=, <, >, && ...\n",
    "  + Caracteres - **character** (e.g, \"Hola\", \"mundo\")\n",
    "    - Operador para caracteres: Concatenación con la función `paste()`"
   ]
  },
  {
   "cell_type": "markdown",
   "metadata": {},
   "source": [
    "Ejemplos del uso de operadores:"
   ]
  },
  {
   "cell_type": "code",
   "execution_count": 1,
   "metadata": {},
   "outputs": [
    {
     "data": {
      "text/html": [
       "1"
      ],
      "text/latex": [
       "1"
      ],
      "text/markdown": [
       "1"
      ],
      "text/plain": [
       "[1] 1"
      ]
     },
     "metadata": {},
     "output_type": "display_data"
    },
    {
     "data": {
      "text/html": [
       "2"
      ],
      "text/latex": [
       "2"
      ],
      "text/markdown": [
       "2"
      ],
      "text/plain": [
       "[1] 2"
      ]
     },
     "metadata": {},
     "output_type": "display_data"
    },
    {
     "data": {
      "text/html": [
       "8"
      ],
      "text/latex": [
       "8"
      ],
      "text/markdown": [
       "8"
      ],
      "text/plain": [
       "[1] 8"
      ]
     },
     "metadata": {},
     "output_type": "display_data"
    },
    {
     "data": {
      "text/html": [
       "1+5i"
      ],
      "text/latex": [
       "1+5i"
      ],
      "text/markdown": [
       "1+5i"
      ],
      "text/plain": [
       "[1] 1+5i"
      ]
     },
     "metadata": {},
     "output_type": "display_data"
    }
   ],
   "source": [
    "# Operadores numéricos\n",
    "# módulo\n",
    "5%%2\n",
    "# división entera\n",
    "5%/%2\n",
    "# potencias\n",
    "2^3\n",
    "# multiplicación entre numeros complejos\n",
    "1+2i*2+1i"
   ]
  },
  {
   "cell_type": "code",
   "execution_count": 2,
   "metadata": {},
   "outputs": [
    {
     "data": {
      "text/html": [
       "TRUE"
      ],
      "text/latex": [
       "TRUE"
      ],
      "text/markdown": [
       "TRUE"
      ],
      "text/plain": [
       "[1] TRUE"
      ]
     },
     "metadata": {},
     "output_type": "display_data"
    },
    {
     "data": {
      "text/html": [
       "FALSE"
      ],
      "text/latex": [
       "FALSE"
      ],
      "text/markdown": [
       "FALSE"
      ],
      "text/plain": [
       "[1] FALSE"
      ]
     },
     "metadata": {},
     "output_type": "display_data"
    },
    {
     "data": {
      "text/html": [
       "FALSE"
      ],
      "text/latex": [
       "FALSE"
      ],
      "text/markdown": [
       "FALSE"
      ],
      "text/plain": [
       "[1] FALSE"
      ]
     },
     "metadata": {},
     "output_type": "display_data"
    },
    {
     "data": {
      "text/html": [
       "TRUE"
      ],
      "text/latex": [
       "TRUE"
      ],
      "text/markdown": [
       "TRUE"
      ],
      "text/plain": [
       "[1] TRUE"
      ]
     },
     "metadata": {},
     "output_type": "display_data"
    },
    {
     "data": {
      "text/html": [
       "TRUE"
      ],
      "text/latex": [
       "TRUE"
      ],
      "text/markdown": [
       "TRUE"
      ],
      "text/plain": [
       "[1] TRUE"
      ]
     },
     "metadata": {},
     "output_type": "display_data"
    }
   ],
   "source": [
    "# operadores lógicos\n",
    "5 > 4\n",
    "4 == 3\n",
    "FALSE && TRUE\n",
    "FALSE || TRUE\n",
    "4 && 1 # TRUE: todos los números más Inf, salvo cero"
   ]
  },
  {
   "cell_type": "code",
   "execution_count": 3,
   "metadata": {},
   "outputs": [
    {
     "data": {
      "text/html": [
       "'Hoy es lunes'"
      ],
      "text/latex": [
       "'Hoy es lunes'"
      ],
      "text/markdown": [
       "'Hoy es lunes'"
      ],
      "text/plain": [
       "[1] \"Hoy es lunes\""
      ]
     },
     "metadata": {},
     "output_type": "display_data"
    }
   ],
   "source": [
    "# combinación de cadenas de caracteres\n",
    "paste(\"Hoy\",\"es\",\"lunes\")"
   ]
  },
  {
   "cell_type": "markdown",
   "metadata": {},
   "source": [
    "### Asignación de objetos"
   ]
  },
  {
   "cell_type": "code",
   "execution_count": 4,
   "metadata": {},
   "outputs": [],
   "source": [
    "# assignación de un objeto\n",
    "objeto1 <- 3\n",
    "# assign()\n",
    "assign(\"objeto2\", 3)"
   ]
  },
  {
   "cell_type": "code",
   "execution_count": 5,
   "metadata": {},
   "outputs": [
    {
     "data": {
      "text/html": [
       "3"
      ],
      "text/latex": [
       "3"
      ],
      "text/markdown": [
       "3"
      ],
      "text/plain": [
       "[1] 3"
      ]
     },
     "metadata": {},
     "output_type": "display_data"
    },
    {
     "data": {
      "text/html": [
       "3"
      ],
      "text/latex": [
       "3"
      ],
      "text/markdown": [
       "3"
      ],
      "text/plain": [
       "[1] 3"
      ]
     },
     "metadata": {},
     "output_type": "display_data"
    }
   ],
   "source": [
    "objeto1\n",
    "objeto2"
   ]
  },
  {
   "cell_type": "code",
   "execution_count": 6,
   "metadata": {},
   "outputs": [
    {
     "data": {
      "text/html": [
       "'character'"
      ],
      "text/latex": [
       "'character'"
      ],
      "text/markdown": [
       "'character'"
      ],
      "text/plain": [
       "[1] \"character\""
      ]
     },
     "metadata": {},
     "output_type": "display_data"
    },
    {
     "data": {
      "text/html": [
       "'double'"
      ],
      "text/latex": [
       "'double'"
      ],
      "text/markdown": [
       "'double'"
      ],
      "text/plain": [
       "[1] \"double\""
      ]
     },
     "metadata": {},
     "output_type": "display_data"
    },
    {
     "data": {
      "text/html": [
       "'integer'"
      ],
      "text/latex": [
       "'integer'"
      ],
      "text/markdown": [
       "'integer'"
      ],
      "text/plain": [
       "[1] \"integer\""
      ]
     },
     "metadata": {},
     "output_type": "display_data"
    },
    {
     "data": {
      "text/html": [
       "'complex'"
      ],
      "text/latex": [
       "'complex'"
      ],
      "text/markdown": [
       "'complex'"
      ],
      "text/plain": [
       "[1] \"complex\""
      ]
     },
     "metadata": {},
     "output_type": "display_data"
    },
    {
     "data": {
      "text/html": [
       "'logical'"
      ],
      "text/latex": [
       "'logical'"
      ],
      "text/markdown": [
       "'logical'"
      ],
      "text/plain": [
       "[1] \"logical\""
      ]
     },
     "metadata": {},
     "output_type": "display_data"
    }
   ],
   "source": [
    "# determinación del tipo (clase atómica) de un objeto singular: typeof()\n",
    "a <- \"Hola\"\n",
    "b <- 2\n",
    "c <- 2L\n",
    "d <- 2 + 1i\n",
    "e <- FALSE \n",
    "#\n",
    "typeof(a)\n",
    "typeof(b)\n",
    "typeof(c)\n",
    "typeof(d)\n",
    "typeof(e)"
   ]
  },
  {
   "cell_type": "markdown",
   "metadata": {
    "button": false,
    "new_sheet": false,
    "run_control": {
     "read_only": false
    }
   },
   "source": [
    "## Vectores \n",
    "La estructura más simple es el vector, que es una colección unidimensional ordenada. Un número, por ejemplo, se considera un vector numérico de longitud uno.\n",
    "\n",
    "Tipos de vectores:\n",
    "+ numericos, \n",
    "+ integers.\n",
    "+ caracteres, \n",
    "+ logicals\n",
    "\n",
    "Funciones frecuentemente utilizados: `length()`, `rev()`, `sort()`"
   ]
  },
  {
   "cell_type": "markdown",
   "metadata": {
    "button": false,
    "new_sheet": false,
    "run_control": {
     "read_only": false
    }
   },
   "source": [
    "+ Vectores numéricos"
   ]
  },
  {
   "cell_type": "code",
   "execution_count": 7,
   "metadata": {},
   "outputs": [
    {
     "name": "stdout",
     "output_type": "stream",
     "text": [
      "[1] 1.1 2.2 3.3 4.4 5.5\n"
     ]
    },
    {
     "data": {
      "text/html": [
       "'numeric'"
      ],
      "text/latex": [
       "'numeric'"
      ],
      "text/markdown": [
       "'numeric'"
      ],
      "text/plain": [
       "[1] \"numeric\""
      ]
     },
     "metadata": {},
     "output_type": "display_data"
    }
   ],
   "source": [
    "# creación de un vector numerico: la función c()\n",
    "x <- c(1.1,2.2,3.3,4.4,5.5)\n",
    "print(x)\n",
    "class(x)"
   ]
  },
  {
   "cell_type": "code",
   "execution_count": 8,
   "metadata": {},
   "outputs": [
    {
     "name": "stdout",
     "output_type": "stream",
     "text": [
      "[1] 0 0 0 0 0\n"
     ]
    },
    {
     "data": {
      "text/html": [
       "'numeric'"
      ],
      "text/latex": [
       "'numeric'"
      ],
      "text/markdown": [
       "'numeric'"
      ],
      "text/plain": [
       "[1] \"numeric\""
      ]
     },
     "metadata": {},
     "output_type": "display_data"
    },
    {
     "name": "stdout",
     "output_type": "stream",
     "text": [
      "[1] 0 0 0 0 0\n"
     ]
    },
    {
     "data": {
      "text/html": [
       "'numeric'"
      ],
      "text/latex": [
       "'numeric'"
      ],
      "text/markdown": [
       "'numeric'"
      ],
      "text/plain": [
       "[1] \"numeric\""
      ]
     },
     "metadata": {},
     "output_type": "display_data"
    }
   ],
   "source": [
    "# creación de un vector de ceros mediante la función numeric\n",
    "x <- numeric(length = 5)\n",
    "print(x)\n",
    "class(x)\n",
    "y <- rep(0, length = 5)\n",
    "print(y)\n",
    "class(y)"
   ]
  },
  {
   "cell_type": "markdown",
   "metadata": {},
   "source": [
    "### Operaciones aritméticas básicas con vectores"
   ]
  },
  {
   "cell_type": "code",
   "execution_count": 8,
   "metadata": {},
   "outputs": [
    {
     "name": "stdout",
     "output_type": "stream",
     "text": [
      "[1] 1.0000000 0.5000000 0.3333333 0.2500000 0.2000000 0.2000000\n",
      "[1] 2 3 4 5 6 6\n",
      "[1]  2  4  6  8 10 10\n",
      "[1]  1  4  9 16 25 25\n"
     ]
    },
    {
     "data": {
      "text/html": [
       "<ol class=list-inline>\n",
       "\t<li>0</li>\n",
       "\t<li>0.693147180559945</li>\n",
       "\t<li>1.09861228866811</li>\n",
       "\t<li>1.38629436111989</li>\n",
       "\t<li>1.6094379124341</li>\n",
       "\t<li>1.6094379124341</li>\n",
       "</ol>\n"
      ],
      "text/latex": [
       "\\begin{enumerate*}\n",
       "\\item 0\n",
       "\\item 0.693147180559945\n",
       "\\item 1.09861228866811\n",
       "\\item 1.38629436111989\n",
       "\\item 1.6094379124341\n",
       "\\item 1.6094379124341\n",
       "\\end{enumerate*}\n"
      ],
      "text/markdown": [
       "1. 0\n",
       "2. 0.693147180559945\n",
       "3. 1.09861228866811\n",
       "4. 1.38629436111989\n",
       "5. 1.6094379124341\n",
       "6. 1.6094379124341\n",
       "\n",
       "\n"
      ],
      "text/plain": [
       "[1] 0.0000000 0.6931472 1.0986123 1.3862944 1.6094379 1.6094379"
      ]
     },
     "metadata": {},
     "output_type": "display_data"
    }
   ],
   "source": [
    "# Los operadores aritméticos básicos se aplican a cada elemento\n",
    "x <- c(1,2,3,4,5,5)\n",
    "print(1/x) # división\n",
    "print(x + 1) # suma\n",
    "print(2 * x) # multiplicación\n",
    "print(x^2) # elevar a una potencia\n",
    "\n",
    "# Otras funciones: log, exp, sin, cos, tan, sqrt\n",
    "log(x)"
   ]
  },
  {
   "cell_type": "code",
   "execution_count": 9,
   "metadata": {},
   "outputs": [
    {
     "name": "stdout",
     "output_type": "stream",
     "text": [
      "[1] 5\n",
      "[1] 1\n",
      "[1] 20\n"
     ]
    }
   ],
   "source": [
    "# max, min, sum \n",
    "x <- c(1,2,3,4,5,5)\n",
    "print(max(x))\n",
    "print(min(x))\n",
    "print(sum(x))"
   ]
  },
  {
   "cell_type": "markdown",
   "metadata": {},
   "source": [
    "#### Operaciones aritméticas entre dos vectores:  \n",
    "El resultado será otro vector con longitud = longitud del vector más largo. El vector más corto será reciclado:"
   ]
  },
  {
   "cell_type": "code",
   "execution_count": 10,
   "metadata": {},
   "outputs": [
    {
     "name": "stderr",
     "output_type": "stream",
     "text": [
      "Warning message in x + y:\n",
      "“longer object length is not a multiple of shorter object length”"
     ]
    },
    {
     "name": "stdout",
     "output_type": "stream",
     "text": [
      "[1] 2 4 6 5 7\n"
     ]
    },
    {
     "name": "stderr",
     "output_type": "stream",
     "text": [
      "Warning message in x - y:\n",
      "“longer object length is not a multiple of shorter object length”"
     ]
    },
    {
     "name": "stdout",
     "output_type": "stream",
     "text": [
      "[1] 0 0 0 3 3\n"
     ]
    },
    {
     "name": "stderr",
     "output_type": "stream",
     "text": [
      "Warning message in x * y:\n",
      "“longer object length is not a multiple of shorter object length”"
     ]
    },
    {
     "name": "stdout",
     "output_type": "stream",
     "text": [
      "[1]  1  4  9  4 10\n"
     ]
    },
    {
     "name": "stderr",
     "output_type": "stream",
     "text": [
      "Warning message in x^y:\n",
      "“longer object length is not a multiple of shorter object length”"
     ]
    },
    {
     "name": "stdout",
     "output_type": "stream",
     "text": [
      "[1]  1  4 27  4 25\n"
     ]
    }
   ],
   "source": [
    "x <- c(1,2,3,4,5)\n",
    "y <- c(1,2,3)\n",
    "\n",
    "print(x + y)\n",
    "print(x - y)\n",
    "print(x*y)\n",
    "print(x^y)"
   ]
  },
  {
   "cell_type": "markdown",
   "metadata": {},
   "source": [
    "\n",
    "Si los objetos `x1` y `x2` son vectores de la misma longitud, el operador `%*%` devuelve el producto interno como un objeto de clase `matrix`"
   ]
  },
  {
   "cell_type": "code",
   "execution_count": 11,
   "metadata": {},
   "outputs": [
    {
     "data": {
      "text/html": [
       "<table>\n",
       "<tbody>\n",
       "\t<tr><td>32</td></tr>\n",
       "</tbody>\n",
       "</table>\n"
      ],
      "text/latex": [
       "\\begin{tabular}{l}\n",
       "\t 32\\\\\n",
       "\\end{tabular}\n"
      ],
      "text/markdown": [
       "\n",
       "| 32 | \n",
       "\n",
       "\n"
      ],
      "text/plain": [
       "     [,1]\n",
       "[1,] 32  "
      ]
     },
     "metadata": {},
     "output_type": "display_data"
    },
    {
     "data": {
      "text/html": [
       "'matrix'"
      ],
      "text/latex": [
       "'matrix'"
      ],
      "text/markdown": [
       "'matrix'"
      ],
      "text/plain": [
       "[1] \"matrix\""
      ]
     },
     "metadata": {},
     "output_type": "display_data"
    }
   ],
   "source": [
    "x1 <- c(1,2,3) #1*4+2*5+3*6 = 32 producto interno\n",
    "x2 <- c(4,5,6)\n",
    "mat.int <- x1 %*% x2\n",
    "mat.int\n",
    "class(mat.int)"
   ]
  },
  {
   "cell_type": "markdown",
   "metadata": {},
   "source": [
    "El producto exterior lo calculamos con la función `outer()` (devuelve un objeto de la clase \"matrix\")\n"
   ]
  },
  {
   "cell_type": "code",
   "execution_count": 12,
   "metadata": {},
   "outputs": [
    {
     "data": {
      "text/html": [
       "<table>\n",
       "<tbody>\n",
       "\t<tr><td> 4</td><td> 5</td><td> 6</td></tr>\n",
       "\t<tr><td> 8</td><td>10</td><td>12</td></tr>\n",
       "\t<tr><td>12</td><td>15</td><td>18</td></tr>\n",
       "</tbody>\n",
       "</table>\n"
      ],
      "text/latex": [
       "\\begin{tabular}{lll}\n",
       "\t  4 &  5 &  6\\\\\n",
       "\t  8 & 10 & 12\\\\\n",
       "\t 12 & 15 & 18\\\\\n",
       "\\end{tabular}\n"
      ],
      "text/markdown": [
       "\n",
       "|  4 |  5 |  6 | \n",
       "|  8 | 10 | 12 | \n",
       "| 12 | 15 | 18 | \n",
       "\n",
       "\n"
      ],
      "text/plain": [
       "     [,1] [,2] [,3]\n",
       "[1,]  4    5    6  \n",
       "[2,]  8   10   12  \n",
       "[3,] 12   15   18  "
      ]
     },
     "metadata": {},
     "output_type": "display_data"
    },
    {
     "data": {
      "text/html": [
       "'matrix'"
      ],
      "text/latex": [
       "'matrix'"
      ],
      "text/markdown": [
       "'matrix'"
      ],
      "text/plain": [
       "[1] \"matrix\""
      ]
     },
     "metadata": {},
     "output_type": "display_data"
    }
   ],
   "source": [
    "mat.ext <- outer(x1,x2)\n",
    "mat.ext\n",
    "class(mat.ext)"
   ]
  },
  {
   "cell_type": "markdown",
   "metadata": {},
   "source": [
    "* **Vectores de enteros / secuencias**"
   ]
  },
  {
   "cell_type": "code",
   "execution_count": 15,
   "metadata": {},
   "outputs": [
    {
     "name": "stdout",
     "output_type": "stream",
     "text": [
      " [1]  1  2  3  4  5  6  7  8  9 10\n",
      "[1]  0  2  4  6  8 10\n",
      "[1] 10  8  6  4  2  0\n"
     ]
    }
   ],
   "source": [
    "# Una secuencia es un vector de enteros\n",
    "seq1 <- 1:10 \n",
    "seq2 <- seq(0, 10, by = 2) \n",
    "seq3 <- seq(10, 0, by = -2) \n",
    "print(seq1)\n",
    "print(seq2)\n",
    "print(seq3)"
   ]
  },
  {
   "cell_type": "code",
   "execution_count": null,
   "metadata": {},
   "outputs": [],
   "source": [
    "# Añadir elementos mediante la funcion c()\n",
    "print(c(seq1,11,12))\n",
    "print(c(seq1,seq3))"
   ]
  },
  {
   "cell_type": "markdown",
   "metadata": {},
   "source": [
    "\n",
    "---\n",
    "__Ejercicio.__  \n",
    "Crea con las funciones `rep()` and `seq()` el seguiente vector: 11,11,11,1,2,3,4,5,7,9,11"
   ]
  },
  {
   "cell_type": "code",
   "execution_count": 14,
   "metadata": {},
   "outputs": [
    {
     "data": {
      "text/html": [
       "<ol class=list-inline>\n",
       "\t<li>11</li>\n",
       "\t<li>11</li>\n",
       "\t<li>11</li>\n",
       "\t<li>1</li>\n",
       "\t<li>2</li>\n",
       "\t<li>3</li>\n",
       "\t<li>4</li>\n",
       "\t<li>5</li>\n",
       "\t<li>7</li>\n",
       "\t<li>9</li>\n",
       "\t<li>11</li>\n",
       "</ol>\n"
      ],
      "text/latex": [
       "\\begin{enumerate*}\n",
       "\\item 11\n",
       "\\item 11\n",
       "\\item 11\n",
       "\\item 1\n",
       "\\item 2\n",
       "\\item 3\n",
       "\\item 4\n",
       "\\item 5\n",
       "\\item 7\n",
       "\\item 9\n",
       "\\item 11\n",
       "\\end{enumerate*}\n"
      ],
      "text/markdown": [
       "1. 11\n",
       "2. 11\n",
       "3. 11\n",
       "4. 1\n",
       "5. 2\n",
       "6. 3\n",
       "7. 4\n",
       "8. 5\n",
       "9. 7\n",
       "10. 9\n",
       "11. 11\n",
       "\n",
       "\n"
      ],
      "text/plain": [
       " [1] 11 11 11  1  2  3  4  5  7  9 11"
      ]
     },
     "metadata": {},
     "output_type": "display_data"
    }
   ],
   "source": [
    "# Solución\n",
    "vector_rep <- c(rep(11,3), seq(1,5), seq(7,11,by = 2))\n",
    "vector_rep"
   ]
  },
  {
   "cell_type": "markdown",
   "metadata": {},
   "source": [
    "---\n",
    "\n",
    "* **Vectores lógicos, vectores de caracteres...**\n",
    "    "
   ]
  },
  {
   "cell_type": "code",
   "execution_count": 16,
   "metadata": {},
   "outputs": [
    {
     "data": {
      "text/html": [
       "<ol class=list-inline>\n",
       "\t<li>FALSE</li>\n",
       "\t<li>TRUE</li>\n",
       "</ol>\n"
      ],
      "text/latex": [
       "\\begin{enumerate*}\n",
       "\\item FALSE\n",
       "\\item TRUE\n",
       "\\end{enumerate*}\n"
      ],
      "text/markdown": [
       "1. FALSE\n",
       "2. TRUE\n",
       "\n",
       "\n"
      ],
      "text/plain": [
       "[1] FALSE  TRUE"
      ]
     },
     "metadata": {},
     "output_type": "display_data"
    },
    {
     "data": {
      "text/html": [
       "<ol class=list-inline>\n",
       "\t<li>'Hola'</li>\n",
       "\t<li>'que'</li>\n",
       "\t<li>'tal'</li>\n",
       "</ol>\n"
      ],
      "text/latex": [
       "\\begin{enumerate*}\n",
       "\\item 'Hola'\n",
       "\\item 'que'\n",
       "\\item 'tal'\n",
       "\\end{enumerate*}\n"
      ],
      "text/markdown": [
       "1. 'Hola'\n",
       "2. 'que'\n",
       "3. 'tal'\n",
       "\n",
       "\n"
      ],
      "text/plain": [
       "[1] \"Hola\" \"que\"  \"tal\" "
      ]
     },
     "metadata": {},
     "output_type": "display_data"
    }
   ],
   "source": [
    "logi <- c(FALSE, TRUE)\n",
    "char <- c(\"Hola\",\"que\",\"tal\")\n",
    "logi\n",
    "char"
   ]
  },
  {
   "cell_type": "markdown",
   "metadata": {},
   "source": [
    " ¡Un vector sólamente puede contener un tipo atómico!  \n",
    " Cuando se combinen dos tipos de atomos en un único vector, `R` automaticamente convertirá uno de ellos al tipo del otro.\n"
   ]
  },
  {
   "cell_type": "code",
   "execution_count": 17,
   "metadata": {},
   "outputs": [
    {
     "name": "stdout",
     "output_type": "stream",
     "text": [
      "[1] \"2\"    \"Hola\"\n",
      "[1] \"FALSE\" \"Hola\" \n",
      "[1] 0 2\n"
     ]
    }
   ],
   "source": [
    "# ¿Qué tipo de vector saldrá?\n",
    "print(c(2,\"Hola\"))\n",
    "print(c(FALSE,\"Hola\"))\n",
    "print(c(FALSE,2))"
   ]
  },
  {
   "cell_type": "markdown",
   "metadata": {},
   "source": [
    "Se puede comprobar la clase del vector con las funciones:\n",
    "`is.character()`, `is.numeric()`, `is.integer()`...  \n",
    "Se puede convertir vectores de un tipo a vectores de otro tipo usando las funciones:\n",
    "`as.character()`, `as.integer()`, ...\n"
   ]
  },
  {
   "cell_type": "code",
   "execution_count": 18,
   "metadata": {},
   "outputs": [
    {
     "name": "stdout",
     "output_type": "stream",
     "text": [
      "[1] 1.1 2.2 3.3\n",
      "[1] 1 2 3\n",
      "[1] \"1\" \"2\" \"3\"\n"
     ]
    },
    {
     "data": {
      "text/html": [
       "TRUE"
      ],
      "text/latex": [
       "TRUE"
      ],
      "text/markdown": [
       "TRUE"
      ],
      "text/plain": [
       "[1] TRUE"
      ]
     },
     "metadata": {},
     "output_type": "display_data"
    }
   ],
   "source": [
    "# Ejemplo.\n",
    "r <- c(1.1,2.2,3.3)\n",
    "print(r)\n",
    "r <- as.integer(r)\n",
    "print(r)\n",
    "r <- as.character(r)\n",
    "print(r)\n",
    "is.character(r)"
   ]
  },
  {
   "cell_type": "markdown",
   "metadata": {},
   "source": [
    "---\n",
    "\n",
    "__Ejercicio.__  \n",
    "Crea un vector 'v' con una secuencia de enteros desde el 3 hasta el 10.\n",
    "Convierte 'v' a un vector de tipo caracter.\n",
    "Comprueba la clase de 'v'."
   ]
  },
  {
   "cell_type": "code",
   "execution_count": 22,
   "metadata": {},
   "outputs": [
    {
     "data": {
      "text/html": [
       "<ol class=list-inline>\n",
       "\t<li>'3'</li>\n",
       "\t<li>'4'</li>\n",
       "\t<li>'5'</li>\n",
       "\t<li>'6'</li>\n",
       "\t<li>'7'</li>\n",
       "\t<li>'8'</li>\n",
       "\t<li>'9'</li>\n",
       "\t<li>'10'</li>\n",
       "</ol>\n"
      ],
      "text/latex": [
       "\\begin{enumerate*}\n",
       "\\item '3'\n",
       "\\item '4'\n",
       "\\item '5'\n",
       "\\item '6'\n",
       "\\item '7'\n",
       "\\item '8'\n",
       "\\item '9'\n",
       "\\item '10'\n",
       "\\end{enumerate*}\n"
      ],
      "text/markdown": [
       "1. '3'\n",
       "2. '4'\n",
       "3. '5'\n",
       "4. '6'\n",
       "5. '7'\n",
       "6. '8'\n",
       "7. '9'\n",
       "8. '10'\n",
       "\n",
       "\n"
      ],
      "text/plain": [
       "[1] \"3\"  \"4\"  \"5\"  \"6\"  \"7\"  \"8\"  \"9\"  \"10\""
      ]
     },
     "metadata": {},
     "output_type": "display_data"
    },
    {
     "data": {
      "text/html": [
       "'character'"
      ],
      "text/latex": [
       "'character'"
      ],
      "text/markdown": [
       "'character'"
      ],
      "text/plain": [
       "[1] \"character\""
      ]
     },
     "metadata": {},
     "output_type": "display_data"
    },
    {
     "data": {
      "text/html": [
       "TRUE"
      ],
      "text/latex": [
       "TRUE"
      ],
      "text/markdown": [
       "TRUE"
      ],
      "text/plain": [
       "[1] TRUE"
      ]
     },
     "metadata": {},
     "output_type": "display_data"
    }
   ],
   "source": [
    "# Solución\n",
    "v <- c(seq(3,10))\n",
    "v <- as.character(v)\n",
    "v\n",
    "class(v)\n",
    "is.character(v)"
   ]
  },
  {
   "cell_type": "markdown",
   "metadata": {},
   "source": [
    "---\n",
    "\n",
    "* **Vectores lógicos**   \n",
    "    - Los vectores lógicos habitualmente resultan de operaciones lógicas.  \n",
    "    - Te indican cuáles son los valores que cumplen la expresion lógica.  \n",
    "    - Los vectores lógicos son útiles para seleccionar subvectores. "
   ]
  },
  {
   "cell_type": "code",
   "execution_count": 23,
   "metadata": {},
   "outputs": [
    {
     "name": "stdout",
     "output_type": "stream",
     "text": [
      " [1]  1  2  3  4  5  6  7  8  9 10\n",
      " [1] FALSE FALSE FALSE FALSE FALSE  TRUE  TRUE  TRUE  TRUE  TRUE\n",
      " [1] FALSE  TRUE FALSE  TRUE FALSE  TRUE FALSE  TRUE FALSE  TRUE\n",
      "[1]  2  4  6  8 10\n"
     ]
    }
   ],
   "source": [
    "x <- 1:10\n",
    "print(x)\n",
    "\n",
    "# construcción de un vector \"logical\" que indica qué elementos de x son mayores que 5 / son par\n",
    "y <- x > 5\n",
    "print(y)\n",
    "\n",
    "z <- x %% 2 == 0\n",
    "print(z)\n",
    "\n",
    "# extraemos los valores pares en un nuevo objeto\n",
    "x2 <- x[z]\n",
    "print(x2)"
   ]
  },
  {
   "cell_type": "markdown",
   "metadata": {
    "button": false,
    "new_sheet": false,
    "run_control": {
     "read_only": false
    }
   },
   "source": [
    "__Otras formas de selección y modificación de subvectores__  \n",
    "Puede seleccionar un subvector de un vector con un vector de índices entre corchetes [...]"
   ]
  },
  {
   "cell_type": "code",
   "execution_count": 24,
   "metadata": {},
   "outputs": [
    {
     "name": "stdout",
     "output_type": "stream",
     "text": [
      "[1] 10 11\n",
      "[1] 10 11\n",
      "[1] 12 13 14 15\n"
     ]
    }
   ],
   "source": [
    "x <- 10:15\n",
    "# selección por vector de índices: un vector de numeros naturales positivos.\n",
    "print(x[1:2])\n",
    "print(x[c(1,2)])\n",
    "print(x[-c(1,2)]) # excluir los dos primeros elementos"
   ]
  },
  {
   "cell_type": "code",
   "execution_count": 25,
   "metadata": {},
   "outputs": [
    {
     "name": "stdout",
     "output_type": "stream",
     "text": [
      "[1] FALSE FALSE FALSE  TRUE  TRUE  TRUE\n",
      "[1] 13 14 15\n"
     ]
    }
   ],
   "source": [
    "x <- 10:15\n",
    "# selección por vector lógico\n",
    "print(x>12)\n",
    "print(x[x>12])"
   ]
  },
  {
   "cell_type": "markdown",
   "metadata": {},
   "source": [
    "---\n",
    "\n",
    "__Ejercicio.__  \n",
    "Crea un vector con algunos de los nombres de tus amigos.  \n",
    "Obtén la longitud del vector anterior.  \n",
    "Crea un subvector con los amigos 2 y 3.  \n",
    "Ordena los nombres de tus amigos alfabéticamente.  \n",
    "Dale la vuelta al vector.\n"
   ]
  },
  {
   "cell_type": "code",
   "execution_count": 32,
   "metadata": {},
   "outputs": [
    {
     "data": {
      "text/html": [
       "3"
      ],
      "text/latex": [
       "3"
      ],
      "text/markdown": [
       "3"
      ],
      "text/plain": [
       "[1] 3"
      ]
     },
     "metadata": {},
     "output_type": "display_data"
    },
    {
     "data": {
      "text/html": [
       "<ol class=list-inline>\n",
       "\t<li>'SiMiguel SIEMPRE'</li>\n",
       "\t<li>'NoMiguel otra vez'</li>\n",
       "</ol>\n"
      ],
      "text/latex": [
       "\\begin{enumerate*}\n",
       "\\item 'SiMiguel SIEMPRE'\n",
       "\\item 'NoMiguel otra vez'\n",
       "\\end{enumerate*}\n"
      ],
      "text/markdown": [
       "1. 'SiMiguel SIEMPRE'\n",
       "2. 'NoMiguel otra vez'\n",
       "\n",
       "\n"
      ],
      "text/plain": [
       "[1] \"SiMiguel SIEMPRE\"  \"NoMiguel otra vez\""
      ]
     },
     "metadata": {},
     "output_type": "display_data"
    },
    {
     "data": {
      "text/html": [
       "<ol class=list-inline>\n",
       "\t<li>'Miguel'</li>\n",
       "\t<li>'NoMiguel otra vez'</li>\n",
       "\t<li>'SiMiguel SIEMPRE'</li>\n",
       "</ol>\n"
      ],
      "text/latex": [
       "\\begin{enumerate*}\n",
       "\\item 'Miguel'\n",
       "\\item 'NoMiguel otra vez'\n",
       "\\item 'SiMiguel SIEMPRE'\n",
       "\\end{enumerate*}\n"
      ],
      "text/markdown": [
       "1. 'Miguel'\n",
       "2. 'NoMiguel otra vez'\n",
       "3. 'SiMiguel SIEMPRE'\n",
       "\n",
       "\n"
      ],
      "text/plain": [
       "[1] \"Miguel\"            \"NoMiguel otra vez\" \"SiMiguel SIEMPRE\" "
      ]
     },
     "metadata": {},
     "output_type": "display_data"
    },
    {
     "data": {
      "text/html": [
       "<ol class=list-inline>\n",
       "\t<li>'NoMiguel otra vez'</li>\n",
       "\t<li>'SiMiguel SIEMPRE'</li>\n",
       "\t<li>'Miguel'</li>\n",
       "</ol>\n"
      ],
      "text/latex": [
       "\\begin{enumerate*}\n",
       "\\item 'NoMiguel otra vez'\n",
       "\\item 'SiMiguel SIEMPRE'\n",
       "\\item 'Miguel'\n",
       "\\end{enumerate*}\n"
      ],
      "text/markdown": [
       "1. 'NoMiguel otra vez'\n",
       "2. 'SiMiguel SIEMPRE'\n",
       "3. 'Miguel'\n",
       "\n",
       "\n"
      ],
      "text/plain": [
       "[1] \"NoMiguel otra vez\" \"SiMiguel SIEMPRE\"  \"Miguel\"           "
      ]
     },
     "metadata": {},
     "output_type": "display_data"
    }
   ],
   "source": [
    "# Solución\n",
    "enemigos <- c(\"Miguel\", \"SiMiguel SIEMPRE\", \"NoMiguel otra vez\")\n",
    "len <- length(enemigos)\n",
    "len\n",
    "enemigos_sub <- enemigos[2:3]\n",
    "enemigos_sub \n",
    "enemigos_sorted <- sort(enemigos)\n",
    "enemigos_sorted\n",
    "enemigos_rev <- rev(enemigos)\n",
    "enemigos_rev\n"
   ]
  },
  {
   "cell_type": "markdown",
   "metadata": {},
   "source": [
    "---\n",
    "\n",
    "* **Valores faltantes (missing values)**:\n",
    "    + Indicados con NA (Not Available) o NaN (Not A Number).  \n",
    "    + NaN caracteriza un valor que sale de una indeterminación matemática, por ejemplo 0/0  \n",
    "    + Los NA se pueden detectar con la función `is.na()`"
   ]
  },
  {
   "cell_type": "code",
   "execution_count": 36,
   "metadata": {},
   "outputs": [
    {
     "data": {
      "text/html": [
       "0.8"
      ],
      "text/latex": [
       "0.8"
      ],
      "text/markdown": [
       "0.8"
      ],
      "text/plain": [
       "[1] 0.8"
      ]
     },
     "metadata": {},
     "output_type": "display_data"
    },
    {
     "data": {
      "text/html": [
       "<ol class=list-inline>\n",
       "\t<li>FALSE</li>\n",
       "\t<li>FALSE</li>\n",
       "\t<li>FALSE</li>\n",
       "\t<li>FALSE</li>\n",
       "\t<li>TRUE</li>\n",
       "\t<li>FALSE</li>\n",
       "</ol>\n"
      ],
      "text/latex": [
       "\\begin{enumerate*}\n",
       "\\item FALSE\n",
       "\\item FALSE\n",
       "\\item FALSE\n",
       "\\item FALSE\n",
       "\\item TRUE\n",
       "\\item FALSE\n",
       "\\end{enumerate*}\n"
      ],
      "text/markdown": [
       "1. FALSE\n",
       "2. FALSE\n",
       "3. FALSE\n",
       "4. FALSE\n",
       "5. TRUE\n",
       "6. FALSE\n",
       "\n",
       "\n"
      ],
      "text/plain": [
       "[1] FALSE FALSE FALSE FALSE  TRUE FALSE"
      ]
     },
     "metadata": {},
     "output_type": "display_data"
    }
   ],
   "source": [
    "x <- c(-1,-2, 1, 2, NA, 4)\n",
    "mean(x, na.rm=TRUE)\n",
    "is.na(x)\n",
    "# elimina los missing values \n",
    "x <- x[(!is.na(x))]\n"
   ]
  },
  {
   "cell_type": "markdown",
   "metadata": {},
   "source": [
    "---\n",
    "\n",
    "__Ejercicio.__\n",
    "Excluye los valores faltantes y define un vector nuevo que sólo contenga valores positivos. "
   ]
  },
  {
   "cell_type": "code",
   "execution_count": 41,
   "metadata": {},
   "outputs": [
    {
     "data": {
      "text/html": [
       "<ol class=list-inline>\n",
       "\t<li>1</li>\n",
       "\t<li>2</li>\n",
       "\t<li>4</li>\n",
       "\t<li>5</li>\n",
       "</ol>\n"
      ],
      "text/latex": [
       "\\begin{enumerate*}\n",
       "\\item 1\n",
       "\\item 2\n",
       "\\item 4\n",
       "\\item 5\n",
       "\\end{enumerate*}\n"
      ],
      "text/markdown": [
       "1. 1\n",
       "2. 2\n",
       "3. 4\n",
       "4. 5\n",
       "\n",
       "\n"
      ],
      "text/plain": [
       "[1] 1 2 4 5"
      ]
     },
     "metadata": {},
     "output_type": "display_data"
    }
   ],
   "source": [
    "x <- c(-5,-4,-3,-2,-1, NA, 1, 2, NA, 4,5)\n",
    "# Solución\n",
    "y <- x[(!is.na(x))&x>0]\n",
    "y"
   ]
  },
  {
   "cell_type": "markdown",
   "metadata": {
    "button": false,
    "new_sheet": false,
    "run_control": {
     "read_only": false
    }
   },
   "source": [
    "---\n",
    "\n",
    "## Matrices"
   ]
  },
  {
   "cell_type": "markdown",
   "metadata": {},
   "source": [
    "* Las matrices son generalizaciones bidimensionales de los vectores. \n",
    "* Se pueden crear con la función `matrix()`\n",
    "* Se caracterizan por filas y columnas.  \n",
    "* Se imprimen por pantalla de modo especial.  \n",
    "* Llevan por defecto un atributo: `dim`, al cual se puede acceder con las funciones `attributes()` y `dim()`\n",
    "* Se pueden añadir otros atributos: `names`, `row.names`, `col.names`... \n",
    "\n",
    "Funciones utilizadas frecuentemente:\n",
    "`t()`, `diag()`, `det()`, `inv()`"
   ]
  },
  {
   "cell_type": "markdown",
   "metadata": {},
   "source": [
    "---\n",
    "\n",
    "**Ejercicio**. utiliza las funciones `t()`, `diag()`,  `det()`, `inv()` con la matriz que se proporciona a continuación (objeto `mat`). ¿Qué hace cada una de estas funciones?"
   ]
  },
  {
   "cell_type": "code",
   "execution_count": 44,
   "metadata": {},
   "outputs": [
    {
     "data": {
      "text/html": [
       "<table>\n",
       "<tbody>\n",
       "\t<tr><td>1</td><td>4</td><td>7</td></tr>\n",
       "\t<tr><td>2</td><td>5</td><td>8</td></tr>\n",
       "\t<tr><td>3</td><td>6</td><td>9</td></tr>\n",
       "</tbody>\n",
       "</table>\n"
      ],
      "text/latex": [
       "\\begin{tabular}{lll}\n",
       "\t 1 & 4 & 7\\\\\n",
       "\t 2 & 5 & 8\\\\\n",
       "\t 3 & 6 & 9\\\\\n",
       "\\end{tabular}\n"
      ],
      "text/markdown": [
       "\n",
       "| 1 | 4 | 7 | \n",
       "| 2 | 5 | 8 | \n",
       "| 3 | 6 | 9 | \n",
       "\n",
       "\n"
      ],
      "text/plain": [
       "     [,1] [,2] [,3]\n",
       "[1,] 1    4    7   \n",
       "[2,] 2    5    8   \n",
       "[3,] 3    6    9   "
      ]
     },
     "metadata": {},
     "output_type": "display_data"
    },
    {
     "data": {
      "text/html": [
       "<table>\n",
       "<tbody>\n",
       "\t<tr><td>1</td><td>2</td><td>3</td></tr>\n",
       "\t<tr><td>4</td><td>5</td><td>6</td></tr>\n",
       "\t<tr><td>7</td><td>8</td><td>9</td></tr>\n",
       "</tbody>\n",
       "</table>\n"
      ],
      "text/latex": [
       "\\begin{tabular}{lll}\n",
       "\t 1 & 2 & 3\\\\\n",
       "\t 4 & 5 & 6\\\\\n",
       "\t 7 & 8 & 9\\\\\n",
       "\\end{tabular}\n"
      ],
      "text/markdown": [
       "\n",
       "| 1 | 2 | 3 | \n",
       "| 4 | 5 | 6 | \n",
       "| 7 | 8 | 9 | \n",
       "\n",
       "\n"
      ],
      "text/plain": [
       "     [,1] [,2] [,3]\n",
       "[1,] 1    2    3   \n",
       "[2,] 4    5    6   \n",
       "[3,] 7    8    9   "
      ]
     },
     "metadata": {},
     "output_type": "display_data"
    },
    {
     "data": {
      "text/html": [
       "<ol class=list-inline>\n",
       "\t<li>1</li>\n",
       "\t<li>5</li>\n",
       "\t<li>9</li>\n",
       "</ol>\n"
      ],
      "text/latex": [
       "\\begin{enumerate*}\n",
       "\\item 1\n",
       "\\item 5\n",
       "\\item 9\n",
       "\\end{enumerate*}\n"
      ],
      "text/markdown": [
       "1. 1\n",
       "2. 5\n",
       "3. 9\n",
       "\n",
       "\n"
      ],
      "text/plain": [
       "[1] 1 5 9"
      ]
     },
     "metadata": {},
     "output_type": "display_data"
    },
    {
     "data": {
      "text/html": [
       "0"
      ],
      "text/latex": [
       "0"
      ],
      "text/markdown": [
       "0"
      ],
      "text/plain": [
       "[1] 0"
      ]
     },
     "metadata": {},
     "output_type": "display_data"
    },
    {
     "ename": "ERROR",
     "evalue": "Error in inv(mat): could not find function \"inv\"\n",
     "output_type": "error",
     "traceback": [
      "Error in inv(mat): could not find function \"inv\"\nTraceback:\n"
     ]
    }
   ],
   "source": [
    "# Solución\n",
    "mat <- matrix(1:9, ncol = 3)\n",
    "mat\n",
    "t(mat) #Traspone\n",
    "diag(mat) #Imprime la diagonal\n",
    "det(mat) #Imprime el determinante\n",
    "inv(mat)  #Imprime la inversa de la matriz --> da error porque el det es cero"
   ]
  },
  {
   "cell_type": "markdown",
   "metadata": {},
   "source": [
    "---\n",
    "\n",
    "Crear una matriz vacia:  "
   ]
  },
  {
   "cell_type": "code",
   "execution_count": 45,
   "metadata": {},
   "outputs": [
    {
     "name": "stdout",
     "output_type": "stream",
     "text": [
      "     [,1] [,2] [,3]\n",
      "[1,]   NA   NA   NA\n",
      "[2,]   NA   NA   NA\n"
     ]
    },
    {
     "data": {
      "text/html": [
       "<ol class=list-inline>\n",
       "\t<li>2</li>\n",
       "\t<li>3</li>\n",
       "</ol>\n"
      ],
      "text/latex": [
       "\\begin{enumerate*}\n",
       "\\item 2\n",
       "\\item 3\n",
       "\\end{enumerate*}\n"
      ],
      "text/markdown": [
       "1. 2\n",
       "2. 3\n",
       "\n",
       "\n"
      ],
      "text/plain": [
       "[1] 2 3"
      ]
     },
     "metadata": {},
     "output_type": "display_data"
    }
   ],
   "source": [
    "# Crear una matriz vacía de 2x3 \n",
    "m1 <- matrix(nrow = 2, ncol = 3)\n",
    "print(m1)\n",
    "dim(m1)"
   ]
  },
  {
   "cell_type": "markdown",
   "metadata": {},
   "source": [
    "Crear una matriz numérica"
   ]
  },
  {
   "cell_type": "code",
   "execution_count": 46,
   "metadata": {},
   "outputs": [
    {
     "name": "stdout",
     "output_type": "stream",
     "text": [
      "     [,1] [,2] [,3]\n",
      "[1,]    1    3    5\n",
      "[2,]    2    4    6\n",
      " int [1:2, 1:3] 1 2 3 4 5 6\n"
     ]
    }
   ],
   "source": [
    "m2 <- matrix(1:6, nrow=2, ncol =3)\n",
    "print(m2)\n",
    "str(m2)"
   ]
  },
  {
   "cell_type": "markdown",
   "metadata": {},
   "source": [
    "Crear una matriz a partir de un vector"
   ]
  },
  {
   "cell_type": "code",
   "execution_count": 47,
   "metadata": {},
   "outputs": [
    {
     "name": "stdout",
     "output_type": "stream",
     "text": [
      "     [,1] [,2] [,3] [,4] [,5]\n",
      "[1,]    1    3    5    7    9\n",
      "[2,]    2    4    6    8   10\n"
     ]
    }
   ],
   "source": [
    "m3 <- 1:10\n",
    "dim(m3) <- c(2,5) # establecer dimensiones: dos filas, 5 columnas\n",
    "print(m3)"
   ]
  },
  {
   "cell_type": "markdown",
   "metadata": {},
   "source": [
    "Crear una matriz por concatenación de vectores de igual longitud.\n",
    "* por columnas: `cbind()`\n",
    "* por filas: `rbind()`"
   ]
  },
  {
   "cell_type": "code",
   "execution_count": 48,
   "metadata": {},
   "outputs": [
    {
     "name": "stdout",
     "output_type": "stream",
     "text": [
      "     x  y\n",
      "[1,] 1 10\n",
      "[2,] 2 11\n",
      "[3,] 3 12\n",
      "  [,1] [,2] [,3]\n",
      "x    1    2    3\n",
      "y   10   11   12\n"
     ]
    }
   ],
   "source": [
    "# cbind(arg 1, arg 2, arg 3, ...)\n",
    "x <- 1:3\n",
    "y <- 10:12\n",
    "z1 <- cbind(x,y)\n",
    "print(z1)\n",
    "# or\n",
    "z2 <- rbind(x,y)\n",
    "print(z2)"
   ]
  },
  {
   "cell_type": "markdown",
   "metadata": {},
   "source": [
    "### Operadores aritméticos básicos con matrices.  \n",
    "* Se aplican a cada elemento"
   ]
  },
  {
   "cell_type": "code",
   "execution_count": 49,
   "metadata": {},
   "outputs": [
    {
     "data": {
      "text/html": [
       "<table>\n",
       "<tbody>\n",
       "\t<tr><td>1</td><td>2</td></tr>\n",
       "\t<tr><td>3</td><td>4</td></tr>\n",
       "</tbody>\n",
       "</table>\n"
      ],
      "text/latex": [
       "\\begin{tabular}{ll}\n",
       "\t 1 & 2\\\\\n",
       "\t 3 & 4\\\\\n",
       "\\end{tabular}\n"
      ],
      "text/markdown": [
       "\n",
       "| 1 | 2 | \n",
       "| 3 | 4 | \n",
       "\n",
       "\n"
      ],
      "text/plain": [
       "     [,1] [,2]\n",
       "[1,] 1    2   \n",
       "[2,] 3    4   "
      ]
     },
     "metadata": {},
     "output_type": "display_data"
    }
   ],
   "source": [
    "M <- matrix(c(1,2,3,4), nrow = 2, byrow = TRUE)\n",
    "M"
   ]
  },
  {
   "cell_type": "code",
   "execution_count": 26,
   "metadata": {},
   "outputs": [
    {
     "data": {
      "text/html": [
       "<table>\n",
       "<tbody>\n",
       "\t<tr><td>3</td><td>4</td></tr>\n",
       "\t<tr><td>5</td><td>6</td></tr>\n",
       "</tbody>\n",
       "</table>\n"
      ],
      "text/latex": [
       "\\begin{tabular}{ll}\n",
       "\t 3 & 4\\\\\n",
       "\t 5 & 6\\\\\n",
       "\\end{tabular}\n"
      ],
      "text/markdown": [
       "\n",
       "| 3 | 4 | \n",
       "| 5 | 6 | \n",
       "\n",
       "\n"
      ],
      "text/plain": [
       "     [,1] [,2]\n",
       "[1,] 3    4   \n",
       "[2,] 5    6   "
      ]
     },
     "metadata": {},
     "output_type": "display_data"
    }
   ],
   "source": [
    "M+2 # suma el 2 a cada elemento de la matriz M"
   ]
  },
  {
   "cell_type": "markdown",
   "metadata": {},
   "source": [
    "Si a una matriz se le suma un vector cuya longitud sea igual al número de filas de la matriz, se obtiene como resultado una nueva matriz cuyas columnas son la suma de las columnas de la matriz original más dicho vector."
   ]
  },
  {
   "cell_type": "code",
   "execution_count": 51,
   "metadata": {},
   "outputs": [
    {
     "data": {
      "text/html": [
       "<table>\n",
       "<tbody>\n",
       "\t<tr><td>4</td><td>5</td></tr>\n",
       "\t<tr><td>7</td><td>8</td></tr>\n",
       "</tbody>\n",
       "</table>\n"
      ],
      "text/latex": [
       "\\begin{tabular}{ll}\n",
       "\t 4 & 5\\\\\n",
       "\t 7 & 8\\\\\n",
       "\\end{tabular}\n"
      ],
      "text/markdown": [
       "\n",
       "| 4 | 5 | \n",
       "| 7 | 8 | \n",
       "\n",
       "\n"
      ],
      "text/plain": [
       "     [,1] [,2]\n",
       "[1,] 4    5   \n",
       "[2,] 7    8   "
      ]
     },
     "metadata": {},
     "output_type": "display_data"
    }
   ],
   "source": [
    "v <- c(3,4)\n",
    "M+v"
   ]
  },
  {
   "cell_type": "markdown",
   "metadata": {},
   "source": [
    "---\n",
    "\n",
    "__Ejercicio.__\n",
    "Descubra lo que ocurre con la diferencia, la multiplicación y la división de una matriz y un vector."
   ]
  },
  {
   "cell_type": "markdown",
   "metadata": {},
   "source": [
    "La suma o resta de matrices de la misma dimensión se realiza con los operadores `+` y `-`.   \n",
    "El producto de matrices (siempre que sean compatibles) se realiza con el símbolo `%*%`."
   ]
  },
  {
   "cell_type": "code",
   "execution_count": 56,
   "metadata": {},
   "outputs": [
    {
     "data": {
      "text/html": [
       "<table>\n",
       "<tbody>\n",
       "\t<tr><td>2</td><td>4</td></tr>\n",
       "\t<tr><td>6</td><td>8</td></tr>\n",
       "</tbody>\n",
       "</table>\n"
      ],
      "text/latex": [
       "\\begin{tabular}{ll}\n",
       "\t 2 & 4\\\\\n",
       "\t 6 & 8\\\\\n",
       "\\end{tabular}\n"
      ],
      "text/markdown": [
       "\n",
       "| 2 | 4 | \n",
       "| 6 | 8 | \n",
       "\n",
       "\n"
      ],
      "text/plain": [
       "     [,1] [,2]\n",
       "[1,] 2    4   \n",
       "[2,] 6    8   "
      ]
     },
     "metadata": {},
     "output_type": "display_data"
    }
   ],
   "source": [
    "M+M"
   ]
  },
  {
   "cell_type": "code",
   "execution_count": 57,
   "metadata": {},
   "outputs": [
    {
     "data": {
      "text/html": [
       "<table>\n",
       "<tbody>\n",
       "\t<tr><td>0</td><td>0</td></tr>\n",
       "\t<tr><td>0</td><td>0</td></tr>\n",
       "</tbody>\n",
       "</table>\n"
      ],
      "text/latex": [
       "\\begin{tabular}{ll}\n",
       "\t 0 & 0\\\\\n",
       "\t 0 & 0\\\\\n",
       "\\end{tabular}\n"
      ],
      "text/markdown": [
       "\n",
       "| 0 | 0 | \n",
       "| 0 | 0 | \n",
       "\n",
       "\n"
      ],
      "text/plain": [
       "     [,1] [,2]\n",
       "[1,] 0    0   \n",
       "[2,] 0    0   "
      ]
     },
     "metadata": {},
     "output_type": "display_data"
    }
   ],
   "source": [
    "M-M"
   ]
  },
  {
   "cell_type": "code",
   "execution_count": 58,
   "metadata": {},
   "outputs": [
    {
     "data": {
      "text/html": [
       "<table>\n",
       "<tbody>\n",
       "\t<tr><td> 7</td><td>10</td></tr>\n",
       "\t<tr><td>15</td><td>22</td></tr>\n",
       "</tbody>\n",
       "</table>\n"
      ],
      "text/latex": [
       "\\begin{tabular}{ll}\n",
       "\t  7 & 10\\\\\n",
       "\t 15 & 22\\\\\n",
       "\\end{tabular}\n"
      ],
      "text/markdown": [
       "\n",
       "|  7 | 10 | \n",
       "| 15 | 22 | \n",
       "\n",
       "\n"
      ],
      "text/plain": [
       "     [,1] [,2]\n",
       "[1,]  7   10  \n",
       "[2,] 15   22  "
      ]
     },
     "metadata": {},
     "output_type": "display_data"
    }
   ],
   "source": [
    "M%*%M"
   ]
  },
  {
   "cell_type": "markdown",
   "metadata": {},
   "source": [
    "Se debe tener cuidado con la multiplicación de matrices"
   ]
  },
  {
   "cell_type": "code",
   "execution_count": 61,
   "metadata": {},
   "outputs": [
    {
     "name": "stdout",
     "output_type": "stream",
     "text": [
      "     [,1] [,2]\n",
      "[1,]    1    4\n",
      "[2,]    9   16\n",
      "     [,1] [,2]\n",
      "[1,]    7   10\n",
      "[2,]   15   22\n"
     ]
    }
   ],
   "source": [
    "print(M*M)    # multiplicación por cada elemento\n",
    "print(M%*%M)  # multiplicación de matrices"
   ]
  },
  {
   "cell_type": "markdown",
   "metadata": {},
   "source": [
    "---\n",
    "\n",
    "Seleccionar elementos por índices"
   ]
  },
  {
   "cell_type": "code",
   "execution_count": 62,
   "metadata": {},
   "outputs": [
    {
     "name": "stdout",
     "output_type": "stream",
     "text": [
      "     [,1] [,2] [,3]\n",
      "[1,]    1    2    3\n",
      "[2,]    4    5    6\n",
      "[3,]    7    8    9\n"
     ]
    },
    {
     "data": {
      "text/html": [
       "6"
      ],
      "text/latex": [
       "6"
      ],
      "text/markdown": [
       "6"
      ],
      "text/plain": [
       "[1] 6"
      ]
     },
     "metadata": {},
     "output_type": "display_data"
    },
    {
     "data": {
      "text/html": [
       "<ol class=list-inline>\n",
       "\t<li>4</li>\n",
       "\t<li>5</li>\n",
       "\t<li>6</li>\n",
       "</ol>\n"
      ],
      "text/latex": [
       "\\begin{enumerate*}\n",
       "\\item 4\n",
       "\\item 5\n",
       "\\item 6\n",
       "\\end{enumerate*}\n"
      ],
      "text/markdown": [
       "1. 4\n",
       "2. 5\n",
       "3. 6\n",
       "\n",
       "\n"
      ],
      "text/plain": [
       "[1] 4 5 6"
      ]
     },
     "metadata": {},
     "output_type": "display_data"
    },
    {
     "data": {
      "text/html": [
       "<ol class=list-inline>\n",
       "\t<li>3</li>\n",
       "\t<li>6</li>\n",
       "\t<li>9</li>\n",
       "</ol>\n"
      ],
      "text/latex": [
       "\\begin{enumerate*}\n",
       "\\item 3\n",
       "\\item 6\n",
       "\\item 9\n",
       "\\end{enumerate*}\n"
      ],
      "text/markdown": [
       "1. 3\n",
       "2. 6\n",
       "3. 9\n",
       "\n",
       "\n"
      ],
      "text/plain": [
       "[1] 3 6 9"
      ]
     },
     "metadata": {},
     "output_type": "display_data"
    },
    {
     "data": {
      "text/html": [
       "<ol class=list-inline>\n",
       "\t<li>2</li>\n",
       "\t<li>3</li>\n",
       "</ol>\n"
      ],
      "text/latex": [
       "\\begin{enumerate*}\n",
       "\\item 2\n",
       "\\item 3\n",
       "\\end{enumerate*}\n"
      ],
      "text/markdown": [
       "1. 2\n",
       "2. 3\n",
       "\n",
       "\n"
      ],
      "text/plain": [
       "[1] 2 3"
      ]
     },
     "metadata": {},
     "output_type": "display_data"
    }
   ],
   "source": [
    "m <- matrix(1:9, nrow = 3, ncol = 3, byrow = TRUE)\n",
    "print(m)\n",
    "#selección del valor de la fila 2, columna 3\n",
    "m[2,3]\n",
    "#selección de la fila 2 completa\n",
    "m[2,] \n",
    "#selección la columna 3 completa\n",
    "m[,3]\n",
    "#selección del segundo y tercer valor de la fila 1\n",
    "m[1,2:3] "
   ]
  },
  {
   "cell_type": "markdown",
   "metadata": {},
   "source": [
    "---\n",
    "\n",
    "__Ejercicio.__  \n",
    "Crea un vector con 12 enteros.  \n",
    "Convierta el vector a una matriz B de 4 * 3 utilizando la `matrix()`.  \n",
    "Cambie los nombres de las columnas a x, y, z y los nombres de las filas a a, b, c, d.  \n",
    "Extraer una submatriz de B llamado subB. Debe ser una matriz de 3 × 3 que incluya las últimas tres filas de la matriz B y sus columnas correspondientes.\n"
   ]
  },
  {
   "cell_type": "code",
   "execution_count": 68,
   "metadata": {},
   "outputs": [
    {
     "data": {
      "text/html": [
       "<table>\n",
       "<tbody>\n",
       "\t<tr><td>1 </td><td>7 </td><td> 4</td></tr>\n",
       "\t<tr><td>2 </td><td>6 </td><td> 5</td></tr>\n",
       "\t<tr><td>9 </td><td>3 </td><td> 9</td></tr>\n",
       "\t<tr><td>5 </td><td>8 </td><td>15</td></tr>\n",
       "</tbody>\n",
       "</table>\n"
      ],
      "text/latex": [
       "\\begin{tabular}{lll}\n",
       "\t 1  & 7  &  4\\\\\n",
       "\t 2  & 6  &  5\\\\\n",
       "\t 9  & 3  &  9\\\\\n",
       "\t 5  & 8  & 15\\\\\n",
       "\\end{tabular}\n"
      ],
      "text/markdown": [
       "\n",
       "| 1  | 7  |  4 | \n",
       "| 2  | 6  |  5 | \n",
       "| 9  | 3  |  9 | \n",
       "| 5  | 8  | 15 | \n",
       "\n",
       "\n"
      ],
      "text/plain": [
       "     [,1] [,2] [,3]\n",
       "[1,] 1    7     4  \n",
       "[2,] 2    6     5  \n",
       "[3,] 9    3     9  \n",
       "[4,] 5    8    15  "
      ]
     },
     "metadata": {},
     "output_type": "display_data"
    },
    {
     "data": {
      "text/html": [
       "<table>\n",
       "<thead><tr><th></th><th scope=col>x</th><th scope=col>y</th><th scope=col>z</th></tr></thead>\n",
       "<tbody>\n",
       "\t<tr><th scope=row>a</th><td>1 </td><td>7 </td><td> 4</td></tr>\n",
       "\t<tr><th scope=row>b</th><td>2 </td><td>6 </td><td> 5</td></tr>\n",
       "\t<tr><th scope=row>c</th><td>9 </td><td>3 </td><td> 9</td></tr>\n",
       "\t<tr><th scope=row>d</th><td>5 </td><td>8 </td><td>15</td></tr>\n",
       "</tbody>\n",
       "</table>\n"
      ],
      "text/latex": [
       "\\begin{tabular}{r|lll}\n",
       "  & x & y & z\\\\\n",
       "\\hline\n",
       "\ta & 1  & 7  &  4\\\\\n",
       "\tb & 2  & 6  &  5\\\\\n",
       "\tc & 9  & 3  &  9\\\\\n",
       "\td & 5  & 8  & 15\\\\\n",
       "\\end{tabular}\n"
      ],
      "text/markdown": [
       "\n",
       "| <!--/--> | x | y | z | \n",
       "|---|---|---|---|\n",
       "| a | 1  | 7  |  4 | \n",
       "| b | 2  | 6  |  5 | \n",
       "| c | 9  | 3  |  9 | \n",
       "| d | 5  | 8  | 15 | \n",
       "\n",
       "\n"
      ],
      "text/plain": [
       "  x y z \n",
       "a 1 7  4\n",
       "b 2 6  5\n",
       "c 9 3  9\n",
       "d 5 8 15"
      ]
     },
     "metadata": {},
     "output_type": "display_data"
    },
    {
     "data": {
      "text/html": [
       "<table>\n",
       "<thead><tr><th></th><th scope=col>x</th><th scope=col>y</th><th scope=col>z</th></tr></thead>\n",
       "<tbody>\n",
       "\t<tr><th scope=row>b</th><td>2 </td><td>6 </td><td> 5</td></tr>\n",
       "\t<tr><th scope=row>c</th><td>9 </td><td>3 </td><td> 9</td></tr>\n",
       "\t<tr><th scope=row>d</th><td>5 </td><td>8 </td><td>15</td></tr>\n",
       "</tbody>\n",
       "</table>\n"
      ],
      "text/latex": [
       "\\begin{tabular}{r|lll}\n",
       "  & x & y & z\\\\\n",
       "\\hline\n",
       "\tb & 2  & 6  &  5\\\\\n",
       "\tc & 9  & 3  &  9\\\\\n",
       "\td & 5  & 8  & 15\\\\\n",
       "\\end{tabular}\n"
      ],
      "text/markdown": [
       "\n",
       "| <!--/--> | x | y | z | \n",
       "|---|---|---|\n",
       "| b | 2  | 6  |  5 | \n",
       "| c | 9  | 3  |  9 | \n",
       "| d | 5  | 8  | 15 | \n",
       "\n",
       "\n"
      ],
      "text/plain": [
       "  x y z \n",
       "b 2 6  5\n",
       "c 9 3  9\n",
       "d 5 8 15"
      ]
     },
     "metadata": {},
     "output_type": "display_data"
    }
   ],
   "source": [
    "# Solución\n",
    "v <- c(1,2,9,5,7,6,3,8,4,5,9,15)\n",
    "B <- matrix(v, nrow=4, ncol=3)\n",
    "B \n",
    "colnames(B) = c('x', 'y', 'z')\n",
    "rownames(B) = c('a', 'b', 'c', 'd')\n",
    "B\n",
    "subB <- B[2:4,]\n",
    "subB\n"
   ]
  },
  {
   "cell_type": "markdown",
   "metadata": {},
   "source": [
    "---\n",
    "\n",
    "**Selecionar elementos**: selecionar por vectores lógicos o con la función `which()`"
   ]
  },
  {
   "cell_type": "code",
   "execution_count": 70,
   "metadata": {},
   "outputs": [
    {
     "name": "stdout",
     "output_type": "stream",
     "text": [
      "     [,1] [,2] [,3]\n",
      "[1,]    1    2    3\n",
      "[2,]    4    5    6\n",
      "[3,]    7    8    9\n",
      "     [,1] [,2] [,3]\n",
      "[1,]    1    0    3\n",
      "[2,]    0    5    0\n",
      "[3,]    7    0    9\n"
     ]
    }
   ],
   "source": [
    "m <- matrix(1:9, nrow = 3, ncol = 3, byrow = TRUE)\n",
    "print(m)\n",
    "m[m%%2 == 0] <- 0\n",
    "print(m)"
   ]
  },
  {
   "cell_type": "code",
   "execution_count": 72,
   "metadata": {},
   "outputs": [
    {
     "name": "stdout",
     "output_type": "stream",
     "text": [
      "     [,1] [,2] [,3]\n",
      "[1,]    1    2    3\n",
      "[2,]    4    5    6\n",
      "[3,]    7    8    9\n",
      "     row col\n",
      "[1,]   2   1\n",
      "[2,]   1   2\n",
      "[3,]   3   2\n",
      "[4,]   2   3\n",
      "     [,1] [,2] [,3]\n",
      "[1,]    1    0    3\n",
      "[2,]    0    5    0\n",
      "[3,]    7    0    9\n"
     ]
    }
   ],
   "source": [
    "m <- matrix(1:9, nrow = 3, ncol = 3, byrow = TRUE)\n",
    "print(m)\n",
    "ind <- which(m%%2 == 0, arr.ind = TRUE) # devuelve los índices de los elementos par\n",
    "print(ind)\n",
    "m[ind] <- 0 # convierte los elementos de los índices indicados a 0\n",
    "print(m)"
   ]
  },
  {
   "cell_type": "markdown",
   "metadata": {
    "button": false,
    "new_sheet": false,
    "run_control": {
     "read_only": false
    }
   },
   "source": [
    "## Arrays\n",
    "Una variable indexada (array) es una colección de datos, por ejemplo numéricos, indexada por varios ı́ndices.\n",
    "Los arrays son generalizaciones multi-dimensionales de los vectores."
   ]
  },
  {
   "cell_type": "markdown",
   "metadata": {},
   "source": [
    "Creación: la funcion `array()`"
   ]
  },
  {
   "cell_type": "code",
   "execution_count": 73,
   "metadata": {},
   "outputs": [
    {
     "name": "stdout",
     "output_type": "stream",
     "text": [
      ", , 1\n",
      "\n",
      "     [,1] [,2] [,3]\n",
      "[1,]    1    3    5\n",
      "[2,]    2    4    6\n",
      "\n",
      ", , 2\n",
      "\n",
      "     [,1] [,2] [,3]\n",
      "[1,]    7    9   11\n",
      "[2,]    8   10   12\n",
      "\n",
      ", , 3\n",
      "\n",
      "     [,1] [,2] [,3]\n",
      "[1,]   13   15   17\n",
      "[2,]   14   16   18\n",
      "\n",
      ", , 4\n",
      "\n",
      "     [,1] [,2] [,3]\n",
      "[1,]   19   21   23\n",
      "[2,]   20   22   24\n",
      "\n"
     ]
    }
   ],
   "source": [
    "a <- array(1:24, dim = c(2,3,4))\n",
    "print(a)"
   ]
  },
  {
   "cell_type": "markdown",
   "metadata": {},
   "source": [
    "Creación utilizando la funcion `dim()`"
   ]
  },
  {
   "cell_type": "code",
   "execution_count": 74,
   "metadata": {},
   "outputs": [
    {
     "name": "stdout",
     "output_type": "stream",
     "text": [
      ", , 1\n",
      "\n",
      "     [,1] [,2] [,3]\n",
      "[1,]    1    3    5\n",
      "[2,]    2    4    6\n",
      "\n",
      ", , 2\n",
      "\n",
      "     [,1] [,2] [,3]\n",
      "[1,]    7    9   11\n",
      "[2,]    8   10   12\n",
      "\n",
      ", , 3\n",
      "\n",
      "     [,1] [,2] [,3]\n",
      "[1,]   13   15   17\n",
      "[2,]   14   16   18\n",
      "\n",
      ", , 4\n",
      "\n",
      "     [,1] [,2] [,3]\n",
      "[1,]   19   21   23\n",
      "[2,]   20   22   24\n",
      "\n"
     ]
    },
    {
     "data": {
      "text/html": [
       "<ol class=list-inline>\n",
       "\t<li>2</li>\n",
       "\t<li>3</li>\n",
       "\t<li>4</li>\n",
       "</ol>\n"
      ],
      "text/latex": [
       "\\begin{enumerate*}\n",
       "\\item 2\n",
       "\\item 3\n",
       "\\item 4\n",
       "\\end{enumerate*}\n"
      ],
      "text/markdown": [
       "1. 2\n",
       "2. 3\n",
       "3. 4\n",
       "\n",
       "\n"
      ],
      "text/plain": [
       "[1] 2 3 4"
      ]
     },
     "metadata": {},
     "output_type": "display_data"
    },
    {
     "data": {
      "text/html": [
       "'array'"
      ],
      "text/latex": [
       "'array'"
      ],
      "text/markdown": [
       "'array'"
      ],
      "text/plain": [
       "[1] \"array\""
      ]
     },
     "metadata": {},
     "output_type": "display_data"
    }
   ],
   "source": [
    "x <- c(1:24)\n",
    "dim(x) <- c(2,3,4) \n",
    "print(x)\n",
    "dim(x)\n",
    "class(x)"
   ]
  },
  {
   "cell_type": "markdown",
   "metadata": {},
   "source": [
    "Selección de los elementos por índices"
   ]
  },
  {
   "cell_type": "code",
   "execution_count": 76,
   "metadata": {},
   "outputs": [
    {
     "data": {
      "text/html": [
       "1"
      ],
      "text/latex": [
       "1"
      ],
      "text/markdown": [
       "1"
      ],
      "text/plain": [
       "[1] 1"
      ]
     },
     "metadata": {},
     "output_type": "display_data"
    },
    {
     "data": {
      "text/html": [
       "<table>\n",
       "<tbody>\n",
       "\t<tr><td>1</td><td>3</td><td>5</td></tr>\n",
       "\t<tr><td>2</td><td>4</td><td>6</td></tr>\n",
       "</tbody>\n",
       "</table>\n"
      ],
      "text/latex": [
       "\\begin{tabular}{lll}\n",
       "\t 1 & 3 & 5\\\\\n",
       "\t 2 & 4 & 6\\\\\n",
       "\\end{tabular}\n"
      ],
      "text/markdown": [
       "\n",
       "| 1 | 3 | 5 | \n",
       "| 2 | 4 | 6 | \n",
       "\n",
       "\n"
      ],
      "text/plain": [
       "     [,1] [,2] [,3]\n",
       "[1,] 1    3    5   \n",
       "[2,] 2    4    6   "
      ]
     },
     "metadata": {},
     "output_type": "display_data"
    },
    {
     "data": {
      "text/html": [
       "<ol class=list-inline>\n",
       "\t<li>3</li>\n",
       "\t<li>4</li>\n",
       "</ol>\n"
      ],
      "text/latex": [
       "\\begin{enumerate*}\n",
       "\\item 3\n",
       "\\item 4\n",
       "\\end{enumerate*}\n"
      ],
      "text/markdown": [
       "1. 3\n",
       "2. 4\n",
       "\n",
       "\n"
      ],
      "text/plain": [
       "[1] 3 4"
      ]
     },
     "metadata": {},
     "output_type": "display_data"
    }
   ],
   "source": [
    "z <- a\n",
    "z[1,1,1]\n",
    "z[,,1]\n",
    "z[,2,1]"
   ]
  },
  {
   "cell_type": "markdown",
   "metadata": {},
   "source": [
    "### Factores\n",
    "Un factor es un vector utilizado para especificar una clasificación discreta de los elementos de otro vector de igual longitud.\n",
    "* Un factor lleva dos atributos: levels y class, a los cuales se puede acceder mediante `levels()` y `class()`"
   ]
  },
  {
   "cell_type": "markdown",
   "metadata": {},
   "source": [
    "Creación de un factor: la funcion `factor()`"
   ]
  },
  {
   "cell_type": "code",
   "execution_count": 79,
   "metadata": {},
   "outputs": [
    {
     "data": {
      "text/html": [
       "'character'"
      ],
      "text/latex": [
       "'character'"
      ],
      "text/markdown": [
       "'character'"
      ],
      "text/plain": [
       "[1] \"character\""
      ]
     },
     "metadata": {},
     "output_type": "display_data"
    },
    {
     "name": "stdout",
     "output_type": "stream",
     "text": [
      "[1] San Tor Ovi Ovi San Ovi San Tor Ovi\n",
      "Levels: Ovi San Tor\n"
     ]
    },
    {
     "data": {
      "text/html": [
       "'factor'"
      ],
      "text/latex": [
       "'factor'"
      ],
      "text/markdown": [
       "'factor'"
      ],
      "text/plain": [
       "[1] \"factor\""
      ]
     },
     "metadata": {},
     "output_type": "display_data"
    }
   ],
   "source": [
    "ciudades <- c(\"San\",\"Tor\",\"Ovi\",\"Ovi\",\"San\",\"Ovi\",\"San\",\"Tor\",\"Ovi\")\n",
    "class(ciudades)\n",
    "ciudadesf <- factor(ciudades)\n",
    "print(ciudadesf)\n",
    "class(ciudadesf)"
   ]
  },
  {
   "cell_type": "code",
   "execution_count": 82,
   "metadata": {},
   "outputs": [
    {
     "data": {
      "text/html": [
       "<dl>\n",
       "\t<dt>$levels</dt>\n",
       "\t\t<dd><ol class=list-inline>\n",
       "\t<li>'Ovi'</li>\n",
       "\t<li>'San'</li>\n",
       "\t<li>'Tor'</li>\n",
       "</ol>\n",
       "</dd>\n",
       "\t<dt>$class</dt>\n",
       "\t\t<dd>'factor'</dd>\n",
       "</dl>\n"
      ],
      "text/latex": [
       "\\begin{description}\n",
       "\\item[\\$levels] \\begin{enumerate*}\n",
       "\\item 'Ovi'\n",
       "\\item 'San'\n",
       "\\item 'Tor'\n",
       "\\end{enumerate*}\n",
       "\n",
       "\\item[\\$class] 'factor'\n",
       "\\end{description}\n"
      ],
      "text/markdown": [
       "$levels\n",
       ":   1. 'Ovi'\n",
       "2. 'San'\n",
       "3. 'Tor'\n",
       "\n",
       "\n",
       "\n",
       "$class\n",
       ":   'factor'\n",
       "\n",
       "\n"
      ],
      "text/plain": [
       "$levels\n",
       "[1] \"Ovi\" \"San\" \"Tor\"\n",
       "\n",
       "$class\n",
       "[1] \"factor\"\n"
      ]
     },
     "metadata": {},
     "output_type": "display_data"
    },
    {
     "data": {
      "text/html": [
       "<ol class=list-inline>\n",
       "\t<li>'Ovi'</li>\n",
       "\t<li>'San'</li>\n",
       "\t<li>'Tor'</li>\n",
       "</ol>\n"
      ],
      "text/latex": [
       "\\begin{enumerate*}\n",
       "\\item 'Ovi'\n",
       "\\item 'San'\n",
       "\\item 'Tor'\n",
       "\\end{enumerate*}\n"
      ],
      "text/markdown": [
       "1. 'Ovi'\n",
       "2. 'San'\n",
       "3. 'Tor'\n",
       "\n",
       "\n"
      ],
      "text/plain": [
       "[1] \"Ovi\" \"San\" \"Tor\""
      ]
     },
     "metadata": {},
     "output_type": "display_data"
    }
   ],
   "source": [
    "attributes(ciudadesf)\n",
    "levels(ciudadesf)"
   ]
  },
  {
   "cell_type": "code",
   "execution_count": 83,
   "metadata": {},
   "outputs": [
    {
     "data": {
      "text/plain": [
       "ciudadesf\n",
       "Ovi San Tor \n",
       "  4   3   2 "
      ]
     },
     "metadata": {},
     "output_type": "display_data"
    },
    {
     "data": {
      "image/png": "[encoded data removed]",
      "text/plain": [
       "plot without title"
      ]
     },
     "metadata": {},
     "output_type": "display_data"
    }
   ],
   "source": [
    "table(ciudadesf)\n",
    "plot(ciudadesf)"
   ]
  },
  {
   "cell_type": "markdown",
   "metadata": {},
   "source": [
    "---\n",
    "\n",
    "__Ejercicio.__  \n",
    "Crea a un vector 'Vec' que contenga 10 números enteros entre el 1 y el 5.  \n",
    "Convierta 'Vec' a un factor 'Vecf'.  \n",
    "Acceda a los distintos niveles.  \n",
    "Haz una tabla de frequencias."
   ]
  },
  {
   "cell_type": "code",
   "execution_count": 85,
   "metadata": {},
   "outputs": [
    {
     "data": {
      "text/html": [
       "<dl>\n",
       "\t<dt>$levels</dt>\n",
       "\t\t<dd><ol class=list-inline>\n",
       "\t<li>'1'</li>\n",
       "\t<li>'2'</li>\n",
       "\t<li>'3'</li>\n",
       "\t<li>'4'</li>\n",
       "\t<li>'5'</li>\n",
       "</ol>\n",
       "</dd>\n",
       "\t<dt>$class</dt>\n",
       "\t\t<dd>'factor'</dd>\n",
       "</dl>\n"
      ],
      "text/latex": [
       "\\begin{description}\n",
       "\\item[\\$levels] \\begin{enumerate*}\n",
       "\\item '1'\n",
       "\\item '2'\n",
       "\\item '3'\n",
       "\\item '4'\n",
       "\\item '5'\n",
       "\\end{enumerate*}\n",
       "\n",
       "\\item[\\$class] 'factor'\n",
       "\\end{description}\n"
      ],
      "text/markdown": [
       "$levels\n",
       ":   1. '1'\n",
       "2. '2'\n",
       "3. '3'\n",
       "4. '4'\n",
       "5. '5'\n",
       "\n",
       "\n",
       "\n",
       "$class\n",
       ":   'factor'\n",
       "\n",
       "\n"
      ],
      "text/plain": [
       "$levels\n",
       "[1] \"1\" \"2\" \"3\" \"4\" \"5\"\n",
       "\n",
       "$class\n",
       "[1] \"factor\"\n"
      ]
     },
     "metadata": {},
     "output_type": "display_data"
    },
    {
     "data": {
      "text/html": [
       "<ol class=list-inline>\n",
       "\t<li>'1'</li>\n",
       "\t<li>'2'</li>\n",
       "\t<li>'3'</li>\n",
       "\t<li>'4'</li>\n",
       "\t<li>'5'</li>\n",
       "</ol>\n"
      ],
      "text/latex": [
       "\\begin{enumerate*}\n",
       "\\item '1'\n",
       "\\item '2'\n",
       "\\item '3'\n",
       "\\item '4'\n",
       "\\item '5'\n",
       "\\end{enumerate*}\n"
      ],
      "text/markdown": [
       "1. '1'\n",
       "2. '2'\n",
       "3. '3'\n",
       "4. '4'\n",
       "5. '5'\n",
       "\n",
       "\n"
      ],
      "text/plain": [
       "[1] \"1\" \"2\" \"3\" \"4\" \"5\""
      ]
     },
     "metadata": {},
     "output_type": "display_data"
    },
    {
     "data": {
      "text/plain": [
       "Vecf\n",
       "1 2 3 4 5 \n",
       "3 1 1 2 3 "
      ]
     },
     "metadata": {},
     "output_type": "display_data"
    },
    {
     "data": {
      "image/png": "[encoded data removed]",
      "text/plain": [
       "plot without title"
      ]
     },
     "metadata": {},
     "output_type": "display_data"
    }
   ],
   "source": [
    "Vec <- c(1,2,5,4,5,1,3,4,5,1)\n",
    "Vecf <- factor(Vec)\n",
    "attributes(Vecf)\n",
    "levels(Vecf)\n",
    "table(Vecf)\n",
    "plot(Vecf)"
   ]
  },
  {
   "cell_type": "markdown",
   "metadata": {
    "button": false,
    "new_sheet": false,
    "run_control": {
     "read_only": false
    }
   },
   "source": [
    "### Listas\n",
    "Una lista es una colección ordenada de objetos, donde se pueden agrupar objetos de diferentes tipos (por ejemplo una combinación de vectores, matrices, factores, otras listas, data.frames, etc.).  \n",
    "La creación de una lista se hace mediante la función `list()`."
   ]
  },
  {
   "cell_type": "code",
   "execution_count": 87,
   "metadata": {},
   "outputs": [
    {
     "data": {
      "text/html": [
       "<ol>\n",
       "\t<li>'Pedro'</li>\n",
       "\t<li>'Pelayo'</li>\n",
       "\t<li>3</li>\n",
       "\t<li><ol class=list-inline>\n",
       "\t<li>4</li>\n",
       "\t<li>7</li>\n",
       "\t<li>9</li>\n",
       "</ol>\n",
       "</li>\n",
       "</ol>\n"
      ],
      "text/latex": [
       "\\begin{enumerate}\n",
       "\\item 'Pedro'\n",
       "\\item 'Pelayo'\n",
       "\\item 3\n",
       "\\item \\begin{enumerate*}\n",
       "\\item 4\n",
       "\\item 7\n",
       "\\item 9\n",
       "\\end{enumerate*}\n",
       "\n",
       "\\end{enumerate}\n"
      ],
      "text/markdown": [
       "1. 'Pedro'\n",
       "2. 'Pelayo'\n",
       "3. 3\n",
       "4. 1. 4\n",
       "2. 7\n",
       "3. 9\n",
       "\n",
       "\n",
       "\n",
       "\n",
       "\n"
      ],
      "text/plain": [
       "[[1]]\n",
       "[1] \"Pedro\"\n",
       "\n",
       "[[2]]\n",
       "[1] \"Pelayo\"\n",
       "\n",
       "[[3]]\n",
       "[1] 3\n",
       "\n",
       "[[4]]\n",
       "[1] 4 7 9\n"
      ]
     },
     "metadata": {},
     "output_type": "display_data"
    }
   ],
   "source": [
    "list1 <- list(\"Pedro\", \"Pelayo\", 3, c(4,7,9))\n",
    "list1"
   ]
  },
  {
   "cell_type": "markdown",
   "metadata": {},
   "source": [
    "Los elementos de la lista se pueden nombrar."
   ]
  },
  {
   "cell_type": "code",
   "execution_count": 89,
   "metadata": {},
   "outputs": [
    {
     "data": {
      "text/html": [
       "<dl>\n",
       "\t<dt>$nombre</dt>\n",
       "\t\t<dd>'Pedro'</dd>\n",
       "\t<dt>$apellido</dt>\n",
       "\t\t<dd>'Pelayo'</dd>\n",
       "\t<dt>$no.hijos</dt>\n",
       "\t\t<dd>3</dd>\n",
       "\t<dt>$edad.hijos</dt>\n",
       "\t\t<dd><ol class=list-inline>\n",
       "\t<li>4</li>\n",
       "\t<li>7</li>\n",
       "\t<li>9</li>\n",
       "</ol>\n",
       "</dd>\n",
       "</dl>\n"
      ],
      "text/latex": [
       "\\begin{description}\n",
       "\\item[\\$nombre] 'Pedro'\n",
       "\\item[\\$apellido] 'Pelayo'\n",
       "\\item[\\$no.hijos] 3\n",
       "\\item[\\$edad.hijos] \\begin{enumerate*}\n",
       "\\item 4\n",
       "\\item 7\n",
       "\\item 9\n",
       "\\end{enumerate*}\n",
       "\n",
       "\\end{description}\n"
      ],
      "text/markdown": [
       "$nombre\n",
       ":   'Pedro'\n",
       "$apellido\n",
       ":   'Pelayo'\n",
       "$no.hijos\n",
       ":   3\n",
       "$edad.hijos\n",
       ":   1. 4\n",
       "2. 7\n",
       "3. 9\n",
       "\n",
       "\n",
       "\n",
       "\n",
       "\n"
      ],
      "text/plain": [
       "$nombre\n",
       "[1] \"Pedro\"\n",
       "\n",
       "$apellido\n",
       "[1] \"Pelayo\"\n",
       "\n",
       "$no.hijos\n",
       "[1] 3\n",
       "\n",
       "$edad.hijos\n",
       "[1] 4 7 9\n"
      ]
     },
     "metadata": {},
     "output_type": "display_data"
    }
   ],
   "source": [
    "list2 <- list(nombre = \"Pedro\", apellido = \"Pelayo\", no.hijos = 3, edad.hijos = c(4,7,9))\n",
    "list2"
   ]
  },
  {
   "cell_type": "markdown",
   "metadata": {},
   "source": [
    "Selección de elementos de una lista.\n"
   ]
  },
  {
   "cell_type": "code",
   "execution_count": 90,
   "metadata": {},
   "outputs": [
    {
     "data": {
      "text/html": [
       "'Pedro'"
      ],
      "text/latex": [
       "'Pedro'"
      ],
      "text/markdown": [
       "'Pedro'"
      ],
      "text/plain": [
       "[1] \"Pedro\""
      ]
     },
     "metadata": {},
     "output_type": "display_data"
    },
    {
     "data": {
      "text/html": [
       "'Pedro'"
      ],
      "text/latex": [
       "'Pedro'"
      ],
      "text/markdown": [
       "'Pedro'"
      ],
      "text/plain": [
       "[1] \"Pedro\""
      ]
     },
     "metadata": {},
     "output_type": "display_data"
    },
    {
     "data": {
      "text/html": [
       "<ol class=list-inline>\n",
       "\t<li>4</li>\n",
       "\t<li>7</li>\n",
       "\t<li>9</li>\n",
       "</ol>\n"
      ],
      "text/latex": [
       "\\begin{enumerate*}\n",
       "\\item 4\n",
       "\\item 7\n",
       "\\item 9\n",
       "\\end{enumerate*}\n"
      ],
      "text/markdown": [
       "1. 4\n",
       "2. 7\n",
       "3. 9\n",
       "\n",
       "\n"
      ],
      "text/plain": [
       "[1] 4 7 9"
      ]
     },
     "metadata": {},
     "output_type": "display_data"
    },
    {
     "data": {
      "text/html": [
       "4"
      ],
      "text/latex": [
       "4"
      ],
      "text/markdown": [
       "4"
      ],
      "text/plain": [
       "[1] 4"
      ]
     },
     "metadata": {},
     "output_type": "display_data"
    }
   ],
   "source": [
    "list2[[1]]\n",
    "list2$nombre\n",
    "list2[[4]]\n",
    "list2[[4]][1]"
   ]
  },
  {
   "cell_type": "markdown",
   "metadata": {
    "button": false,
    "new_sheet": false,
    "run_control": {
     "read_only": false
    }
   },
   "source": [
    "### Data frames\n",
    "Un data frame se usa para guardar tablas de datos (creadas o importadas).  \n",
    "* Un data frame es una lista de vectores de longitudes iguales.\n",
    "  + lleva por defecto los atributos: `names`, `row.names`, `class`"
   ]
  },
  {
   "cell_type": "markdown",
   "metadata": {},
   "source": [
    "Creación: la función `data.frame()`"
   ]
  },
  {
   "cell_type": "code",
   "execution_count": 92,
   "metadata": {},
   "outputs": [
    {
     "data": {
      "text/html": [
       "<table>\n",
       "<thead><tr><th scope=col>edad</th><th scope=col>tiempo1</th><th scope=col>tiempo2</th><th scope=col>sexo</th></tr></thead>\n",
       "<tbody>\n",
       "\t<tr><td>22   </td><td>10.36</td><td>11.38</td><td>M    </td></tr>\n",
       "\t<tr><td>34   </td><td>14.21</td><td>15.20</td><td>H    </td></tr>\n",
       "\t<tr><td>29   </td><td>13.81</td><td>14.91</td><td>H    </td></tr>\n",
       "\t<tr><td>25   </td><td>11.89</td><td>12.90</td><td>M    </td></tr>\n",
       "\t<tr><td>30   </td><td>10.99</td><td>12.03</td><td>M    </td></tr>\n",
       "\t<tr><td>33   </td><td>12.03</td><td>12.58</td><td>H    </td></tr>\n",
       "\t<tr><td>31   </td><td>12.48</td><td>13.00</td><td>M    </td></tr>\n",
       "\t<tr><td>27   </td><td>13.37</td><td>13.01</td><td>M    </td></tr>\n",
       "\t<tr><td>25   </td><td>12.29</td><td>14.54</td><td>H    </td></tr>\n",
       "\t<tr><td>25   </td><td>11.92</td><td>15.27</td><td>H    </td></tr>\n",
       "</tbody>\n",
       "</table>\n"
      ],
      "text/latex": [
       "\\begin{tabular}{r|llll}\n",
       " edad & tiempo1 & tiempo2 & sexo\\\\\n",
       "\\hline\n",
       "\t 22    & 10.36 & 11.38 & M    \\\\\n",
       "\t 34    & 14.21 & 15.20 & H    \\\\\n",
       "\t 29    & 13.81 & 14.91 & H    \\\\\n",
       "\t 25    & 11.89 & 12.90 & M    \\\\\n",
       "\t 30    & 10.99 & 12.03 & M    \\\\\n",
       "\t 33    & 12.03 & 12.58 & H    \\\\\n",
       "\t 31    & 12.48 & 13.00 & M    \\\\\n",
       "\t 27    & 13.37 & 13.01 & M    \\\\\n",
       "\t 25    & 12.29 & 14.54 & H    \\\\\n",
       "\t 25    & 11.92 & 15.27 & H    \\\\\n",
       "\\end{tabular}\n"
      ],
      "text/markdown": [
       "\n",
       "edad | tiempo1 | tiempo2 | sexo | \n",
       "|---|---|---|---|---|---|---|---|---|---|\n",
       "| 22    | 10.36 | 11.38 | M     | \n",
       "| 34    | 14.21 | 15.20 | H     | \n",
       "| 29    | 13.81 | 14.91 | H     | \n",
       "| 25    | 11.89 | 12.90 | M     | \n",
       "| 30    | 10.99 | 12.03 | M     | \n",
       "| 33    | 12.03 | 12.58 | H     | \n",
       "| 31    | 12.48 | 13.00 | M     | \n",
       "| 27    | 13.37 | 13.01 | M     | \n",
       "| 25    | 12.29 | 14.54 | H     | \n",
       "| 25    | 11.92 | 15.27 | H     | \n",
       "\n",
       "\n"
      ],
      "text/plain": [
       "   edad tiempo1 tiempo2 sexo\n",
       "1  22   10.36   11.38   M   \n",
       "2  34   14.21   15.20   H   \n",
       "3  29   13.81   14.91   H   \n",
       "4  25   11.89   12.90   M   \n",
       "5  30   10.99   12.03   M   \n",
       "6  33   12.03   12.58   H   \n",
       "7  31   12.48   13.00   M   \n",
       "8  27   13.37   13.01   M   \n",
       "9  25   12.29   14.54   H   \n",
       "10 25   11.92   15.27   H   "
      ]
     },
     "metadata": {},
     "output_type": "display_data"
    }
   ],
   "source": [
    "edad <- c(22, 34, 29, 25, 30, 33, 31, 27, 25, 25)  # edad estudiantes\n",
    "tiempo1 <- c(10.36, 14.21, 13.81, 11.89, 10.99, 12.03, 12.48, 13.37, 12.29, 11.92)  # primera carrera de 100 m.\n",
    "tiempo2 <- c(11.38, 15.20, 14.91, 12.90, 12.03, 12.58, 13.00, 13.01, 14.54, 15.27)  # segunda carrera de 100 m.\n",
    "sexo <- factor(c(\"M\",\"H\",\"H\",\"M\",\"M\",\"H\",\"M\",\"M\",\"H\",\"H\"))\n",
    "df <- data.frame(edad,tiempo1,tiempo2,sexo)\n",
    "df"
   ]
  },
  {
   "cell_type": "code",
   "execution_count": 93,
   "metadata": {
    "scrolled": false
   },
   "outputs": [
    {
     "name": "stdout",
     "output_type": "stream",
     "text": [
      "'data.frame':\t10 obs. of  4 variables:\n",
      " $ edad   : num  22 34 29 25 30 33 31 27 25 25\n",
      " $ tiempo1: num  10.4 14.2 13.8 11.9 11 ...\n",
      " $ tiempo2: num  11.4 15.2 14.9 12.9 12 ...\n",
      " $ sexo   : Factor w/ 2 levels \"H\",\"M\": 2 1 1 2 2 1 2 2 1 1\n"
     ]
    }
   ],
   "source": [
    "# Estructura del data frame\n",
    "str(df)    "
   ]
  },
  {
   "cell_type": "markdown",
   "metadata": {},
   "source": [
    "Se puede acceder a las columnas por su nombre y hacer operaciones con ellas de manera fácil."
   ]
  },
  {
   "cell_type": "code",
   "execution_count": 96,
   "metadata": {},
   "outputs": [
    {
     "data": {
      "text/html": [
       "<table>\n",
       "<thead><tr><th scope=col>edad</th><th scope=col>tiempo1</th><th scope=col>tiempo2</th><th scope=col>sexo</th><th scope=col>totaltiempo</th></tr></thead>\n",
       "<tbody>\n",
       "\t<tr><td>22   </td><td>10.36</td><td>11.38</td><td>M    </td><td>21.74</td></tr>\n",
       "\t<tr><td>34   </td><td>14.21</td><td>15.20</td><td>H    </td><td>29.41</td></tr>\n",
       "\t<tr><td>29   </td><td>13.81</td><td>14.91</td><td>H    </td><td>28.72</td></tr>\n",
       "\t<tr><td>25   </td><td>11.89</td><td>12.90</td><td>M    </td><td>24.79</td></tr>\n",
       "\t<tr><td>30   </td><td>10.99</td><td>12.03</td><td>M    </td><td>23.02</td></tr>\n",
       "\t<tr><td>33   </td><td>12.03</td><td>12.58</td><td>H    </td><td>24.61</td></tr>\n",
       "\t<tr><td>31   </td><td>12.48</td><td>13.00</td><td>M    </td><td>25.48</td></tr>\n",
       "\t<tr><td>27   </td><td>13.37</td><td>13.01</td><td>M    </td><td>26.38</td></tr>\n",
       "\t<tr><td>25   </td><td>12.29</td><td>14.54</td><td>H    </td><td>26.83</td></tr>\n",
       "\t<tr><td>25   </td><td>11.92</td><td>15.27</td><td>H    </td><td>27.19</td></tr>\n",
       "</tbody>\n",
       "</table>\n"
      ],
      "text/latex": [
       "\\begin{tabular}{r|lllll}\n",
       " edad & tiempo1 & tiempo2 & sexo & totaltiempo\\\\\n",
       "\\hline\n",
       "\t 22    & 10.36 & 11.38 & M     & 21.74\\\\\n",
       "\t 34    & 14.21 & 15.20 & H     & 29.41\\\\\n",
       "\t 29    & 13.81 & 14.91 & H     & 28.72\\\\\n",
       "\t 25    & 11.89 & 12.90 & M     & 24.79\\\\\n",
       "\t 30    & 10.99 & 12.03 & M     & 23.02\\\\\n",
       "\t 33    & 12.03 & 12.58 & H     & 24.61\\\\\n",
       "\t 31    & 12.48 & 13.00 & M     & 25.48\\\\\n",
       "\t 27    & 13.37 & 13.01 & M     & 26.38\\\\\n",
       "\t 25    & 12.29 & 14.54 & H     & 26.83\\\\\n",
       "\t 25    & 11.92 & 15.27 & H     & 27.19\\\\\n",
       "\\end{tabular}\n"
      ],
      "text/markdown": [
       "\n",
       "edad | tiempo1 | tiempo2 | sexo | totaltiempo | \n",
       "|---|---|---|---|---|---|---|---|---|---|\n",
       "| 22    | 10.36 | 11.38 | M     | 21.74 | \n",
       "| 34    | 14.21 | 15.20 | H     | 29.41 | \n",
       "| 29    | 13.81 | 14.91 | H     | 28.72 | \n",
       "| 25    | 11.89 | 12.90 | M     | 24.79 | \n",
       "| 30    | 10.99 | 12.03 | M     | 23.02 | \n",
       "| 33    | 12.03 | 12.58 | H     | 24.61 | \n",
       "| 31    | 12.48 | 13.00 | M     | 25.48 | \n",
       "| 27    | 13.37 | 13.01 | M     | 26.38 | \n",
       "| 25    | 12.29 | 14.54 | H     | 26.83 | \n",
       "| 25    | 11.92 | 15.27 | H     | 27.19 | \n",
       "\n",
       "\n"
      ],
      "text/plain": [
       "   edad tiempo1 tiempo2 sexo totaltiempo\n",
       "1  22   10.36   11.38   M    21.74      \n",
       "2  34   14.21   15.20   H    29.41      \n",
       "3  29   13.81   14.91   H    28.72      \n",
       "4  25   11.89   12.90   M    24.79      \n",
       "5  30   10.99   12.03   M    23.02      \n",
       "6  33   12.03   12.58   H    24.61      \n",
       "7  31   12.48   13.00   M    25.48      \n",
       "8  27   13.37   13.01   M    26.38      \n",
       "9  25   12.29   14.54   H    26.83      \n",
       "10 25   11.92   15.27   H    27.19      "
      ]
     },
     "metadata": {},
     "output_type": "display_data"
    },
    {
     "data": {
      "text/html": [
       "<ol class=list-inline>\n",
       "\t<li>M</li>\n",
       "\t<li>H</li>\n",
       "\t<li>H</li>\n",
       "\t<li>M</li>\n",
       "\t<li>M</li>\n",
       "\t<li>H</li>\n",
       "\t<li>M</li>\n",
       "\t<li>M</li>\n",
       "\t<li>H</li>\n",
       "\t<li>H</li>\n",
       "</ol>\n",
       "\n",
       "<details>\n",
       "\t<summary style=display:list-item;cursor:pointer>\n",
       "\t\t<strong>Levels</strong>:\n",
       "\t</summary>\n",
       "\t<ol class=list-inline>\n",
       "\t\t<li>'H'</li>\n",
       "\t\t<li>'M'</li>\n",
       "\t</ol>\n",
       "</details>"
      ],
      "text/latex": [
       "\\begin{enumerate*}\n",
       "\\item M\n",
       "\\item H\n",
       "\\item H\n",
       "\\item M\n",
       "\\item M\n",
       "\\item H\n",
       "\\item M\n",
       "\\item M\n",
       "\\item H\n",
       "\\item H\n",
       "\\end{enumerate*}\n",
       "\n",
       "\\emph{Levels}: \\begin{enumerate*}\n",
       "\\item 'H'\n",
       "\\item 'M'\n",
       "\\end{enumerate*}\n"
      ],
      "text/markdown": [
       "1. M\n",
       "2. H\n",
       "3. H\n",
       "4. M\n",
       "5. M\n",
       "6. H\n",
       "7. M\n",
       "8. M\n",
       "9. H\n",
       "10. H\n",
       "\n",
       "\n",
       "\n",
       "**Levels**: 1. 'H'\n",
       "2. 'M'\n",
       "\n",
       "\n"
      ],
      "text/plain": [
       " [1] M H H M M H M M H H\n",
       "Levels: H M"
      ]
     },
     "metadata": {},
     "output_type": "display_data"
    }
   ],
   "source": [
    "df$totaltiempo <- df$tiempo1 + df$tiempo2\n",
    "df\n",
    "df$sexo"
   ]
  },
  {
   "cell_type": "markdown",
   "metadata": {},
   "source": [
    "Existen funciones en R que operan directamente sobre data frames.  \n",
    "Las funciones utlizan los nombres, reconocen factores, etc."
   ]
  },
  {
   "cell_type": "code",
   "execution_count": 95,
   "metadata": {},
   "outputs": [
    {
     "data": {
      "image/png": "[encoded data removed]",
      "text/plain": [
       "plot without title"
      ]
     },
     "metadata": {},
     "output_type": "display_data"
    }
   ],
   "source": [
    "plot(df, col = c(\"red\",\"green\")[df$sexo]) # rojo = hombre, verde = mujer"
   ]
  },
  {
   "cell_type": "markdown",
   "metadata": {},
   "source": [
    "---\n",
    "\n",
    "__Ejercicio.__  \n",
    "Añade una nueva columna con la media de los dos tiempos. \n",
    "Añade una nueva columna que indique si los estudiantes han probado el test: Media < 13.  \n",
    "Dibuja la edad vs el tiempo."
   ]
  },
  {
   "cell_type": "code",
   "execution_count": 106,
   "metadata": {},
   "outputs": [
    {
     "data": {
      "text/html": [
       "<table>\n",
       "<thead><tr><th scope=col>edad</th><th scope=col>tiempo1</th><th scope=col>tiempo2</th><th scope=col>sexo</th><th scope=col>totaltiempo</th><th scope=col>tiempo_medio</th><th scope=col>test_pass</th></tr></thead>\n",
       "<tbody>\n",
       "\t<tr><td>22    </td><td>10.36 </td><td>11.38 </td><td>M     </td><td>21.74 </td><td>10.870</td><td> TRUE </td></tr>\n",
       "\t<tr><td>34    </td><td>14.21 </td><td>15.20 </td><td>H     </td><td>29.41 </td><td>14.705</td><td>FALSE </td></tr>\n",
       "\t<tr><td>29    </td><td>13.81 </td><td>14.91 </td><td>H     </td><td>28.72 </td><td>14.360</td><td>FALSE </td></tr>\n",
       "\t<tr><td>25    </td><td>11.89 </td><td>12.90 </td><td>M     </td><td>24.79 </td><td>12.395</td><td> TRUE </td></tr>\n",
       "\t<tr><td>30    </td><td>10.99 </td><td>12.03 </td><td>M     </td><td>23.02 </td><td>11.510</td><td> TRUE </td></tr>\n",
       "\t<tr><td>33    </td><td>12.03 </td><td>12.58 </td><td>H     </td><td>24.61 </td><td>12.305</td><td> TRUE </td></tr>\n",
       "\t<tr><td>31    </td><td>12.48 </td><td>13.00 </td><td>M     </td><td>25.48 </td><td>12.740</td><td> TRUE </td></tr>\n",
       "\t<tr><td>27    </td><td>13.37 </td><td>13.01 </td><td>M     </td><td>26.38 </td><td>13.190</td><td>FALSE </td></tr>\n",
       "\t<tr><td>25    </td><td>12.29 </td><td>14.54 </td><td>H     </td><td>26.83 </td><td>13.415</td><td>FALSE </td></tr>\n",
       "\t<tr><td>25    </td><td>11.92 </td><td>15.27 </td><td>H     </td><td>27.19 </td><td>13.595</td><td>FALSE </td></tr>\n",
       "</tbody>\n",
       "</table>\n"
      ],
      "text/latex": [
       "\\begin{tabular}{r|lllllll}\n",
       " edad & tiempo1 & tiempo2 & sexo & totaltiempo & tiempo\\_medio & test\\_pass\\\\\n",
       "\\hline\n",
       "\t 22     & 10.36  & 11.38  & M      & 21.74  & 10.870 &  TRUE \\\\\n",
       "\t 34     & 14.21  & 15.20  & H      & 29.41  & 14.705 & FALSE \\\\\n",
       "\t 29     & 13.81  & 14.91  & H      & 28.72  & 14.360 & FALSE \\\\\n",
       "\t 25     & 11.89  & 12.90  & M      & 24.79  & 12.395 &  TRUE \\\\\n",
       "\t 30     & 10.99  & 12.03  & M      & 23.02  & 11.510 &  TRUE \\\\\n",
       "\t 33     & 12.03  & 12.58  & H      & 24.61  & 12.305 &  TRUE \\\\\n",
       "\t 31     & 12.48  & 13.00  & M      & 25.48  & 12.740 &  TRUE \\\\\n",
       "\t 27     & 13.37  & 13.01  & M      & 26.38  & 13.190 & FALSE \\\\\n",
       "\t 25     & 12.29  & 14.54  & H      & 26.83  & 13.415 & FALSE \\\\\n",
       "\t 25     & 11.92  & 15.27  & H      & 27.19  & 13.595 & FALSE \\\\\n",
       "\\end{tabular}\n"
      ],
      "text/markdown": [
       "\n",
       "edad | tiempo1 | tiempo2 | sexo | totaltiempo | tiempo_medio | test_pass | \n",
       "|---|---|---|---|---|---|---|---|---|---|\n",
       "| 22     | 10.36  | 11.38  | M      | 21.74  | 10.870 |  TRUE  | \n",
       "| 34     | 14.21  | 15.20  | H      | 29.41  | 14.705 | FALSE  | \n",
       "| 29     | 13.81  | 14.91  | H      | 28.72  | 14.360 | FALSE  | \n",
       "| 25     | 11.89  | 12.90  | M      | 24.79  | 12.395 |  TRUE  | \n",
       "| 30     | 10.99  | 12.03  | M      | 23.02  | 11.510 |  TRUE  | \n",
       "| 33     | 12.03  | 12.58  | H      | 24.61  | 12.305 |  TRUE  | \n",
       "| 31     | 12.48  | 13.00  | M      | 25.48  | 12.740 |  TRUE  | \n",
       "| 27     | 13.37  | 13.01  | M      | 26.38  | 13.190 | FALSE  | \n",
       "| 25     | 12.29  | 14.54  | H      | 26.83  | 13.415 | FALSE  | \n",
       "| 25     | 11.92  | 15.27  | H      | 27.19  | 13.595 | FALSE  | \n",
       "\n",
       "\n"
      ],
      "text/plain": [
       "   edad tiempo1 tiempo2 sexo totaltiempo tiempo_medio test_pass\n",
       "1  22   10.36   11.38   M    21.74       10.870        TRUE    \n",
       "2  34   14.21   15.20   H    29.41       14.705       FALSE    \n",
       "3  29   13.81   14.91   H    28.72       14.360       FALSE    \n",
       "4  25   11.89   12.90   M    24.79       12.395        TRUE    \n",
       "5  30   10.99   12.03   M    23.02       11.510        TRUE    \n",
       "6  33   12.03   12.58   H    24.61       12.305        TRUE    \n",
       "7  31   12.48   13.00   M    25.48       12.740        TRUE    \n",
       "8  27   13.37   13.01   M    26.38       13.190       FALSE    \n",
       "9  25   12.29   14.54   H    26.83       13.415       FALSE    \n",
       "10 25   11.92   15.27   H    27.19       13.595       FALSE    "
      ]
     },
     "metadata": {},
     "output_type": "display_data"
    },
    {
     "data": {
      "image/png": "[encoded data removed]",
      "text/plain": [
       "plot without title"
      ]
     },
     "metadata": {},
     "output_type": "display_data"
    }
   ],
   "source": [
    "# Solución\n",
    "df$tiempo_medio <- (df$tiempo1 + df$tiempo2)/2\n",
    "df$test_pass <- df$tiempo_medio < 13\n",
    "df\n",
    "plot(df$edad,df$tiempo_medio, col = c('red', 'green')[df$sexo], xlab='edad', ylab='tiempo medio')"
   ]
  },
  {
   "cell_type": "markdown",
   "metadata": {},
   "source": [
    "---\n",
    "\n",
    "Las bases de datos o datasets (por ejemplo en formato excel o csv) se importan en R como data frames para análisis posteriores. \n",
    "La librería `base` de R proporciona una serie de datasets de ejemplo (e.g. swiss)"
   ]
  },
  {
   "cell_type": "code",
   "execution_count": 1,
   "metadata": {},
   "outputs": [
    {
     "name": "stdout",
     "output_type": "stream",
     "text": [
      "'data.frame':\t47 obs. of  6 variables:\n",
      " $ Fertility       : num  80.2 83.1 92.5 85.8 76.9 76.1 83.8 92.4 82.4 82.9 ...\n",
      " $ Agriculture     : num  17 45.1 39.7 36.5 43.5 35.3 70.2 67.8 53.3 45.2 ...\n",
      " $ Examination     : int  15 6 5 12 17 9 16 14 12 16 ...\n",
      " $ Education       : int  12 9 5 7 15 7 7 8 7 13 ...\n",
      " $ Catholic        : num  9.96 84.84 93.4 33.77 5.16 ...\n",
      " $ Infant.Mortality: num  22.2 22.2 20.2 20.3 20.6 26.6 23.6 24.9 21 24.4 ...\n"
     ]
    }
   ],
   "source": [
    "data(swiss)\n",
    "?swiss\n",
    "str(swiss)"
   ]
  },
  {
   "cell_type": "markdown",
   "metadata": {},
   "source": [
    "---\n",
    "\n",
    "__Ejercicio.__  \n",
    "Utiliza este data frame (`swiss`) para aplicar las diferentes operaciones que hemos visto. Por ejemplo:\n",
    "* Busca en la ayuda del data frame (`swiss`) el ejemplo en que se hace una regresión lineal. Copia ese ejemplo.\n",
    "* Trata de explicar la relacion existente entre la \"Education\" y \"Examination\" con un plot o una regresión lineal entre las dos variables.\n",
    "* Convierte la variable `catholic` del data frame `swiss` en una variable categórica (por ejemplo de tipo lógico con la condicion > 55 %). Posteriormente conviértela a factor. Haz una tabla de frequencias: ¿Como se ha dividido el país?\n",
    "* Haz un nuevo data.frame `swiss2` que sólo contenga las columnas \"Fertility\", \"Agriculture\" e \"Infant.Mortality\". \n",
    "* Dibuja un scatterplot de `swiss2`\n"
   ]
  },
  {
   "cell_type": "code",
   "execution_count": 109,
   "metadata": {},
   "outputs": [
    {
     "data": {
      "text/plain": [
       "\n",
       "Call:\n",
       "lm(formula = Fertility ~ ., data = swiss)\n",
       "\n",
       "Residuals:\n",
       "     Min       1Q   Median       3Q      Max \n",
       "-15.2743  -5.2617   0.5032   4.1198  15.3213 \n",
       "\n",
       "Coefficients:\n",
       "                 Estimate Std. Error t value Pr(>|t|)    \n",
       "(Intercept)      66.91518   10.70604   6.250 1.91e-07 ***\n",
       "Agriculture      -0.17211    0.07030  -2.448  0.01873 *  \n",
       "Examination      -0.25801    0.25388  -1.016  0.31546    \n",
       "Education        -0.87094    0.18303  -4.758 2.43e-05 ***\n",
       "Catholic          0.10412    0.03526   2.953  0.00519 ** \n",
       "Infant.Mortality  1.07705    0.38172   2.822  0.00734 ** \n",
       "---\n",
       "Signif. codes:  0 ‘***’ 0.001 ‘**’ 0.01 ‘*’ 0.05 ‘.’ 0.1 ‘ ’ 1\n",
       "\n",
       "Residual standard error: 7.165 on 41 degrees of freedom\n",
       "Multiple R-squared:  0.7067,\tAdjusted R-squared:  0.671 \n",
       "F-statistic: 19.76 on 5 and 41 DF,  p-value: 5.594e-10\n"
      ]
     },
     "metadata": {},
     "output_type": "display_data"
    },
    {
     "data": {
      "image/png": "[encoded data removed]",
      "text/plain": [
       "plot without title"
      ]
     },
     "metadata": {},
     "output_type": "display_data"
    }
   ],
   "source": [
    "require(stats); require(graphics)\n",
    "pairs(swiss, panel = panel.smooth, main = \"swiss data\",\n",
    "      col = 3 + (swiss$Catholic > 50))\n",
    "summary(lm(Fertility ~ . , data = swiss))"
   ]
  },
  {
   "cell_type": "code",
   "execution_count": 3,
   "metadata": {},
   "outputs": [
    {
     "data": {
      "image/png": "[encoded data removed]",
      "text/plain": [
       "Plot with title “swiss data”"
      ]
     },
     "metadata": {},
     "output_type": "display_data"
    }
   ],
   "source": [
    "# Solución\n",
    "plot(swiss$Education, swiss$Examination,  main = \"swiss data\",\n",
    "      col = 3 + (swiss$Catholic > 50), xlab='Education', ylab='Examination')\n",
    "regression <- lm(Examination ~ Education , data = swiss)\n",
    "abline(regression)"
   ]
  },
  {
   "cell_type": "code",
   "execution_count": 11,
   "metadata": {},
   "outputs": [
    {
     "data": {
      "text/html": [
       "<ol class=list-inline>\n",
       "\t<li>FALSE</li>\n",
       "\t<li>TRUE</li>\n",
       "\t<li>TRUE</li>\n",
       "\t<li>FALSE</li>\n",
       "\t<li>FALSE</li>\n",
       "\t<li>TRUE</li>\n",
       "\t<li>TRUE</li>\n",
       "\t<li>TRUE</li>\n",
       "\t<li>TRUE</li>\n",
       "\t<li>TRUE</li>\n",
       "\t<li>TRUE</li>\n",
       "\t<li>FALSE</li>\n",
       "\t<li>FALSE</li>\n",
       "\t<li>FALSE</li>\n",
       "\t<li>FALSE</li>\n",
       "\t<li>FALSE</li>\n",
       "\t<li>FALSE</li>\n",
       "\t<li>FALSE</li>\n",
       "\t<li>FALSE</li>\n",
       "\t<li>FALSE</li>\n",
       "\t<li>FALSE</li>\n",
       "\t<li>FALSE</li>\n",
       "\t<li>FALSE</li>\n",
       "\t<li>FALSE</li>\n",
       "\t<li>FALSE</li>\n",
       "\t<li>FALSE</li>\n",
       "\t<li>FALSE</li>\n",
       "\t<li>FALSE</li>\n",
       "\t<li>FALSE</li>\n",
       "\t<li>FALSE</li>\n",
       "\t<li>TRUE</li>\n",
       "\t<li>TRUE</li>\n",
       "\t<li>TRUE</li>\n",
       "\t<li>TRUE</li>\n",
       "\t<li>TRUE</li>\n",
       "\t<li>TRUE</li>\n",
       "\t<li>TRUE</li>\n",
       "\t<li>TRUE</li>\n",
       "\t<li>FALSE</li>\n",
       "\t<li>FALSE</li>\n",
       "\t<li>FALSE</li>\n",
       "\t<li>FALSE</li>\n",
       "\t<li>FALSE</li>\n",
       "\t<li>FALSE</li>\n",
       "\t<li>FALSE</li>\n",
       "\t<li>FALSE</li>\n",
       "\t<li>TRUE</li>\n",
       "</ol>\n"
      ],
      "text/latex": [
       "\\begin{enumerate*}\n",
       "\\item FALSE\n",
       "\\item TRUE\n",
       "\\item TRUE\n",
       "\\item FALSE\n",
       "\\item FALSE\n",
       "\\item TRUE\n",
       "\\item TRUE\n",
       "\\item TRUE\n",
       "\\item TRUE\n",
       "\\item TRUE\n",
       "\\item TRUE\n",
       "\\item FALSE\n",
       "\\item FALSE\n",
       "\\item FALSE\n",
       "\\item FALSE\n",
       "\\item FALSE\n",
       "\\item FALSE\n",
       "\\item FALSE\n",
       "\\item FALSE\n",
       "\\item FALSE\n",
       "\\item FALSE\n",
       "\\item FALSE\n",
       "\\item FALSE\n",
       "\\item FALSE\n",
       "\\item FALSE\n",
       "\\item FALSE\n",
       "\\item FALSE\n",
       "\\item FALSE\n",
       "\\item FALSE\n",
       "\\item FALSE\n",
       "\\item TRUE\n",
       "\\item TRUE\n",
       "\\item TRUE\n",
       "\\item TRUE\n",
       "\\item TRUE\n",
       "\\item TRUE\n",
       "\\item TRUE\n",
       "\\item TRUE\n",
       "\\item FALSE\n",
       "\\item FALSE\n",
       "\\item FALSE\n",
       "\\item FALSE\n",
       "\\item FALSE\n",
       "\\item FALSE\n",
       "\\item FALSE\n",
       "\\item FALSE\n",
       "\\item TRUE\n",
       "\\end{enumerate*}\n"
      ],
      "text/markdown": [
       "1. FALSE\n",
       "2. TRUE\n",
       "3. TRUE\n",
       "4. FALSE\n",
       "5. FALSE\n",
       "6. TRUE\n",
       "7. TRUE\n",
       "8. TRUE\n",
       "9. TRUE\n",
       "10. TRUE\n",
       "11. TRUE\n",
       "12. FALSE\n",
       "13. FALSE\n",
       "14. FALSE\n",
       "15. FALSE\n",
       "16. FALSE\n",
       "17. FALSE\n",
       "18. FALSE\n",
       "19. FALSE\n",
       "20. FALSE\n",
       "21. FALSE\n",
       "22. FALSE\n",
       "23. FALSE\n",
       "24. FALSE\n",
       "25. FALSE\n",
       "26. FALSE\n",
       "27. FALSE\n",
       "28. FALSE\n",
       "29. FALSE\n",
       "30. FALSE\n",
       "31. TRUE\n",
       "32. TRUE\n",
       "33. TRUE\n",
       "34. TRUE\n",
       "35. TRUE\n",
       "36. TRUE\n",
       "37. TRUE\n",
       "38. TRUE\n",
       "39. FALSE\n",
       "40. FALSE\n",
       "41. FALSE\n",
       "42. FALSE\n",
       "43. FALSE\n",
       "44. FALSE\n",
       "45. FALSE\n",
       "46. FALSE\n",
       "47. TRUE\n",
       "\n",
       "\n"
      ],
      "text/plain": [
       " [1] FALSE  TRUE  TRUE FALSE FALSE  TRUE  TRUE  TRUE  TRUE  TRUE  TRUE FALSE\n",
       "[13] FALSE FALSE FALSE FALSE FALSE FALSE FALSE FALSE FALSE FALSE FALSE FALSE\n",
       "[25] FALSE FALSE FALSE FALSE FALSE FALSE  TRUE  TRUE  TRUE  TRUE  TRUE  TRUE\n",
       "[37]  TRUE  TRUE FALSE FALSE FALSE FALSE FALSE FALSE FALSE FALSE  TRUE"
      ]
     },
     "metadata": {},
     "output_type": "display_data"
    },
    {
     "data": {
      "text/html": [
       "<ol class=list-inline>\n",
       "\t<li>FALSE</li>\n",
       "\t<li>TRUE</li>\n",
       "\t<li>TRUE</li>\n",
       "\t<li>FALSE</li>\n",
       "\t<li>FALSE</li>\n",
       "\t<li>TRUE</li>\n",
       "\t<li>TRUE</li>\n",
       "\t<li>TRUE</li>\n",
       "\t<li>TRUE</li>\n",
       "\t<li>TRUE</li>\n",
       "\t<li>TRUE</li>\n",
       "\t<li>FALSE</li>\n",
       "\t<li>FALSE</li>\n",
       "\t<li>FALSE</li>\n",
       "\t<li>FALSE</li>\n",
       "\t<li>FALSE</li>\n",
       "\t<li>FALSE</li>\n",
       "\t<li>FALSE</li>\n",
       "\t<li>FALSE</li>\n",
       "\t<li>FALSE</li>\n",
       "\t<li>FALSE</li>\n",
       "\t<li>FALSE</li>\n",
       "\t<li>FALSE</li>\n",
       "\t<li>FALSE</li>\n",
       "\t<li>FALSE</li>\n",
       "\t<li>FALSE</li>\n",
       "\t<li>FALSE</li>\n",
       "\t<li>FALSE</li>\n",
       "\t<li>FALSE</li>\n",
       "\t<li>FALSE</li>\n",
       "\t<li>TRUE</li>\n",
       "\t<li>TRUE</li>\n",
       "\t<li>TRUE</li>\n",
       "\t<li>TRUE</li>\n",
       "\t<li>TRUE</li>\n",
       "\t<li>TRUE</li>\n",
       "\t<li>TRUE</li>\n",
       "\t<li>TRUE</li>\n",
       "\t<li>FALSE</li>\n",
       "\t<li>FALSE</li>\n",
       "\t<li>FALSE</li>\n",
       "\t<li>FALSE</li>\n",
       "\t<li>FALSE</li>\n",
       "\t<li>FALSE</li>\n",
       "\t<li>FALSE</li>\n",
       "\t<li>FALSE</li>\n",
       "\t<li>TRUE</li>\n",
       "</ol>\n",
       "\n",
       "<details>\n",
       "\t<summary style=display:list-item;cursor:pointer>\n",
       "\t\t<strong>Levels</strong>:\n",
       "\t</summary>\n",
       "\t<ol class=list-inline>\n",
       "\t\t<li>'FALSE'</li>\n",
       "\t\t<li>'TRUE'</li>\n",
       "\t</ol>\n",
       "</details>"
      ],
      "text/latex": [
       "\\begin{enumerate*}\n",
       "\\item FALSE\n",
       "\\item TRUE\n",
       "\\item TRUE\n",
       "\\item FALSE\n",
       "\\item FALSE\n",
       "\\item TRUE\n",
       "\\item TRUE\n",
       "\\item TRUE\n",
       "\\item TRUE\n",
       "\\item TRUE\n",
       "\\item TRUE\n",
       "\\item FALSE\n",
       "\\item FALSE\n",
       "\\item FALSE\n",
       "\\item FALSE\n",
       "\\item FALSE\n",
       "\\item FALSE\n",
       "\\item FALSE\n",
       "\\item FALSE\n",
       "\\item FALSE\n",
       "\\item FALSE\n",
       "\\item FALSE\n",
       "\\item FALSE\n",
       "\\item FALSE\n",
       "\\item FALSE\n",
       "\\item FALSE\n",
       "\\item FALSE\n",
       "\\item FALSE\n",
       "\\item FALSE\n",
       "\\item FALSE\n",
       "\\item TRUE\n",
       "\\item TRUE\n",
       "\\item TRUE\n",
       "\\item TRUE\n",
       "\\item TRUE\n",
       "\\item TRUE\n",
       "\\item TRUE\n",
       "\\item TRUE\n",
       "\\item FALSE\n",
       "\\item FALSE\n",
       "\\item FALSE\n",
       "\\item FALSE\n",
       "\\item FALSE\n",
       "\\item FALSE\n",
       "\\item FALSE\n",
       "\\item FALSE\n",
       "\\item TRUE\n",
       "\\end{enumerate*}\n",
       "\n",
       "\\emph{Levels}: \\begin{enumerate*}\n",
       "\\item 'FALSE'\n",
       "\\item 'TRUE'\n",
       "\\end{enumerate*}\n"
      ],
      "text/markdown": [
       "1. FALSE\n",
       "2. TRUE\n",
       "3. TRUE\n",
       "4. FALSE\n",
       "5. FALSE\n",
       "6. TRUE\n",
       "7. TRUE\n",
       "8. TRUE\n",
       "9. TRUE\n",
       "10. TRUE\n",
       "11. TRUE\n",
       "12. FALSE\n",
       "13. FALSE\n",
       "14. FALSE\n",
       "15. FALSE\n",
       "16. FALSE\n",
       "17. FALSE\n",
       "18. FALSE\n",
       "19. FALSE\n",
       "20. FALSE\n",
       "21. FALSE\n",
       "22. FALSE\n",
       "23. FALSE\n",
       "24. FALSE\n",
       "25. FALSE\n",
       "26. FALSE\n",
       "27. FALSE\n",
       "28. FALSE\n",
       "29. FALSE\n",
       "30. FALSE\n",
       "31. TRUE\n",
       "32. TRUE\n",
       "33. TRUE\n",
       "34. TRUE\n",
       "35. TRUE\n",
       "36. TRUE\n",
       "37. TRUE\n",
       "38. TRUE\n",
       "39. FALSE\n",
       "40. FALSE\n",
       "41. FALSE\n",
       "42. FALSE\n",
       "43. FALSE\n",
       "44. FALSE\n",
       "45. FALSE\n",
       "46. FALSE\n",
       "47. TRUE\n",
       "\n",
       "\n",
       "\n",
       "**Levels**: 1. 'FALSE'\n",
       "2. 'TRUE'\n",
       "\n",
       "\n"
      ],
      "text/plain": [
       " [1] FALSE TRUE  TRUE  FALSE FALSE TRUE  TRUE  TRUE  TRUE  TRUE  TRUE  FALSE\n",
       "[13] FALSE FALSE FALSE FALSE FALSE FALSE FALSE FALSE FALSE FALSE FALSE FALSE\n",
       "[25] FALSE FALSE FALSE FALSE FALSE FALSE TRUE  TRUE  TRUE  TRUE  TRUE  TRUE \n",
       "[37] TRUE  TRUE  FALSE FALSE FALSE FALSE FALSE FALSE FALSE FALSE TRUE \n",
       "Levels: FALSE TRUE"
      ]
     },
     "metadata": {},
     "output_type": "display_data"
    },
    {
     "data": {
      "text/plain": [
       "swisscatholic\n",
       "FALSE  TRUE \n",
       "   30    17 "
      ]
     },
     "metadata": {},
     "output_type": "display_data"
    }
   ],
   "source": [
    "swisscatholic <- swiss$Catholic > 55\n",
    "factor <- factor(swisscatholic)\n",
    "swisscatholic\n",
    "factor\n",
    "table(swisscatholic)"
   ]
  },
  {
   "cell_type": "markdown",
   "metadata": {},
   "source": [
    "* Respuesta: 30 no son católicos mientras que 17 sí lo son"
   ]
  },
  {
   "cell_type": "code",
   "execution_count": 23,
   "metadata": {},
   "outputs": [
    {
     "data": {
      "text/html": [
       "<table>\n",
       "<thead><tr><th scope=col>swiss.Fertility</th><th scope=col>swiss.Agriculture</th><th scope=col>swiss.Infant.Mortality</th></tr></thead>\n",
       "<tbody>\n",
       "\t<tr><td>80.2</td><td>17.0</td><td>22.2</td></tr>\n",
       "\t<tr><td>83.1</td><td>45.1</td><td>22.2</td></tr>\n",
       "\t<tr><td>92.5</td><td>39.7</td><td>20.2</td></tr>\n",
       "\t<tr><td>85.8</td><td>36.5</td><td>20.3</td></tr>\n",
       "\t<tr><td>76.9</td><td>43.5</td><td>20.6</td></tr>\n",
       "\t<tr><td>76.1</td><td>35.3</td><td>26.6</td></tr>\n",
       "\t<tr><td>83.8</td><td>70.2</td><td>23.6</td></tr>\n",
       "\t<tr><td>92.4</td><td>67.8</td><td>24.9</td></tr>\n",
       "\t<tr><td>82.4</td><td>53.3</td><td>21.0</td></tr>\n",
       "\t<tr><td>82.9</td><td>45.2</td><td>24.4</td></tr>\n",
       "\t<tr><td>87.1</td><td>64.5</td><td>24.5</td></tr>\n",
       "\t<tr><td>64.1</td><td>62.0</td><td>16.5</td></tr>\n",
       "\t<tr><td>66.9</td><td>67.5</td><td>19.1</td></tr>\n",
       "\t<tr><td>68.9</td><td>60.7</td><td>22.7</td></tr>\n",
       "\t<tr><td>61.7</td><td>69.3</td><td>18.7</td></tr>\n",
       "\t<tr><td>68.3</td><td>72.6</td><td>21.2</td></tr>\n",
       "\t<tr><td>71.7</td><td>34.0</td><td>20.0</td></tr>\n",
       "\t<tr><td>55.7</td><td>19.4</td><td>20.2</td></tr>\n",
       "\t<tr><td>54.3</td><td>15.2</td><td>10.8</td></tr>\n",
       "\t<tr><td>65.1</td><td>73.0</td><td>20.0</td></tr>\n",
       "\t<tr><td>65.5</td><td>59.8</td><td>18.0</td></tr>\n",
       "\t<tr><td>65.0</td><td>55.1</td><td>22.4</td></tr>\n",
       "\t<tr><td>56.6</td><td>50.9</td><td>16.7</td></tr>\n",
       "\t<tr><td>57.4</td><td>54.1</td><td>15.3</td></tr>\n",
       "\t<tr><td>72.5</td><td>71.2</td><td>21.0</td></tr>\n",
       "\t<tr><td>74.2</td><td>58.1</td><td>23.8</td></tr>\n",
       "\t<tr><td>72.0</td><td>63.5</td><td>18.0</td></tr>\n",
       "\t<tr><td>60.5</td><td>60.8</td><td>16.3</td></tr>\n",
       "\t<tr><td>58.3</td><td>26.8</td><td>20.9</td></tr>\n",
       "\t<tr><td>65.4</td><td>49.5</td><td>22.5</td></tr>\n",
       "\t<tr><td>75.5</td><td>85.9</td><td>15.1</td></tr>\n",
       "\t<tr><td>69.3</td><td>84.9</td><td>19.8</td></tr>\n",
       "\t<tr><td>77.3</td><td>89.7</td><td>18.3</td></tr>\n",
       "\t<tr><td>70.5</td><td>78.2</td><td>19.4</td></tr>\n",
       "\t<tr><td>79.4</td><td>64.9</td><td>20.2</td></tr>\n",
       "\t<tr><td>65.0</td><td>75.9</td><td>17.8</td></tr>\n",
       "\t<tr><td>92.2</td><td>84.6</td><td>16.3</td></tr>\n",
       "\t<tr><td>79.3</td><td>63.1</td><td>18.1</td></tr>\n",
       "\t<tr><td>70.4</td><td>38.4</td><td>20.3</td></tr>\n",
       "\t<tr><td>65.7</td><td> 7.7</td><td>20.5</td></tr>\n",
       "\t<tr><td>72.7</td><td>16.7</td><td>18.9</td></tr>\n",
       "\t<tr><td>64.4</td><td>17.6</td><td>23.0</td></tr>\n",
       "\t<tr><td>77.6</td><td>37.6</td><td>20.0</td></tr>\n",
       "\t<tr><td>67.6</td><td>18.7</td><td>19.5</td></tr>\n",
       "\t<tr><td>35.0</td><td> 1.2</td><td>18.0</td></tr>\n",
       "\t<tr><td>44.7</td><td>46.6</td><td>18.2</td></tr>\n",
       "\t<tr><td>42.8</td><td>27.7</td><td>19.3</td></tr>\n",
       "</tbody>\n",
       "</table>\n"
      ],
      "text/latex": [
       "\\begin{tabular}{r|lll}\n",
       " swiss.Fertility & swiss.Agriculture & swiss.Infant.Mortality\\\\\n",
       "\\hline\n",
       "\t 80.2 & 17.0 & 22.2\\\\\n",
       "\t 83.1 & 45.1 & 22.2\\\\\n",
       "\t 92.5 & 39.7 & 20.2\\\\\n",
       "\t 85.8 & 36.5 & 20.3\\\\\n",
       "\t 76.9 & 43.5 & 20.6\\\\\n",
       "\t 76.1 & 35.3 & 26.6\\\\\n",
       "\t 83.8 & 70.2 & 23.6\\\\\n",
       "\t 92.4 & 67.8 & 24.9\\\\\n",
       "\t 82.4 & 53.3 & 21.0\\\\\n",
       "\t 82.9 & 45.2 & 24.4\\\\\n",
       "\t 87.1 & 64.5 & 24.5\\\\\n",
       "\t 64.1 & 62.0 & 16.5\\\\\n",
       "\t 66.9 & 67.5 & 19.1\\\\\n",
       "\t 68.9 & 60.7 & 22.7\\\\\n",
       "\t 61.7 & 69.3 & 18.7\\\\\n",
       "\t 68.3 & 72.6 & 21.2\\\\\n",
       "\t 71.7 & 34.0 & 20.0\\\\\n",
       "\t 55.7 & 19.4 & 20.2\\\\\n",
       "\t 54.3 & 15.2 & 10.8\\\\\n",
       "\t 65.1 & 73.0 & 20.0\\\\\n",
       "\t 65.5 & 59.8 & 18.0\\\\\n",
       "\t 65.0 & 55.1 & 22.4\\\\\n",
       "\t 56.6 & 50.9 & 16.7\\\\\n",
       "\t 57.4 & 54.1 & 15.3\\\\\n",
       "\t 72.5 & 71.2 & 21.0\\\\\n",
       "\t 74.2 & 58.1 & 23.8\\\\\n",
       "\t 72.0 & 63.5 & 18.0\\\\\n",
       "\t 60.5 & 60.8 & 16.3\\\\\n",
       "\t 58.3 & 26.8 & 20.9\\\\\n",
       "\t 65.4 & 49.5 & 22.5\\\\\n",
       "\t 75.5 & 85.9 & 15.1\\\\\n",
       "\t 69.3 & 84.9 & 19.8\\\\\n",
       "\t 77.3 & 89.7 & 18.3\\\\\n",
       "\t 70.5 & 78.2 & 19.4\\\\\n",
       "\t 79.4 & 64.9 & 20.2\\\\\n",
       "\t 65.0 & 75.9 & 17.8\\\\\n",
       "\t 92.2 & 84.6 & 16.3\\\\\n",
       "\t 79.3 & 63.1 & 18.1\\\\\n",
       "\t 70.4 & 38.4 & 20.3\\\\\n",
       "\t 65.7 &  7.7 & 20.5\\\\\n",
       "\t 72.7 & 16.7 & 18.9\\\\\n",
       "\t 64.4 & 17.6 & 23.0\\\\\n",
       "\t 77.6 & 37.6 & 20.0\\\\\n",
       "\t 67.6 & 18.7 & 19.5\\\\\n",
       "\t 35.0 &  1.2 & 18.0\\\\\n",
       "\t 44.7 & 46.6 & 18.2\\\\\n",
       "\t 42.8 & 27.7 & 19.3\\\\\n",
       "\\end{tabular}\n"
      ],
      "text/markdown": [
       "\n",
       "swiss.Fertility | swiss.Agriculture | swiss.Infant.Mortality | \n",
       "|---|---|---|---|---|---|---|---|---|---|---|---|---|---|---|---|---|---|---|---|---|---|---|---|---|---|---|---|---|---|---|---|---|---|---|---|---|---|---|---|---|---|---|---|---|---|---|\n",
       "| 80.2 | 17.0 | 22.2 | \n",
       "| 83.1 | 45.1 | 22.2 | \n",
       "| 92.5 | 39.7 | 20.2 | \n",
       "| 85.8 | 36.5 | 20.3 | \n",
       "| 76.9 | 43.5 | 20.6 | \n",
       "| 76.1 | 35.3 | 26.6 | \n",
       "| 83.8 | 70.2 | 23.6 | \n",
       "| 92.4 | 67.8 | 24.9 | \n",
       "| 82.4 | 53.3 | 21.0 | \n",
       "| 82.9 | 45.2 | 24.4 | \n",
       "| 87.1 | 64.5 | 24.5 | \n",
       "| 64.1 | 62.0 | 16.5 | \n",
       "| 66.9 | 67.5 | 19.1 | \n",
       "| 68.9 | 60.7 | 22.7 | \n",
       "| 61.7 | 69.3 | 18.7 | \n",
       "| 68.3 | 72.6 | 21.2 | \n",
       "| 71.7 | 34.0 | 20.0 | \n",
       "| 55.7 | 19.4 | 20.2 | \n",
       "| 54.3 | 15.2 | 10.8 | \n",
       "| 65.1 | 73.0 | 20.0 | \n",
       "| 65.5 | 59.8 | 18.0 | \n",
       "| 65.0 | 55.1 | 22.4 | \n",
       "| 56.6 | 50.9 | 16.7 | \n",
       "| 57.4 | 54.1 | 15.3 | \n",
       "| 72.5 | 71.2 | 21.0 | \n",
       "| 74.2 | 58.1 | 23.8 | \n",
       "| 72.0 | 63.5 | 18.0 | \n",
       "| 60.5 | 60.8 | 16.3 | \n",
       "| 58.3 | 26.8 | 20.9 | \n",
       "| 65.4 | 49.5 | 22.5 | \n",
       "| 75.5 | 85.9 | 15.1 | \n",
       "| 69.3 | 84.9 | 19.8 | \n",
       "| 77.3 | 89.7 | 18.3 | \n",
       "| 70.5 | 78.2 | 19.4 | \n",
       "| 79.4 | 64.9 | 20.2 | \n",
       "| 65.0 | 75.9 | 17.8 | \n",
       "| 92.2 | 84.6 | 16.3 | \n",
       "| 79.3 | 63.1 | 18.1 | \n",
       "| 70.4 | 38.4 | 20.3 | \n",
       "| 65.7 |  7.7 | 20.5 | \n",
       "| 72.7 | 16.7 | 18.9 | \n",
       "| 64.4 | 17.6 | 23.0 | \n",
       "| 77.6 | 37.6 | 20.0 | \n",
       "| 67.6 | 18.7 | 19.5 | \n",
       "| 35.0 |  1.2 | 18.0 | \n",
       "| 44.7 | 46.6 | 18.2 | \n",
       "| 42.8 | 27.7 | 19.3 | \n",
       "\n",
       "\n"
      ],
      "text/plain": [
       "   swiss.Fertility swiss.Agriculture swiss.Infant.Mortality\n",
       "1  80.2            17.0              22.2                  \n",
       "2  83.1            45.1              22.2                  \n",
       "3  92.5            39.7              20.2                  \n",
       "4  85.8            36.5              20.3                  \n",
       "5  76.9            43.5              20.6                  \n",
       "6  76.1            35.3              26.6                  \n",
       "7  83.8            70.2              23.6                  \n",
       "8  92.4            67.8              24.9                  \n",
       "9  82.4            53.3              21.0                  \n",
       "10 82.9            45.2              24.4                  \n",
       "11 87.1            64.5              24.5                  \n",
       "12 64.1            62.0              16.5                  \n",
       "13 66.9            67.5              19.1                  \n",
       "14 68.9            60.7              22.7                  \n",
       "15 61.7            69.3              18.7                  \n",
       "16 68.3            72.6              21.2                  \n",
       "17 71.7            34.0              20.0                  \n",
       "18 55.7            19.4              20.2                  \n",
       "19 54.3            15.2              10.8                  \n",
       "20 65.1            73.0              20.0                  \n",
       "21 65.5            59.8              18.0                  \n",
       "22 65.0            55.1              22.4                  \n",
       "23 56.6            50.9              16.7                  \n",
       "24 57.4            54.1              15.3                  \n",
       "25 72.5            71.2              21.0                  \n",
       "26 74.2            58.1              23.8                  \n",
       "27 72.0            63.5              18.0                  \n",
       "28 60.5            60.8              16.3                  \n",
       "29 58.3            26.8              20.9                  \n",
       "30 65.4            49.5              22.5                  \n",
       "31 75.5            85.9              15.1                  \n",
       "32 69.3            84.9              19.8                  \n",
       "33 77.3            89.7              18.3                  \n",
       "34 70.5            78.2              19.4                  \n",
       "35 79.4            64.9              20.2                  \n",
       "36 65.0            75.9              17.8                  \n",
       "37 92.2            84.6              16.3                  \n",
       "38 79.3            63.1              18.1                  \n",
       "39 70.4            38.4              20.3                  \n",
       "40 65.7             7.7              20.5                  \n",
       "41 72.7            16.7              18.9                  \n",
       "42 64.4            17.6              23.0                  \n",
       "43 77.6            37.6              20.0                  \n",
       "44 67.6            18.7              19.5                  \n",
       "45 35.0             1.2              18.0                  \n",
       "46 44.7            46.6              18.2                  \n",
       "47 42.8            27.7              19.3                  "
      ]
     },
     "metadata": {},
     "output_type": "display_data"
    }
   ],
   "source": [
    "swiss2 <- data.frame(swiss$Fertility,swiss$Agriculture,swiss$Infant.Mortality)\n",
    "swiss2\n"
   ]
  },
  {
   "cell_type": "code",
   "execution_count": 31,
   "metadata": {},
   "outputs": [
    {
     "ename": "ERROR",
     "evalue": "Error in parse(text = x, srcfile = src): <text>:3:96: unexpected ')'\n2: points(swiss2$swiss.Infant.Mortality)\n3: regression <- lm(swiss2$swiss.Agriculture~swiss2$swiss.Fertility~swiss2$swiss.Infant.Mortality))\n                                                                                                  ^\n",
     "output_type": "error",
     "traceback": [
      "Error in parse(text = x, srcfile = src): <text>:3:96: unexpected ')'\n2: points(swiss2$swiss.Infant.Mortality)\n3: regression <- lm(swiss2$swiss.Agriculture~swiss2$swiss.Fertility~swiss2$swiss.Infant.Mortality))\n                                                                                                  ^\nTraceback:\n"
     ]
    }
   ],
   "source": [
    "plot(swiss2$swiss.Fertility,swiss2$swiss.Agriculture, col =c('red','green'))\n",
    "points(swiss2$swiss.Infant.Mortality)\n",
    "regression <- lm(swiss2$swiss.Agriculture~swiss2$swiss.Fertility)\n",
    "abline(regression)"
   ]
  },
  {
   "cell_type": "markdown",
   "metadata": {
    "button": false,
    "new_sheet": false,
    "run_control": {
     "read_only": false
    }
   },
   "source": [
    "## Funciones en R\n",
    "* Las funciones permiten realizar operaciones sobre objetos de una manera estructurada. La forma básica de definir una función (por ejemplo, llamada *function.name*) en R es la siguiente:\n",
    "\n",
    "```{r}\n",
    "function.name <- function(arg1, arg2, ..., argN) {\n",
    "# statements\n",
    "}\n",
    "```\n",
    " \n",
    "*arg1, ..., argN* son las variables y/o argumentos de entrada que necesita la función\n",
    "    \n",
    "    \n",
    "* La forma de llamar a esta función sería tal que así:\n",
    "\n",
    "```{r}\n",
    "res <- function.name(arg1, arg2, ..., argN)\n",
    "```\n",
    "     \n",
    "*res* es la variable de salida que devuelve la función como resultado de las operaciones hechas sobre las variables de entrada."
   ]
  },
  {
   "cell_type": "code",
   "execution_count": null,
   "metadata": {},
   "outputs": [],
   "source": []
  },
  {
   "cell_type": "code",
   "execution_count": 39,
   "metadata": {},
   "outputs": [
    {
     "name": "stdout",
     "output_type": "stream",
     "text": [
      "[1] \"Hello world\"\n"
     ]
    }
   ],
   "source": [
    "# Es posible definir una función sin ninguna variable de entrada (aunque no tiene mucho sentido)\n",
    "# Función \"sin función\"\n",
    "hello <- function() {\n",
    " print(\"Hello world\")\n",
    "}\n",
    "hello()"
   ]
  },
  {
   "cell_type": "code",
   "execution_count": 28,
   "metadata": {},
   "outputs": [
    {
     "data": {
      "text/html": [
       "12"
      ],
      "text/latex": [
       "12"
      ],
      "text/markdown": [
       "12"
      ],
      "text/plain": [
       "[1] 12"
      ]
     },
     "metadata": {},
     "output_type": "display_data"
    }
   ],
   "source": [
    "# Ejemplo de función con dos variables de entrada\n",
    "# Calcula la suma de dos números\n",
    "fun.sum <- function(x, y) {\n",
    " return(x + y)\n",
    "}\n",
    "fun.sum(5, 7)"
   ]
  },
  {
   "cell_type": "code",
   "execution_count": 29,
   "metadata": {},
   "outputs": [
    {
     "data": {
      "text/html": [
       "<ol class=list-inline>\n",
       "\t<li>1</li>\n",
       "\t<li>100</li>\n",
       "</ol>\n"
      ],
      "text/latex": [
       "\\begin{enumerate*}\n",
       "\\item 1\n",
       "\\item 100\n",
       "\\end{enumerate*}\n"
      ],
      "text/markdown": [
       "1. 1\n",
       "2. 100\n",
       "\n",
       "\n"
      ],
      "text/plain": [
       "[1]   1 100"
      ]
     },
     "metadata": {},
     "output_type": "display_data"
    }
   ],
   "source": [
    "# Cálculo del máximo y el mínimo de un vector\n",
    "max.min <- function(x) {\n",
    " return(c(min(x), max(x)))\n",
    "}\n",
    "vec <- 1:100\n",
    "max.min(vec)"
   ]
  },
  {
   "cell_type": "markdown",
   "metadata": {},
   "source": [
    "### Ejercicio\n",
    "Construye una función llamada *IMC* que calcule el *Indice de Masa Corporal* a partir del peso (en kg) y la altura (en m). \n",
    "IMC = peso/altura^2."
   ]
  },
  {
   "cell_type": "code",
   "execution_count": 1,
   "metadata": {},
   "outputs": [
    {
     "data": {
      "text/html": [
       "<ol class=list-inline>\n",
       "\t<li>21.484375</li>\n",
       "\t<li>21.0498179023689</li>\n",
       "\t<li>26.3328887520947</li>\n",
       "\t<li>26.7755102040816</li>\n",
       "\t<li>24.4351866688031</li>\n",
       "\t<li>25.3515413737155</li>\n",
       "\t<li>28.0821708739049</li>\n",
       "</ol>\n"
      ],
      "text/latex": [
       "\\begin{enumerate*}\n",
       "\\item 21.484375\n",
       "\\item 21.0498179023689\n",
       "\\item 26.3328887520947\n",
       "\\item 26.7755102040816\n",
       "\\item 24.4351866688031\n",
       "\\item 25.3515413737155\n",
       "\\item 28.0821708739049\n",
       "\\end{enumerate*}\n"
      ],
      "text/markdown": [
       "1. 21.484375\n",
       "2. 21.0498179023689\n",
       "3. 26.3328887520947\n",
       "4. 26.7755102040816\n",
       "5. 24.4351866688031\n",
       "6. 25.3515413737155\n",
       "7. 28.0821708739049\n",
       "\n",
       "\n"
      ],
      "text/plain": [
       "[1] 21.48437 21.04982 26.33289 26.77551 24.43519 25.35154 28.08217"
      ]
     },
     "metadata": {},
     "output_type": "display_data"
    }
   ],
   "source": [
    "peso = c(55, 63, 77, 82, 61, 75, 92)\n",
    "altura = c(1.60, 1.73, 1.71, 1.75, 1.58, 1.72, 1.81)\n",
    "\n",
    "IMC <- function(peso, altura) {\n",
    "    # funcion para calcular el IMC a partir del peso y la altura\n",
    "    return(peso/altura**2)\n",
    "}\n",
    "IMC(peso, altura)"
   ]
  },
  {
   "cell_type": "markdown",
   "metadata": {},
   "source": [
    "* Hay variables de entrada que son obligatorias y otras que son opcionales. Por ejemplo, la función *log* tiene una variable de entrada obligatoria (el número del cual se desea calcular el logaritmo) y otra opcional (si no se especifica lo contrario, se calcular el logaritmo natural, es decir, en base *e*)."
   ]
  },
  {
   "cell_type": "code",
   "execution_count": 2,
   "metadata": {},
   "outputs": [
    {
     "data": {
      "text/html": [
       "1"
      ],
      "text/latex": [
       "1"
      ],
      "text/markdown": [
       "1"
      ],
      "text/plain": [
       "[1] 1"
      ]
     },
     "metadata": {},
     "output_type": "display_data"
    },
    {
     "data": {
      "text/html": [
       "1.44269504088896"
      ],
      "text/latex": [
       "1.44269504088896"
      ],
      "text/markdown": [
       "1.44269504088896"
      ],
      "text/plain": [
       "[1] 1.442695"
      ]
     },
     "metadata": {},
     "output_type": "display_data"
    }
   ],
   "source": [
    "log(exp(1))\n",
    "log(exp(1), base = 2)"
   ]
  },
  {
   "cell_type": "code",
   "execution_count": 8,
   "metadata": {},
   "outputs": [
    {
     "data": {
      "text/html": [
       "<ol class=list-inline>\n",
       "\t<li>10</li>\n",
       "\t<li>2</li>\n",
       "</ol>\n"
      ],
      "text/latex": [
       "\\begin{enumerate*}\n",
       "\\item 10\n",
       "\\item 2\n",
       "\\end{enumerate*}\n"
      ],
      "text/markdown": [
       "1. 10\n",
       "2. 2\n",
       "\n",
       "\n"
      ],
      "text/plain": [
       "[1] 10  2"
      ]
     },
     "metadata": {},
     "output_type": "display_data"
    },
    {
     "data": {
      "text/html": [
       "100"
      ],
      "text/latex": [
       "100"
      ],
      "text/markdown": [
       "100"
      ],
      "text/plain": [
       "[1] 100"
      ]
     },
     "metadata": {},
     "output_type": "display_data"
    },
    {
     "data": {
      "text/html": [
       "5"
      ],
      "text/latex": [
       "5"
      ],
      "text/markdown": [
       "5"
      ],
      "text/plain": [
       "[1] 5"
      ]
     },
     "metadata": {},
     "output_type": "display_data"
    }
   ],
   "source": [
    "# Esta función, por ejemplo, admite un argumento de entrada opcional (\"operator\"), que puede tomar los valores \"power\" o \"divide\".\n",
    "# Función para realizar operaciones (elevar al cuadrado o dividir) sobre dos números\n",
    "operate.2num = function(x, y, operator = NULL) {\n",
    "    if (is.null(operator)) {\n",
    "        return(c(x, y))\n",
    "    } else if (operator == \"power\") {\n",
    "        return(x^y)\n",
    "    } else if (operator == \"divide\") {\n",
    "        return(x/y)\n",
    "    }\n",
    "}\n",
    "operate.2num(10, 2)\n",
    "operate.2num(10, 2, \"power\")\n",
    "operate.2num(10, 2, \"divide\")"
   ]
  },
  {
   "cell_type": "markdown",
   "metadata": {},
   "source": [
    "### Ejercicio\n",
    "Modifica la función anterior (*operate.2num*) para que:\n",
    "1. permita también calcular el logaritmo de \"x\" en base \"y\"\n",
    "2. en el caso de la operación \"power\" sea el mayor de los dos números el que se eleve al menor"
   ]
  },
  {
   "cell_type": "code",
   "execution_count": 36,
   "metadata": {},
   "outputs": [
    {
     "data": {
      "text/html": [
       "<ol class=list-inline>\n",
       "\t<li>10</li>\n",
       "\t<li>2</li>\n",
       "</ol>\n"
      ],
      "text/latex": [
       "\\begin{enumerate*}\n",
       "\\item 10\n",
       "\\item 2\n",
       "\\end{enumerate*}\n"
      ],
      "text/markdown": [
       "1. 10\n",
       "2. 2\n",
       "\n",
       "\n"
      ],
      "text/plain": [
       "[1] 10  2"
      ]
     },
     "metadata": {},
     "output_type": "display_data"
    },
    {
     "data": {
      "text/html": [
       "100"
      ],
      "text/latex": [
       "100"
      ],
      "text/markdown": [
       "100"
      ],
      "text/plain": [
       "[1] 100"
      ]
     },
     "metadata": {},
     "output_type": "display_data"
    },
    {
     "data": {
      "text/html": [
       "5"
      ],
      "text/latex": [
       "5"
      ],
      "text/markdown": [
       "5"
      ],
      "text/plain": [
       "[1] 5"
      ]
     },
     "metadata": {},
     "output_type": "display_data"
    },
    {
     "data": {
      "text/html": [
       "3.32192809488736"
      ],
      "text/latex": [
       "3.32192809488736"
      ],
      "text/markdown": [
       "3.32192809488736"
      ],
      "text/plain": [
       "[1] 3.321928"
      ]
     },
     "metadata": {},
     "output_type": "display_data"
    }
   ],
   "source": [
    "# Modificación de la función \"operate.2num\"\n",
    "operate.2num = function(x, y, operator = NULL) {\n",
    "    if (is.null(operator)) {\n",
    "        return(c(x, y))\n",
    "    } else if (operator == \"power\") {\n",
    "        return(max(c(x,y))^min(c(x,y)))\n",
    "    } else if (operator == \"divide\") {\n",
    "        return(x/y)\n",
    "    } else if (operator == \"log\") {\n",
    "        return(log(x, y))\n",
    "    }\n",
    "}\n",
    "operate.2num(10, 2)\n",
    "operate.2num(10, 2, \"power\")\n",
    "operate.2num(10, 2, \"divide\")\n",
    "operate.2num(10, 2, \"log\")"
   ]
  },
  {
   "cell_type": "markdown",
   "metadata": {},
   "source": [
    "* La ayuda de una función en R se puede obtener mediante los comandos `?` y `help()`, y se estructura en varias secciones:\n",
    "   +  **Description**: breve descripción de lo que hace la función.  \n",
    "   +  **Usage**: sintaxis de la función.\n",
    "   +  **Arguments**: explicación de los argumentos que recibe la función.\n",
    "   +  **Value**: explicación del objeto que devuelve la función. El objeto devuelto puede ser un valor, una lista, una matriz, …\n",
    "   +  **References**: bibliografía relacionada con los métodos implementados en la función.\n",
    "   +  **See Also**: funciones relacionadas.\n",
    "   +  **Examples**: esta es sin duda la sección más importante ya que muestra ejemplos efectivos del uso de la función."
   ]
  },
  {
   "cell_type": "code",
   "execution_count": null,
   "metadata": {},
   "outputs": [],
   "source": [
    "?mean()\n",
    "help(mean)"
   ]
  },
  {
   "cell_type": "markdown",
   "metadata": {},
   "source": [
    "* Si queremos utilizar una función que no recordamos (o no conocemos), pero de la que sabemos (o sospechamos) que su nombre contiene el término *mean*, podemos utilizar *apropos(\"mean\")*, que nos devuelve un listado de funciones que contienen dicho témino en su nombre."
   ]
  },
  {
   "cell_type": "code",
   "execution_count": null,
   "metadata": {},
   "outputs": [],
   "source": [
    "apropos(\"mean\")"
   ]
  },
  {
   "cell_type": "markdown",
   "metadata": {
    "button": false,
    "new_sheet": false,
    "run_control": {
     "read_only": false
    }
   },
   "source": [
    "## Librerías en R\n",
    "\n",
    "* La instalación básica de R viene equipada con múltiples funciones para análisis estadístico, importación de datos, gráficos, etc. Sin embargo, puede ocurrir que necesitemos llevar a cabo un análisis muy específico para el cual no encontremos las funciones adecuadas. En ese caso, la gran ventaja de R radica en que, en la práctica, casi siempre será posible encontrar un paquete (ó librería) que ya haya sido diseñado para el fin que perseguimos.\n",
    "* Un paquete es una colección de funciones y/o datos con un propósito concreto (normalmente bastante específico) que se almacenan en una carpeta conforme a una estructura bien definida, fácilmente entendible por R.\n",
    "* En la web de R se puede consultar la lista de paquetes disponibles (actualmente, más de 13000): https://cran.r-project.org/web/packages/. En la sección Task Views (https://cran.r-project.org/web/views/) se puede consultar una lista de paquetes ordenada según áreas de aplicación.\n",
    "* El comando *library()* abre una ventana con información sobre los paquetes instalados en R. "
   ]
  },
  {
   "cell_type": "code",
   "execution_count": 32,
   "metadata": {},
   "outputs": [
    {
     "name": "stderr",
     "output_type": "stream",
     "text": [
      "Warning message in library():\n",
      "“libraries ‘/usr/local/lib/R/site-library’, ‘/usr/lib/R/site-library’ contain no packages”"
     ]
    },
    {
     "data": {},
     "metadata": {},
     "output_type": "display_data"
    }
   ],
   "source": [
    "library()"
   ]
  },
  {
   "cell_type": "markdown",
   "metadata": {},
   "source": [
    "* Podemos ver un listado completo de los paquetes actualmente cargados en memoria con el comando `search()`. "
   ]
  },
  {
   "cell_type": "code",
   "execution_count": 33,
   "metadata": {},
   "outputs": [
    {
     "data": {
      "text/html": [
       "<ol class=list-inline>\n",
       "\t<li>'.GlobalEnv'</li>\n",
       "\t<li>'package:devtools'</li>\n",
       "\t<li>'jupyter:irkernel'</li>\n",
       "\t<li>'package:stats'</li>\n",
       "\t<li>'package:graphics'</li>\n",
       "\t<li>'package:grDevices'</li>\n",
       "\t<li>'package:utils'</li>\n",
       "\t<li>'package:datasets'</li>\n",
       "\t<li>'package:methods'</li>\n",
       "\t<li>'Autoloads'</li>\n",
       "\t<li>'package:base'</li>\n",
       "</ol>\n"
      ],
      "text/latex": [
       "\\begin{enumerate*}\n",
       "\\item '.GlobalEnv'\n",
       "\\item 'package:devtools'\n",
       "\\item 'jupyter:irkernel'\n",
       "\\item 'package:stats'\n",
       "\\item 'package:graphics'\n",
       "\\item 'package:grDevices'\n",
       "\\item 'package:utils'\n",
       "\\item 'package:datasets'\n",
       "\\item 'package:methods'\n",
       "\\item 'Autoloads'\n",
       "\\item 'package:base'\n",
       "\\end{enumerate*}\n"
      ],
      "text/markdown": [
       "1. '.GlobalEnv'\n",
       "2. 'package:devtools'\n",
       "3. 'jupyter:irkernel'\n",
       "4. 'package:stats'\n",
       "5. 'package:graphics'\n",
       "6. 'package:grDevices'\n",
       "7. 'package:utils'\n",
       "8. 'package:datasets'\n",
       "9. 'package:methods'\n",
       "10. 'Autoloads'\n",
       "11. 'package:base'\n",
       "\n",
       "\n"
      ],
      "text/plain": [
       " [1] \".GlobalEnv\"        \"package:devtools\"  \"jupyter:irkernel\" \n",
       " [4] \"package:stats\"     \"package:graphics\"  \"package:grDevices\"\n",
       " [7] \"package:utils\"     \"package:datasets\"  \"package:methods\"  \n",
       "[10] \"Autoloads\"         \"package:base\"     "
      ]
     },
     "metadata": {},
     "output_type": "display_data"
    }
   ],
   "source": [
    "search()"
   ]
  },
  {
   "cell_type": "markdown",
   "metadata": {},
   "source": [
    "* Para poder usar un paquete es necesario instalarlo y después cargarlo en memoria (comando `library`).\n",
    "  \n",
    " + Instalación de librerías:\n",
    "     + CRAN \n",
    "     + GitHub (hay que instalar antes el paquete \"devtools\")\n",
    "     + local"
   ]
  },
  {
   "cell_type": "code",
   "execution_count": 3,
   "metadata": {},
   "outputs": [
    {
     "name": "stderr",
     "output_type": "stream",
     "text": [
      "Installing package into ‘/home/jovyan/R/x86_64-pc-linux-gnu-library/3.4’\n",
      "(as ‘lib’ is unspecified)\n",
      "also installing the dependencies ‘R.methodsS3’, ‘R.oo’, ‘R.utils’\n",
      "\n",
      "Warning message in install.packages(\"R.matlab\"):\n",
      "“installation of package ‘R.matlab’ had non-zero exit status”R.matlab v3.6.2 (2018-09-26) successfully loaded. See ?R.matlab for help.\n",
      "\n",
      "Attaching package: ‘R.matlab’\n",
      "\n",
      "The following objects are masked from ‘package:base’:\n",
      "\n",
      "    getOption, isOpen\n",
      "\n"
     ]
    },
    {
     "data": {
      "text/html": [
       "TRUE"
      ],
      "text/latex": [
       "TRUE"
      ],
      "text/markdown": [
       "TRUE"
      ],
      "text/plain": [
       "[1] TRUE"
      ]
     },
     "metadata": {},
     "output_type": "display_data"
    }
   ],
   "source": [
    "## installing from CRAN ##\n",
    "# R.matlab package (https://cran.r-project.org/web/packages/R.matlab/index.html). \n",
    "# R.matlab provides methods for controlling MATLAB via R and sending and retrieving data between R and MATLAB.\n",
    "install.packages(\"R.matlab\")\n",
    "\n",
    "# La primera vez que se instale un paquete, R  preguntará el país desde dónde se desea descargar\n",
    "# (es aconsejable hacerlo desde un mirror español). \n",
    "\n",
    "# Una vez instalado no se necesitará instalarlo más, pero hay que cargarlo en memoria para poder usarlo\n",
    "library(R.matlab)\n",
    "existsFunction(\"writeMat\")"
   ]
  },
  {
   "cell_type": "code",
   "execution_count": 4,
   "metadata": {},
   "outputs": [
    {
     "name": "stderr",
     "output_type": "stream",
     "text": [
      "Installing package into ‘/home/jovyan/R/x86_64-pc-linux-gnu-library/3.4’\n",
      "(as ‘lib’ is unspecified)\n",
      "Downloading GitHub repo HenrikBengtsson/R.matlab@develop\n",
      "from URL https://api.github.com/repos/HenrikBengtsson/R.matlab/zipball/develop\n",
      "Installing R.matlab\n",
      "'/usr/lib/R/bin/R' --no-site-file --no-environ --no-save --no-restore --quiet  \\\n",
      "  CMD INSTALL  \\\n",
      "  '/tmp/Rtmp6AJhmp/devtools5d62b6714c8/HenrikBengtsson-R.matlab-e3ded54'  \\\n",
      "  --library='/home/jovyan/R/x86_64-pc-linux-gnu-library/3.4' --install-tests \n",
      "\n",
      "Reloading installed R.matlab\n",
      "\n",
      "Attaching package: ‘R.matlab’\n",
      "\n",
      "The following objects are masked from ‘package:base’:\n",
      "\n",
      "    getOption, isOpen\n",
      "\n"
     ]
    }
   ],
   "source": [
    "# https://cran.r-project.org/web/packages/devtools/index.html\n",
    "install.packages(\"devtools\")\n",
    "library(devtools)\n",
    "\n",
    "## installing from GitHub ##\n",
    "install_github(\"HenrikBengtsson/R.matlab@develop\")\n",
    "library(R.matlab)"
   ]
  },
  {
   "cell_type": "code",
   "execution_count": null,
   "metadata": {},
   "outputs": [],
   "source": [
    "## instalación local de un paquete comprimido\n",
    "install.packages(\"./pathLocal/paquete.tar.gz\", repos = NULL, type = \"source\")\n",
    "library(paquete)"
   ]
  },
  {
   "cell_type": "markdown",
   "metadata": {},
   "source": [
    "* En ocasiones se hace necesario eliminar de la memoria algún paquete que hemos cargado previamente (por ejemplo, porque deseamos cargar una versión que acabamos de actualizar). Para ello basta con ejecutar el comando *detach*"
   ]
  },
  {
   "cell_type": "code",
   "execution_count": 24,
   "metadata": {},
   "outputs": [
    {
     "data": {
      "text/html": [
       "FALSE"
      ],
      "text/latex": [
       "FALSE"
      ],
      "text/markdown": [
       "FALSE"
      ],
      "text/plain": [
       "[1] FALSE"
      ]
     },
     "metadata": {},
     "output_type": "display_data"
    }
   ],
   "source": [
    "detach(\"package:R.matlab\")\n",
    "# comprueba si existe la función especificada\n",
    "existsFunction(\"writeMat\") "
   ]
  },
  {
   "cell_type": "markdown",
   "metadata": {},
   "source": [
    "* Si queremos eliminar físicamente del disco duro un paquete que tengamos instalado, basta ejecutar la función *remove.packages*"
   ]
  },
  {
   "cell_type": "code",
   "execution_count": null,
   "metadata": {},
   "outputs": [],
   "source": [
    "remove.packages(\"R.matlab\")"
   ]
  },
  {
   "cell_type": "markdown",
   "metadata": {},
   "source": [
    "* Para ver un listado de todos los paquetes que tenemos en nuestro ordenador que pueden ser actualizados"
   ]
  },
  {
   "cell_type": "code",
   "execution_count": 35,
   "metadata": {},
   "outputs": [
    {
     "data": {
      "text/plain": [
       "NULL"
      ]
     },
     "metadata": {},
     "output_type": "display_data"
    }
   ],
   "source": [
    "old.packages()"
   ]
  },
  {
   "cell_type": "markdown",
   "metadata": {},
   "source": [
    "* Para actualizar dichos paquetes"
   ]
  },
  {
   "cell_type": "code",
   "execution_count": 26,
   "metadata": {},
   "outputs": [],
   "source": [
    "update.packages()"
   ]
  },
  {
   "cell_type": "markdown",
   "metadata": {},
   "source": [
    "* Finalmente, podemos querer cargar una función que hayamos creado nosotros mismos o nos hayamos descargado en local, pero que no sea una librería. Para ello tenemos que usar el comando `source`. El problema de este comando es que hay que volver a aplicarlo siempre que hagamos un cambio en la funcion que queramos utilizar."
   ]
  },
  {
   "cell_type": "code",
   "execution_count": 2,
   "metadata": {},
   "outputs": [
    {
     "name": "stdout",
     "output_type": "stream",
     "text": [
      "[1] \"Mi nombre es Rodrigo\"\n"
     ]
    }
   ],
   "source": [
    "source(\"/home/jovyan/introduccion-R/show.name.R\")\n",
    "show.name(\"Rodrigo\")"
   ]
  },
  {
   "cell_type": "markdown",
   "metadata": {
    "button": false,
    "new_sheet": false,
    "run_control": {
     "read_only": false
    }
   },
   "source": [
    "## RStudio\n",
    "* RStudio es un IDE (*Integrated Development Environment*, o Entorno de Desarrollo Integrado) de código abierto que permite interactuar con R de manera muy simple. Por decirlo de una manera gráfica, R será nuestro motor para el análisis de datos y Rstudio la carrocería que nos va a permitir manejar cómodamente toda la potencia del motor.\n",
    "* Entre otras ventajas, Rstudio utiliza diferentes colores para las distintas clases de objetos de R, permite autocompletar código (tecla tabulador), incluye un sistema de menús de ayuda muy completo, cuenta con un potente sistema para la gestión, descarga y construcción de librerías, dispone de un depurador de código que detecta posibles errores de sintaxis, es multiplataforma (existen versiones para Windows, Linux y Mac)...\n",
    "* Instalación: \n",
    "http://www.rstudio.com/\n",
    "* Por defecto, RStudio tiene cuatro paneles principales (la interfaz puede modificarse en *Tools → Options → PaneLayout*). \n",
    "   + El panel inferior izquierdo es una consola de R. En ella se puede escribir y ejecutar código. \n",
    "   + El panel superior izquierdo es un editor de código. Los ficheros que se abran y se editen irán apareciendo en distintas pestañas.\n",
    "   + Los paneles de la derecha son menos importantes. \n",
    "      + El superior contiene un listado de las variables en el entorno y un histórico de comandos ejecutados. \n",
    "      + De entre todas las pestañas que aparecen en el inferior, las más usadas generalmente son:\n",
    "        + Files: da acceso al sistema de ficheros del disco duro.\n",
    "        + Plots: aloja los gráficos que cree R.\n",
    "        + Help: muestra la página de ayuda de las funciones cuando la solicite el usuario.             \n",
    "* Permite la creación de proyectos e integra funcionalidades git.\n"
   ]
  }
 ],
 "metadata": {
  "kernelspec": {
   "display_name": "R",
   "language": "R",
   "name": "ir"
  },
  "language_info": {
   "codemirror_mode": "r",
   "file_extension": ".r",
   "mimetype": "text/x-r-source",
   "name": "R",
   "pygments_lexer": "r",
   "version": "3.4.4"
  }
 },
 "nbformat": 4,
 "nbformat_minor": 2
}

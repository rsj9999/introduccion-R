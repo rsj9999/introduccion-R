{
 "cells": [
  {
   "cell_type": "markdown",
   "metadata": {},
   "source": [
    "# Estructuras de Control"
   ]
  },
  {
   "cell_type": "markdown",
   "metadata": {},
   "source": [
    "Las estructuras de control son el esqueleto del lenguage de la programación. Entre las estructuras de control encontramos los bucles, las sentencias condicionales. En este clase vamos a ver las estructuras de control básicas de la programación en R. \n",
    "\n",
    "PARTE 1:\n",
    "- if-else\n",
    "- for\n",
    "- while\n",
    "- repeat/break\n",
    "\n",
    "PARTE 2:\n",
    "- apply/sapply/lapply/tapply\n",
    "- programación paralelizada"
   ]
  },
  {
   "cell_type": "markdown",
   "metadata": {},
   "source": [
    "## If-else\n"
   ]
  },
  {
   "cell_type": "markdown",
   "metadata": {},
   "source": [
    "En esta sección vamos a ver como implementar una condición en R. Las condiciones se expresan de la siguiente manera:\n",
    "\n",
    "- a == b   (es TRUE si a y b son IGUALES) \n",
    "- a != b   (es TRUE si a y b son DISTINTO)\n",
    "- a >= b   (es TRUE si a es MAYOR o IGUAL a b)\n",
    "- a <= b   (es TRUE si a es MENOR o IGUAL a b)\n",
    "- a < b || a == c (es TRUE si a es MENOR que b o si a es IGUAL a c)\n",
    "- a <= b && a == c (es TRUE si a es MENOR que b y si a es IGUAL a c)\n",
    "\n",
    "Si se ejecuta la condición se obtiene un objeto de tipo booleano (TRUE o FALSE), que indica si se cumple o no dicha condición. Los elementos a y b pueden ser en principio cualquier objeto: lista, número, caracter ... "
   ]
  },
  {
   "cell_type": "code",
   "execution_count": 1,
   "metadata": {},
   "outputs": [
    {
     "data": {
      "text/html": [
       "TRUE"
      ],
      "text/latex": [
       "TRUE"
      ],
      "text/markdown": [
       "TRUE"
      ],
      "text/plain": [
       "[1] TRUE"
      ]
     },
     "metadata": {},
     "output_type": "display_data"
    },
    {
     "data": {
      "text/html": [
       "FALSE"
      ],
      "text/latex": [
       "FALSE"
      ],
      "text/markdown": [
       "FALSE"
      ],
      "text/plain": [
       "[1] FALSE"
      ]
     },
     "metadata": {},
     "output_type": "display_data"
    },
    {
     "data": {
      "text/html": [
       "TRUE"
      ],
      "text/latex": [
       "TRUE"
      ],
      "text/markdown": [
       "TRUE"
      ],
      "text/plain": [
       "[1] TRUE"
      ]
     },
     "metadata": {},
     "output_type": "display_data"
    },
    {
     "data": {
      "text/html": [
       "FALSE"
      ],
      "text/latex": [
       "FALSE"
      ],
      "text/markdown": [
       "FALSE"
      ],
      "text/plain": [
       "[1] FALSE"
      ]
     },
     "metadata": {},
     "output_type": "display_data"
    },
    {
     "data": {
      "text/html": [
       "TRUE"
      ],
      "text/latex": [
       "TRUE"
      ],
      "text/markdown": [
       "TRUE"
      ],
      "text/plain": [
       "[1] TRUE"
      ]
     },
     "metadata": {},
     "output_type": "display_data"
    },
    {
     "data": {
      "text/html": [
       "FALSE"
      ],
      "text/latex": [
       "FALSE"
      ],
      "text/markdown": [
       "FALSE"
      ],
      "text/plain": [
       "[1] FALSE"
      ]
     },
     "metadata": {},
     "output_type": "display_data"
    },
    {
     "data": {
      "text/html": [
       "TRUE"
      ],
      "text/latex": [
       "TRUE"
      ],
      "text/markdown": [
       "TRUE"
      ],
      "text/plain": [
       "[1] TRUE"
      ]
     },
     "metadata": {},
     "output_type": "display_data"
    }
   ],
   "source": [
    "a <- 2\n",
    "b <- 5\n",
    "c <- 2\n",
    "\n",
    "a == 2\n",
    "a == b\n",
    "a == c\n",
    "a != 2\n",
    "b >= c\n",
    "\n",
    "a == c && a == b\n",
    "a == c || a == b"
   ]
  },
  {
   "cell_type": "markdown",
   "metadata": {},
   "source": [
    "La condición también puede estar asignada a un objeto, como por ejemplo:"
   ]
  },
  {
   "cell_type": "code",
   "execution_count": 2,
   "metadata": {},
   "outputs": [
    {
     "name": "stdout",
     "output_type": "stream",
     "text": [
      "[1] \"Se cumple la condicion\"\n"
     ]
    },
    {
     "data": {
      "text/html": [
       "'Esto se debe a que el objeto cond1 es de la clase: logical'"
      ],
      "text/latex": [
       "'Esto se debe a que el objeto cond1 es de la clase: logical'"
      ],
      "text/markdown": [
       "'Esto se debe a que el objeto cond1 es de la clase: logical'"
      ],
      "text/plain": [
       "[1] \"Esto se debe a que el objeto cond1 es de la clase: logical\""
      ]
     },
     "metadata": {},
     "output_type": "display_data"
    },
    {
     "name": "stdout",
     "output_type": "stream",
     "text": [
      "[1] \"Se cumple la condicion\"\n"
     ]
    }
   ],
   "source": [
    "cond1 <- a == 2\n",
    "\n",
    "# Aqui está asignada la condicion a cond1\n",
    "if (cond1) {\n",
    "    print(\"Se cumple la condicion\")\n",
    "} else {\n",
    "    print(\"No se cumple la condicion\")\n",
    "}\n",
    "paste(\"Esto se debe a que el objeto cond1 es de la clase:\",class(cond1))\n",
    "\n",
    "# ... que equivale a esto\n",
    "if (a == 2) {\n",
    "    print(\"Se cumple la condicion\")\n",
    "} else {\n",
    "    print(\"No se cumple la condicion\")\n",
    "}"
   ]
  },
  {
   "cell_type": "markdown",
   "metadata": {},
   "source": [
    "Si ponemos el símbolo ! antes de la condición indica DISTINTO a la condición:"
   ]
  },
  {
   "cell_type": "code",
   "execution_count": 4,
   "metadata": {},
   "outputs": [
    {
     "data": {
      "text/html": [
       "'Por tanto si cond1 es TRUE entonces !cond1 es FALSE'"
      ],
      "text/latex": [
       "'Por tanto si cond1 es TRUE entonces !cond1 es FALSE'"
      ],
      "text/markdown": [
       "'Por tanto si cond1 es TRUE entonces !cond1 es FALSE'"
      ],
      "text/plain": [
       "[1] \"Por tanto si cond1 es TRUE entonces !cond1 es FALSE\""
      ]
     },
     "metadata": {},
     "output_type": "display_data"
    },
    {
     "name": "stdout",
     "output_type": "stream",
     "text": [
      "[1] \"No se cumple la condicion\"\n"
     ]
    }
   ],
   "source": [
    "paste(\"Por tanto si cond1 es\",cond1,\"entonces !cond1 es\",!cond1)\n",
    "\n",
    "if (!cond1) {\n",
    "    print(\"Se cumple la condicion\")\n",
    "} else {\n",
    "    print(\"No se cumple la condicion\")\n",
    "}"
   ]
  },
  {
   "cell_type": "markdown",
   "metadata": {},
   "source": [
    "Hay funciones importantes de R que nos permiten obtener información sobre sobre los objetos, de tal manera que dichas funciones nos \"contestan\" con True o False .\n",
    "Por ejemplo, a la pregunta: ¿Hay algún NaN en esta matriz? se encarga de responderla la función any.na(), cuya salida de la función es una variable booleana."
   ]
  },
  {
   "cell_type": "code",
   "execution_count": null,
   "metadata": {},
   "outputs": [],
   "source": [
    "vec <- c(1,5,NA,7)\n",
    "cond <- anyNA(vec)\n",
    "if (cond) {\n",
    "    paste(\"En este dataset hay NaNs\")\n",
    "} else {\n",
    "    print(\"En este dataset no hay NaNs\")\n",
    "}"
   ]
  },
  {
   "cell_type": "markdown",
   "metadata": {},
   "source": [
    "Otro ejemplo, a la pregunta: ¿Es esto un NaN en esta matriz? se encarga de responderla la función is.na(), cuya salida de la función es una variable booleana."
   ]
  },
  {
   "cell_type": "code",
   "execution_count": 1,
   "metadata": {},
   "outputs": [
    {
     "data": {
      "text/html": [
       "<ol class=list-inline>\n",
       "\t<li>FALSE</li>\n",
       "\t<li>FALSE</li>\n",
       "\t<li>TRUE</li>\n",
       "\t<li>FALSE</li>\n",
       "</ol>\n"
      ],
      "text/latex": [
       "\\begin{enumerate*}\n",
       "\\item FALSE\n",
       "\\item FALSE\n",
       "\\item TRUE\n",
       "\\item FALSE\n",
       "\\end{enumerate*}\n"
      ],
      "text/markdown": [
       "1. FALSE\n",
       "2. FALSE\n",
       "3. TRUE\n",
       "4. FALSE\n",
       "\n",
       "\n"
      ],
      "text/plain": [
       "[1] FALSE FALSE  TRUE FALSE"
      ]
     },
     "metadata": {},
     "output_type": "display_data"
    }
   ],
   "source": [
    "vec <- c(1,5,NA,7)\n",
    "is.na(vec)"
   ]
  },
  {
   "cell_type": "markdown",
   "metadata": {},
   "source": [
    "En este caso anterior, si introdujesemos lo siguiente, salta un warning ya que vec no tiene longitud 1."
   ]
  },
  {
   "cell_type": "code",
   "execution_count": 2,
   "metadata": {},
   "outputs": [
    {
     "name": "stderr",
     "output_type": "stream",
     "text": [
      "Warning message in if (cond) {:\n",
      "“the condition has length > 1 and only the first element will be used”"
     ]
    },
    {
     "name": "stdout",
     "output_type": "stream",
     "text": [
      "[1] \"En este dataset no hay NaNs\"\n"
     ]
    },
    {
     "data": {
      "text/html": [],
      "text/latex": [],
      "text/markdown": [],
      "text/plain": [
       "integer(0)"
      ]
     },
     "metadata": {},
     "output_type": "display_data"
    }
   ],
   "source": [
    "vec <- c(1,5,NA,7)\n",
    "cond <- is.na(vec)\n",
    "if (cond) {\n",
    "    num_NA <- which(vec == NA)\n",
    "    paste(\"En este dataset hay NaNs, concretamente hay\",num_NA)\n",
    "} else {\n",
    "    print(\"En este dataset no hay NaNs\")\n",
    "}\n",
    "\n",
    "which(vec == NA)"
   ]
  },
  {
   "cell_type": "markdown",
   "metadata": {},
   "source": [
    "En resumidas cuentas, en la estructura if (condicion), lo importante es que la condicion sea un objeto de tipo booleano y a ser posible cuya longitud sea 1!"
   ]
  },
  {
   "cell_type": "markdown",
   "metadata": {},
   "source": [
    "Hay dos grandes diferencias con respecto a python: 1) la condición va entre paréntesis mientras que en python no y 2) el cuerpo de la condición va entre llaves sin importar el sangrado de línea mientras que en python es al revés (prima el sangrado de línea y no hay que poner llaves)."
   ]
  },
  {
   "cell_type": "code",
   "execution_count": 11,
   "metadata": {},
   "outputs": [],
   "source": [
    "## En R\n",
    "#if (condicion) {\n",
    "#    # haz algo aqui\n",
    "#} else {\n",
    "#    # sino haz algo aqui\n",
    "#}\n",
    "#\n",
    "## En python\n",
    "#if condicion:\n",
    "#    #haz algo aqui\n",
    "#else:\n",
    "#    #sino haz algo aqui"
   ]
  },
  {
   "cell_type": "code",
   "execution_count": 8,
   "metadata": {},
   "outputs": [],
   "source": [
    "?which"
   ]
  },
  {
   "cell_type": "markdown",
   "metadata": {},
   "source": [
    "A continuación se pueden ver un ejemplo completo de la aplicacion del if else:"
   ]
  },
  {
   "cell_type": "code",
   "execution_count": 12,
   "metadata": {},
   "outputs": [
    {
     "name": "stdout",
     "output_type": "stream",
     "text": [
      "Le toca el turno a:Paco\n",
      "Me puede decir su apellido por favor:López\n"
     ]
    },
    {
     "data": {
      "text/html": [
       "'Muy bien Paco López pase a la sala'"
      ],
      "text/latex": [
       "'Muy bien Paco López pase a la sala'"
      ],
      "text/markdown": [
       "'Muy bien Paco López pase a la sala'"
      ],
      "text/plain": [
       "[1] \"Muy bien Paco López pase a la sala\""
      ]
     },
     "metadata": {},
     "output_type": "display_data"
    }
   ],
   "source": [
    "my_list = list(\"nombre\" = c(\"Paco\",\"Álvaro\",\"Juan\"), \n",
    "               \"apellido\" = c(\"López\",\"Castillo\",\"Robles\")\n",
    "              ) \n",
    "nom <- readline(prompt=\"Le toca el turno a:\")\n",
    "\n",
    "if (any(my_list$nombre == nom)) {\n",
    "    indice <- which(my_list$nombre==nom)\n",
    "    apell <- readline(prompt=\"Me puede decir su apellido por favor:\")\n",
    "    if (which(my_list$apellido == apell)==indice) {\n",
    "        paste(\"Muy bien\",nom,apell,\"pase a la sala\")\n",
    "    }\n",
    "    else {\n",
    "        paste(\"Lo siento yo estoy buscando a otro\",nom)\n",
    "    }\n",
    "}else {\n",
    "    paste(\"No hay nadie con ese nombre en la sala\")\n",
    "}       "
   ]
  },
  {
   "cell_type": "markdown",
   "metadata": {},
   "source": [
    "En realidad, el ejercicio anterior tiene un pequeño fallo ya que no es capaz de asociar los apellidos con los nombres. Es decir, cuando introduces el apellido el código tan solo busca si ese apellido está en my_list, independientemente de si efectivamente el apellido en cuestión está asociado a algún nombre en particular (Si introduces de nombre \"Paco\" y de apellido \"Castillo\" el algoritmo va a llamar a Paco Castillo cuando no hay ningún Paco Castillo). \n",
    "\n",
    "EJERCICIO PROPUESTO: asocia los nombres a los apellidos en la siguiente celda (ayuda: utiliza la función which):"
   ]
  },
  {
   "cell_type": "code",
   "execution_count": 1,
   "metadata": {},
   "outputs": [],
   "source": []
  },
  {
   "cell_type": "markdown",
   "metadata": {},
   "source": [
    "EJERCICIO PROPUESTO: En la siguiente celda tienes un vector de datos. Tienes que hacer lo siguiente:\n",
    "- Identifica los valores menores que 1 y asignales el valor 0.\n",
    "- Identifica los valores mayores que 0 y multiplicalos por 2."
   ]
  },
  {
   "cell_type": "code",
   "execution_count": 19,
   "metadata": {},
   "outputs": [
    {
     "data": {
      "text/html": [
       "<ol class=list-inline>\n",
       "\t<li>-63</li>\n",
       "\t<li>40</li>\n",
       "\t<li>14</li>\n",
       "\t<li>-67</li>\n",
       "\t<li>85</li>\n",
       "\t<li>84</li>\n",
       "\t<li>-75</li>\n",
       "\t<li>61</li>\n",
       "\t<li>-10</li>\n",
       "\t<li>5</li>\n",
       "\t<li>91</li>\n",
       "\t<li>-55</li>\n",
       "\t<li>43</li>\n",
       "\t<li>97</li>\n",
       "\t<li>-25</li>\n",
       "\t<li>58</li>\n",
       "\t<li>80</li>\n",
       "\t<li>-59</li>\n",
       "\t<li>-19</li>\n",
       "\t<li>-87</li>\n",
       "\t<li>19</li>\n",
       "\t<li>-31</li>\n",
       "\t<li>49</li>\n",
       "\t<li>-74</li>\n",
       "\t<li>-39</li>\n",
       "\t<li>-14</li>\n",
       "\t<li>77</li>\n",
       "\t<li>-38</li>\n",
       "\t<li>66</li>\n",
       "\t<li>-78</li>\n",
       "\t<li>-99</li>\n",
       "\t<li>-73</li>\n",
       "\t<li>36</li>\n",
       "\t<li>45</li>\n",
       "\t<li>-15</li>\n",
       "\t<li>4</li>\n",
       "\t<li>39</li>\n",
       "\t<li>-54</li>\n",
       "\t<li>8</li>\n",
       "\t<li>-76</li>\n",
       "\t<li>96</li>\n",
       "\t<li>-53</li>\n",
       "\t<li>-82</li>\n",
       "\t<li>94</li>\n",
       "\t<li>48</li>\n",
       "\t<li>23</li>\n",
       "\t<li>51</li>\n",
       "\t<li>-47</li>\n",
       "\t<li>-24</li>\n",
       "\t<li>55</li>\n",
       "\t<li>70</li>\n",
       "\t<li>-98</li>\n",
       "\t<li>1</li>\n",
       "\t<li>37</li>\n",
       "\t<li>-60</li>\n",
       "\t<li>18</li>\n",
       "\t<li>13</li>\n",
       "\t<li>42</li>\n",
       "\t<li>-13</li>\n",
       "\t<li>0</li>\n",
       "\t<li>62</li>\n",
       "\t<li>24</li>\n",
       "\t<li>75</li>\n",
       "\t<li>-65</li>\n",
       "\t<li>17</li>\n",
       "\t<li>-41</li>\n",
       "\t<li>-48</li>\n",
       "\t<li>76</li>\n",
       "\t<li>-71</li>\n",
       "\t<li>-92</li>\n",
       "\t<li>-64</li>\n",
       "\t<li>46</li>\n",
       "\t<li>-95</li>\n",
       "\t<li>-77</li>\n",
       "\t<li>27</li>\n",
       "\t<li>-5</li>\n",
       "\t<li>30</li>\n",
       "\t<li>7</li>\n",
       "\t<li>-51</li>\n",
       "\t<li>79</li>\n",
       "\t<li>-58</li>\n",
       "\t<li>-20</li>\n",
       "\t<li>78</li>\n",
       "\t<li>59</li>\n",
       "\t<li>26</li>\n",
       "\t<li>-1</li>\n",
       "\t<li>11</li>\n",
       "\t<li>64</li>\n",
       "\t<li>-18</li>\n",
       "\t<li>-62</li>\n",
       "\t<li>99</li>\n",
       "\t<li>-57</li>\n",
       "\t<li>83</li>\n",
       "\t<li>-40</li>\n",
       "\t<li>22</li>\n",
       "\t<li>-80</li>\n",
       "\t<li>-56</li>\n",
       "\t<li>-91</li>\n",
       "\t<li>-89</li>\n",
       "\t<li>65</li>\n",
       "</ol>\n"
      ],
      "text/latex": [
       "\\begin{enumerate*}\n",
       "\\item -63\n",
       "\\item 40\n",
       "\\item 14\n",
       "\\item -67\n",
       "\\item 85\n",
       "\\item 84\n",
       "\\item -75\n",
       "\\item 61\n",
       "\\item -10\n",
       "\\item 5\n",
       "\\item 91\n",
       "\\item -55\n",
       "\\item 43\n",
       "\\item 97\n",
       "\\item -25\n",
       "\\item 58\n",
       "\\item 80\n",
       "\\item -59\n",
       "\\item -19\n",
       "\\item -87\n",
       "\\item 19\n",
       "\\item -31\n",
       "\\item 49\n",
       "\\item -74\n",
       "\\item -39\n",
       "\\item -14\n",
       "\\item 77\n",
       "\\item -38\n",
       "\\item 66\n",
       "\\item -78\n",
       "\\item -99\n",
       "\\item -73\n",
       "\\item 36\n",
       "\\item 45\n",
       "\\item -15\n",
       "\\item 4\n",
       "\\item 39\n",
       "\\item -54\n",
       "\\item 8\n",
       "\\item -76\n",
       "\\item 96\n",
       "\\item -53\n",
       "\\item -82\n",
       "\\item 94\n",
       "\\item 48\n",
       "\\item 23\n",
       "\\item 51\n",
       "\\item -47\n",
       "\\item -24\n",
       "\\item 55\n",
       "\\item 70\n",
       "\\item -98\n",
       "\\item 1\n",
       "\\item 37\n",
       "\\item -60\n",
       "\\item 18\n",
       "\\item 13\n",
       "\\item 42\n",
       "\\item -13\n",
       "\\item 0\n",
       "\\item 62\n",
       "\\item 24\n",
       "\\item 75\n",
       "\\item -65\n",
       "\\item 17\n",
       "\\item -41\n",
       "\\item -48\n",
       "\\item 76\n",
       "\\item -71\n",
       "\\item -92\n",
       "\\item -64\n",
       "\\item 46\n",
       "\\item -95\n",
       "\\item -77\n",
       "\\item 27\n",
       "\\item -5\n",
       "\\item 30\n",
       "\\item 7\n",
       "\\item -51\n",
       "\\item 79\n",
       "\\item -58\n",
       "\\item -20\n",
       "\\item 78\n",
       "\\item 59\n",
       "\\item 26\n",
       "\\item -1\n",
       "\\item 11\n",
       "\\item 64\n",
       "\\item -18\n",
       "\\item -62\n",
       "\\item 99\n",
       "\\item -57\n",
       "\\item 83\n",
       "\\item -40\n",
       "\\item 22\n",
       "\\item -80\n",
       "\\item -56\n",
       "\\item -91\n",
       "\\item -89\n",
       "\\item 65\n",
       "\\end{enumerate*}\n"
      ],
      "text/markdown": [
       "1. -63\n",
       "2. 40\n",
       "3. 14\n",
       "4. -67\n",
       "5. 85\n",
       "6. 84\n",
       "7. -75\n",
       "8. 61\n",
       "9. -10\n",
       "10. 5\n",
       "11. 91\n",
       "12. -55\n",
       "13. 43\n",
       "14. 97\n",
       "15. -25\n",
       "16. 58\n",
       "17. 80\n",
       "18. -59\n",
       "19. -19\n",
       "20. -87\n",
       "21. 19\n",
       "22. -31\n",
       "23. 49\n",
       "24. -74\n",
       "25. -39\n",
       "26. -14\n",
       "27. 77\n",
       "28. -38\n",
       "29. 66\n",
       "30. -78\n",
       "31. -99\n",
       "32. -73\n",
       "33. 36\n",
       "34. 45\n",
       "35. -15\n",
       "36. 4\n",
       "37. 39\n",
       "38. -54\n",
       "39. 8\n",
       "40. -76\n",
       "41. 96\n",
       "42. -53\n",
       "43. -82\n",
       "44. 94\n",
       "45. 48\n",
       "46. 23\n",
       "47. 51\n",
       "48. -47\n",
       "49. -24\n",
       "50. 55\n",
       "51. 70\n",
       "52. -98\n",
       "53. 1\n",
       "54. 37\n",
       "55. -60\n",
       "56. 18\n",
       "57. 13\n",
       "58. 42\n",
       "59. -13\n",
       "60. 0\n",
       "61. 62\n",
       "62. 24\n",
       "63. 75\n",
       "64. -65\n",
       "65. 17\n",
       "66. -41\n",
       "67. -48\n",
       "68. 76\n",
       "69. -71\n",
       "70. -92\n",
       "71. -64\n",
       "72. 46\n",
       "73. -95\n",
       "74. -77\n",
       "75. 27\n",
       "76. -5\n",
       "77. 30\n",
       "78. 7\n",
       "79. -51\n",
       "80. 79\n",
       "81. -58\n",
       "82. -20\n",
       "83. 78\n",
       "84. 59\n",
       "85. 26\n",
       "86. -1\n",
       "87. 11\n",
       "88. 64\n",
       "89. -18\n",
       "90. -62\n",
       "91. 99\n",
       "92. -57\n",
       "93. 83\n",
       "94. -40\n",
       "95. 22\n",
       "96. -80\n",
       "97. -56\n",
       "98. -91\n",
       "99. -89\n",
       "100. 65\n",
       "\n",
       "\n"
      ],
      "text/plain": [
       "  [1] -63  40  14 -67  85  84 -75  61 -10   5  91 -55  43  97 -25  58  80 -59\n",
       " [19] -19 -87  19 -31  49 -74 -39 -14  77 -38  66 -78 -99 -73  36  45 -15   4\n",
       " [37]  39 -54   8 -76  96 -53 -82  94  48  23  51 -47 -24  55  70 -98   1  37\n",
       " [55] -60  18  13  42 -13   0  62  24  75 -65  17 -41 -48  76 -71 -92 -64  46\n",
       " [73] -95 -77  27  -5  30   7 -51  79 -58 -20  78  59  26  -1  11  64 -18 -62\n",
       " [91]  99 -57  83 -40  22 -80 -56 -91 -89  65"
      ]
     },
     "metadata": {},
     "output_type": "display_data"
    }
   ],
   "source": [
    "set.seed(2)\n",
    "vec <- sample(-100:100,size = 100)\n",
    "vec"
   ]
  },
  {
   "cell_type": "code",
   "execution_count": 24,
   "metadata": {},
   "outputs": [
    {
     "data": {
      "text/html": [
       "<ol class=list-inline>\n",
       "\t<li>0</li>\n",
       "\t<li>80</li>\n",
       "\t<li>28</li>\n",
       "\t<li>0</li>\n",
       "\t<li>170</li>\n",
       "\t<li>168</li>\n",
       "\t<li>0</li>\n",
       "\t<li>122</li>\n",
       "\t<li>0</li>\n",
       "\t<li>10</li>\n",
       "\t<li>182</li>\n",
       "\t<li>0</li>\n",
       "\t<li>86</li>\n",
       "\t<li>194</li>\n",
       "\t<li>0</li>\n",
       "\t<li>116</li>\n",
       "\t<li>160</li>\n",
       "\t<li>0</li>\n",
       "\t<li>0</li>\n",
       "\t<li>0</li>\n",
       "\t<li>38</li>\n",
       "\t<li>0</li>\n",
       "\t<li>98</li>\n",
       "\t<li>0</li>\n",
       "\t<li>0</li>\n",
       "\t<li>0</li>\n",
       "\t<li>154</li>\n",
       "\t<li>0</li>\n",
       "\t<li>132</li>\n",
       "\t<li>0</li>\n",
       "\t<li>0</li>\n",
       "\t<li>0</li>\n",
       "\t<li>72</li>\n",
       "\t<li>90</li>\n",
       "\t<li>0</li>\n",
       "\t<li>8</li>\n",
       "\t<li>78</li>\n",
       "\t<li>0</li>\n",
       "\t<li>16</li>\n",
       "\t<li>0</li>\n",
       "\t<li>192</li>\n",
       "\t<li>0</li>\n",
       "\t<li>0</li>\n",
       "\t<li>188</li>\n",
       "\t<li>96</li>\n",
       "\t<li>46</li>\n",
       "\t<li>102</li>\n",
       "\t<li>0</li>\n",
       "\t<li>0</li>\n",
       "\t<li>110</li>\n",
       "\t<li>140</li>\n",
       "\t<li>0</li>\n",
       "\t<li>2</li>\n",
       "\t<li>74</li>\n",
       "\t<li>0</li>\n",
       "\t<li>36</li>\n",
       "\t<li>26</li>\n",
       "\t<li>84</li>\n",
       "\t<li>0</li>\n",
       "\t<li>0</li>\n",
       "\t<li>124</li>\n",
       "\t<li>48</li>\n",
       "\t<li>150</li>\n",
       "\t<li>0</li>\n",
       "\t<li>34</li>\n",
       "\t<li>0</li>\n",
       "\t<li>0</li>\n",
       "\t<li>152</li>\n",
       "\t<li>0</li>\n",
       "\t<li>0</li>\n",
       "\t<li>0</li>\n",
       "\t<li>92</li>\n",
       "\t<li>0</li>\n",
       "\t<li>0</li>\n",
       "\t<li>54</li>\n",
       "\t<li>0</li>\n",
       "\t<li>60</li>\n",
       "\t<li>14</li>\n",
       "\t<li>0</li>\n",
       "\t<li>158</li>\n",
       "\t<li>0</li>\n",
       "\t<li>0</li>\n",
       "\t<li>156</li>\n",
       "\t<li>118</li>\n",
       "\t<li>52</li>\n",
       "\t<li>0</li>\n",
       "\t<li>22</li>\n",
       "\t<li>128</li>\n",
       "\t<li>0</li>\n",
       "\t<li>0</li>\n",
       "\t<li>198</li>\n",
       "\t<li>0</li>\n",
       "\t<li>166</li>\n",
       "\t<li>0</li>\n",
       "\t<li>44</li>\n",
       "\t<li>0</li>\n",
       "\t<li>0</li>\n",
       "\t<li>0</li>\n",
       "\t<li>0</li>\n",
       "\t<li>130</li>\n",
       "</ol>\n"
      ],
      "text/latex": [
       "\\begin{enumerate*}\n",
       "\\item 0\n",
       "\\item 80\n",
       "\\item 28\n",
       "\\item 0\n",
       "\\item 170\n",
       "\\item 168\n",
       "\\item 0\n",
       "\\item 122\n",
       "\\item 0\n",
       "\\item 10\n",
       "\\item 182\n",
       "\\item 0\n",
       "\\item 86\n",
       "\\item 194\n",
       "\\item 0\n",
       "\\item 116\n",
       "\\item 160\n",
       "\\item 0\n",
       "\\item 0\n",
       "\\item 0\n",
       "\\item 38\n",
       "\\item 0\n",
       "\\item 98\n",
       "\\item 0\n",
       "\\item 0\n",
       "\\item 0\n",
       "\\item 154\n",
       "\\item 0\n",
       "\\item 132\n",
       "\\item 0\n",
       "\\item 0\n",
       "\\item 0\n",
       "\\item 72\n",
       "\\item 90\n",
       "\\item 0\n",
       "\\item 8\n",
       "\\item 78\n",
       "\\item 0\n",
       "\\item 16\n",
       "\\item 0\n",
       "\\item 192\n",
       "\\item 0\n",
       "\\item 0\n",
       "\\item 188\n",
       "\\item 96\n",
       "\\item 46\n",
       "\\item 102\n",
       "\\item 0\n",
       "\\item 0\n",
       "\\item 110\n",
       "\\item 140\n",
       "\\item 0\n",
       "\\item 2\n",
       "\\item 74\n",
       "\\item 0\n",
       "\\item 36\n",
       "\\item 26\n",
       "\\item 84\n",
       "\\item 0\n",
       "\\item 0\n",
       "\\item 124\n",
       "\\item 48\n",
       "\\item 150\n",
       "\\item 0\n",
       "\\item 34\n",
       "\\item 0\n",
       "\\item 0\n",
       "\\item 152\n",
       "\\item 0\n",
       "\\item 0\n",
       "\\item 0\n",
       "\\item 92\n",
       "\\item 0\n",
       "\\item 0\n",
       "\\item 54\n",
       "\\item 0\n",
       "\\item 60\n",
       "\\item 14\n",
       "\\item 0\n",
       "\\item 158\n",
       "\\item 0\n",
       "\\item 0\n",
       "\\item 156\n",
       "\\item 118\n",
       "\\item 52\n",
       "\\item 0\n",
       "\\item 22\n",
       "\\item 128\n",
       "\\item 0\n",
       "\\item 0\n",
       "\\item 198\n",
       "\\item 0\n",
       "\\item 166\n",
       "\\item 0\n",
       "\\item 44\n",
       "\\item 0\n",
       "\\item 0\n",
       "\\item 0\n",
       "\\item 0\n",
       "\\item 130\n",
       "\\end{enumerate*}\n"
      ],
      "text/markdown": [
       "1. 0\n",
       "2. 80\n",
       "3. 28\n",
       "4. 0\n",
       "5. 170\n",
       "6. 168\n",
       "7. 0\n",
       "8. 122\n",
       "9. 0\n",
       "10. 10\n",
       "11. 182\n",
       "12. 0\n",
       "13. 86\n",
       "14. 194\n",
       "15. 0\n",
       "16. 116\n",
       "17. 160\n",
       "18. 0\n",
       "19. 0\n",
       "20. 0\n",
       "21. 38\n",
       "22. 0\n",
       "23. 98\n",
       "24. 0\n",
       "25. 0\n",
       "26. 0\n",
       "27. 154\n",
       "28. 0\n",
       "29. 132\n",
       "30. 0\n",
       "31. 0\n",
       "32. 0\n",
       "33. 72\n",
       "34. 90\n",
       "35. 0\n",
       "36. 8\n",
       "37. 78\n",
       "38. 0\n",
       "39. 16\n",
       "40. 0\n",
       "41. 192\n",
       "42. 0\n",
       "43. 0\n",
       "44. 188\n",
       "45. 96\n",
       "46. 46\n",
       "47. 102\n",
       "48. 0\n",
       "49. 0\n",
       "50. 110\n",
       "51. 140\n",
       "52. 0\n",
       "53. 2\n",
       "54. 74\n",
       "55. 0\n",
       "56. 36\n",
       "57. 26\n",
       "58. 84\n",
       "59. 0\n",
       "60. 0\n",
       "61. 124\n",
       "62. 48\n",
       "63. 150\n",
       "64. 0\n",
       "65. 34\n",
       "66. 0\n",
       "67. 0\n",
       "68. 152\n",
       "69. 0\n",
       "70. 0\n",
       "71. 0\n",
       "72. 92\n",
       "73. 0\n",
       "74. 0\n",
       "75. 54\n",
       "76. 0\n",
       "77. 60\n",
       "78. 14\n",
       "79. 0\n",
       "80. 158\n",
       "81. 0\n",
       "82. 0\n",
       "83. 156\n",
       "84. 118\n",
       "85. 52\n",
       "86. 0\n",
       "87. 22\n",
       "88. 128\n",
       "89. 0\n",
       "90. 0\n",
       "91. 198\n",
       "92. 0\n",
       "93. 166\n",
       "94. 0\n",
       "95. 44\n",
       "96. 0\n",
       "97. 0\n",
       "98. 0\n",
       "99. 0\n",
       "100. 130\n",
       "\n",
       "\n"
      ],
      "text/plain": [
       "  [1]   0  80  28   0 170 168   0 122   0  10 182   0  86 194   0 116 160   0\n",
       " [19]   0   0  38   0  98   0   0   0 154   0 132   0   0   0  72  90   0   8\n",
       " [37]  78   0  16   0 192   0   0 188  96  46 102   0   0 110 140   0   2  74\n",
       " [55]   0  36  26  84   0   0 124  48 150   0  34   0   0 152   0   0   0  92\n",
       " [73]   0   0  54   0  60  14   0 158   0   0 156 118  52   0  22 128   0   0\n",
       " [91] 198   0 166   0  44   0   0   0   0 130"
      ]
     },
     "metadata": {},
     "output_type": "display_data"
    }
   ],
   "source": [
    "# Solución\n",
    "if (any(vec<1) && any(vec>0)) {\n",
    "    ind_mayor_0 <- which(vec>0)\n",
    "    ind_menor_1 <- which(vec<1)\n",
    "    vec[ind_menor_1] <- 0\n",
    "    vec[ind_mayor_0] <- vec[ind_mayor_0]*2\n",
    "}\n",
    "vec"
   ]
  },
  {
   "cell_type": "markdown",
   "metadata": {},
   "source": [
    "## for"
   ]
  },
  {
   "cell_type": "markdown",
   "metadata": {},
   "source": [
    "El bucle for permite realizar iteraciones. Una iteración es un ciclo de operaciones que se repiten a través de uno o varios índices Al igual que la condición if, las diferencias con python residen en la presencia de llaves en sustitución de los sangrados de línea. De tal manera que la sintaxis es:\n",
    "- for (i in vec){cuerpo del bucle}\n",
    "\n",
    "Si el cuerpo del bucle solo continene una línea se puede poner a continuación y sin llaves:\n",
    "- for (i in vec) cuerpo del bucle"
   ]
  },
  {
   "cell_type": "markdown",
   "metadata": {},
   "source": [
    "Podemos iterar sobre elementos de un vector..."
   ]
  },
  {
   "cell_type": "code",
   "execution_count": 25,
   "metadata": {},
   "outputs": [
    {
     "name": "stdout",
     "output_type": "stream",
     "text": [
      "[1] \"carro\"\n",
      "[1] \"camion\"\n",
      "[1] \"metro\"\n",
      "[1] \"moto\"\n"
     ]
    }
   ],
   "source": [
    "medios.transporte <- c(\"carro\", \"camion\",\"metro\", \"moto\")\n",
    "for (vehiculo in medios.transporte) print(vehiculo)"
   ]
  },
  {
   "cell_type": "markdown",
   "metadata": {},
   "source": [
    "... o iterar sobre elementos de una lista."
   ]
  },
  {
   "cell_type": "code",
   "execution_count": 26,
   "metadata": {},
   "outputs": [
    {
     "name": "stdout",
     "output_type": "stream",
     "text": [
      "[1] \"carro\"\n",
      "[1] \"camion\"\n",
      "[1] \"metro\"\n",
      "[1] \"moto\"\n"
     ]
    }
   ],
   "source": [
    "medios.transporte <- list(\"carro\", \"camion\",\"metro\", \"moto\")\n",
    "for (vehiculo in medios.transporte) print(vehiculo)"
   ]
  },
  {
   "cell_type": "markdown",
   "metadata": {},
   "source": [
    "Si en cada interación vamos a ir rellenando elementos en un vector/matriz/lista es importante inicializarlas antes:"
   ]
  },
  {
   "cell_type": "code",
   "execution_count": 27,
   "metadata": {},
   "outputs": [
    {
     "data": {
      "text/html": [
       "<ol class=list-inline>\n",
       "\t<li>1</li>\n",
       "\t<li>8</li>\n",
       "\t<li>27</li>\n",
       "\t<li>64</li>\n",
       "\t<li>125</li>\n",
       "\t<li>216</li>\n",
       "</ol>\n"
      ],
      "text/latex": [
       "\\begin{enumerate*}\n",
       "\\item 1\n",
       "\\item 8\n",
       "\\item 27\n",
       "\\item 64\n",
       "\\item 125\n",
       "\\item 216\n",
       "\\end{enumerate*}\n"
      ],
      "text/markdown": [
       "1. 1\n",
       "2. 8\n",
       "3. 27\n",
       "4. 64\n",
       "5. 125\n",
       "6. 216\n",
       "\n",
       "\n"
      ],
      "text/plain": [
       "[1]   1   8  27  64 125 216"
      ]
     },
     "metadata": {},
     "output_type": "display_data"
    }
   ],
   "source": [
    "x <- 1:500\n",
    "y <- x^2\n",
    "z <- c()\n",
    "for (i in 1:500) z[i] <- x[i]*y[i]\n",
    "head(z)"
   ]
  },
  {
   "cell_type": "markdown",
   "metadata": {},
   "source": [
    "... si no se hubiese inicializado el vector z pasaría esto:"
   ]
  },
  {
   "cell_type": "code",
   "execution_count": 28,
   "metadata": {},
   "outputs": [
    {
     "ename": "ERROR",
     "evalue": "Error in zz[i] <- x[i] * y[i]: object 'zz' not found\n",
     "output_type": "error",
     "traceback": [
      "Error in zz[i] <- x[i] * y[i]: object 'zz' not found\nTraceback:\n"
     ]
    }
   ],
   "source": [
    "x <- 1:500\n",
    "y <- x^2\n",
    "for (i in 1:500) zz[i] <- x[i]*y[i]\n",
    "head(z)"
   ]
  },
  {
   "cell_type": "markdown",
   "metadata": {},
   "source": [
    "Por ello una parte importante de los bucles for es la inicialización de los objetos.\n",
    "- Inicializar un vector: c()\n",
    "- Inicializar una matriz: matrix(data=, ncol=, nrow=)\n",
    "- Inicializar un array: array(data=,dim=)\n",
    "\n",
    "Si a los vectores o a las listas se les quiere dar una longitud determinada se puede utilizar la función vector():\n",
    "- vector(mode=\"list\",length=)\n",
    "- vector(mode=\"numeric\",length=)"
   ]
  },
  {
   "cell_type": "code",
   "execution_count": 30,
   "metadata": {},
   "outputs": [
    {
     "data": {
      "text/html": [
       "3"
      ],
      "text/latex": [
       "3"
      ],
      "text/markdown": [
       "3"
      ],
      "text/plain": [
       "[1] 3"
      ]
     },
     "metadata": {},
     "output_type": "display_data"
    },
    {
     "name": "stdout",
     "output_type": "stream",
     "text": [
      "[1] \"La matriz x contiene:\"\n"
     ]
    },
    {
     "data": {
      "text/html": [
       "<table>\n",
       "<tbody>\n",
       "\t<tr><td>1</td><td>4</td></tr>\n",
       "\t<tr><td>2</td><td>5</td></tr>\n",
       "\t<tr><td>3</td><td>6</td></tr>\n",
       "</tbody>\n",
       "</table>\n"
      ],
      "text/latex": [
       "\\begin{tabular}{ll}\n",
       "\t 1 & 4\\\\\n",
       "\t 2 & 5\\\\\n",
       "\t 3 & 6\\\\\n",
       "\\end{tabular}\n"
      ],
      "text/markdown": [
       "\n",
       "| 1 | 4 | \n",
       "| 2 | 5 | \n",
       "| 3 | 6 | \n",
       "\n",
       "\n"
      ],
      "text/plain": [
       "     [,1] [,2]\n",
       "[1,] 1    4   \n",
       "[2,] 2    5   \n",
       "[3,] 3    6   "
      ]
     },
     "metadata": {},
     "output_type": "display_data"
    },
    {
     "name": "stdout",
     "output_type": "stream",
     "text": [
      "[1] \"La matriz y contiene:\"\n"
     ]
    },
    {
     "data": {
      "text/html": [
       "<table>\n",
       "<tbody>\n",
       "\t<tr><td>0</td><td>3</td></tr>\n",
       "\t<tr><td>1</td><td>4</td></tr>\n",
       "\t<tr><td>2</td><td>5</td></tr>\n",
       "</tbody>\n",
       "</table>\n"
      ],
      "text/latex": [
       "\\begin{tabular}{ll}\n",
       "\t 0 & 3\\\\\n",
       "\t 1 & 4\\\\\n",
       "\t 2 & 5\\\\\n",
       "\\end{tabular}\n"
      ],
      "text/markdown": [
       "\n",
       "| 0 | 3 | \n",
       "| 1 | 4 | \n",
       "| 2 | 5 | \n",
       "\n",
       "\n"
      ],
      "text/plain": [
       "     [,1] [,2]\n",
       "[1,] 0    3   \n",
       "[2,] 1    4   \n",
       "[3,] 2    5   "
      ]
     },
     "metadata": {},
     "output_type": "display_data"
    },
    {
     "name": "stdout",
     "output_type": "stream",
     "text": [
      "[1] \"La matriz z contiene:\"\n"
     ]
    },
    {
     "data": {
      "text/html": [
       "<table>\n",
       "<tbody>\n",
       "\t<tr><td>0 </td><td>12</td></tr>\n",
       "\t<tr><td>2 </td><td>20</td></tr>\n",
       "\t<tr><td>6 </td><td>30</td></tr>\n",
       "</tbody>\n",
       "</table>\n"
      ],
      "text/latex": [
       "\\begin{tabular}{ll}\n",
       "\t 0  & 12\\\\\n",
       "\t 2  & 20\\\\\n",
       "\t 6  & 30\\\\\n",
       "\\end{tabular}\n"
      ],
      "text/markdown": [
       "\n",
       "| 0  | 12 | \n",
       "| 2  | 20 | \n",
       "| 6  | 30 | \n",
       "\n",
       "\n"
      ],
      "text/plain": [
       "     [,1] [,2]\n",
       "[1,] 0    12  \n",
       "[2,] 2    20  \n",
       "[3,] 6    30  "
      ]
     },
     "metadata": {},
     "output_type": "display_data"
    }
   ],
   "source": [
    "x <- matrix(data = 1:6, ncol = 2, nrow = 3)\n",
    "y <- x-1\n",
    "z <- matrix(data = NA, ncol = 2, nrow = 3)\n",
    "nrow(x)\n",
    "for (i in 1:nrow(x)) {\n",
    "  z[i,] <- x[i,]*y[i,]  \n",
    "} \n",
    "\n",
    "print(\"La matriz x contiene:\") \n",
    "x\n",
    "print(\"La matriz y contiene:\") \n",
    "y\n",
    "print(\"La matriz z contiene:\") \n",
    "z"
   ]
  },
  {
   "cell_type": "markdown",
   "metadata": {},
   "source": [
    "EJERCICIO PROPUESTO: Busca la manera de hacer en tan solo UN bucle for lo que en la siguiente celda está hecho en DOS."
   ]
  },
  {
   "cell_type": "code",
   "execution_count": 37,
   "metadata": {},
   "outputs": [
    {
     "name": "stdout",
     "output_type": "stream",
     "text": [
      "[1] \"La matriz x contiene:\"\n"
     ]
    },
    {
     "data": {
      "text/html": [
       "<table>\n",
       "<tbody>\n",
       "\t<tr><td>1</td><td>4</td></tr>\n",
       "\t<tr><td>2</td><td>5</td></tr>\n",
       "\t<tr><td>3</td><td>6</td></tr>\n",
       "</tbody>\n",
       "</table>\n"
      ],
      "text/latex": [
       "\\begin{tabular}{ll}\n",
       "\t 1 & 4\\\\\n",
       "\t 2 & 5\\\\\n",
       "\t 3 & 6\\\\\n",
       "\\end{tabular}\n"
      ],
      "text/markdown": [
       "\n",
       "| 1 | 4 | \n",
       "| 2 | 5 | \n",
       "| 3 | 6 | \n",
       "\n",
       "\n"
      ],
      "text/plain": [
       "     [,1] [,2]\n",
       "[1,] 1    4   \n",
       "[2,] 2    5   \n",
       "[3,] 3    6   "
      ]
     },
     "metadata": {},
     "output_type": "display_data"
    },
    {
     "name": "stdout",
     "output_type": "stream",
     "text": [
      "[1] \"La matriz z (que si os fijais es la traspuesta de x) contiene:\"\n"
     ]
    },
    {
     "data": {
      "text/html": [
       "<table>\n",
       "<tbody>\n",
       "\t<tr><td>1</td><td>2</td><td>3</td></tr>\n",
       "\t<tr><td>4</td><td>5</td><td>6</td></tr>\n",
       "</tbody>\n",
       "</table>\n"
      ],
      "text/latex": [
       "\\begin{tabular}{lll}\n",
       "\t 1 & 2 & 3\\\\\n",
       "\t 4 & 5 & 6\\\\\n",
       "\\end{tabular}\n"
      ],
      "text/markdown": [
       "\n",
       "| 1 | 2 | 3 | \n",
       "| 4 | 5 | 6 | \n",
       "\n",
       "\n"
      ],
      "text/plain": [
       "     [,1] [,2] [,3]\n",
       "[1,] 1    2    3   \n",
       "[2,] 4    5    6   "
      ]
     },
     "metadata": {},
     "output_type": "display_data"
    }
   ],
   "source": [
    "# Con dos bucles for\n",
    "x <- matrix(data = 1:6, ncol = 2, nrow = 3)\n",
    "z <- matrix(data = NA, ncol = 3, nrow = 2)\n",
    "for (i in 1:ncol(x)){\n",
    "    for (j in 1:nrow(x)){\n",
    "        z[i,j]= x[j,i]\n",
    "    }\n",
    "}\n",
    "print(\"La matriz x contiene:\") \n",
    "x\n",
    "print(\"La matriz z (que si os fijais es la traspuesta de x) contiene:\") \n",
    "z"
   ]
  },
  {
   "cell_type": "code",
   "execution_count": 36,
   "metadata": {},
   "outputs": [
    {
     "name": "stdout",
     "output_type": "stream",
     "text": [
      "[1] \"La matriz x contiene:\"\n"
     ]
    },
    {
     "data": {
      "text/html": [
       "<table>\n",
       "<tbody>\n",
       "\t<tr><td>1</td><td>4</td></tr>\n",
       "\t<tr><td>2</td><td>5</td></tr>\n",
       "\t<tr><td>3</td><td>6</td></tr>\n",
       "</tbody>\n",
       "</table>\n"
      ],
      "text/latex": [
       "\\begin{tabular}{ll}\n",
       "\t 1 & 4\\\\\n",
       "\t 2 & 5\\\\\n",
       "\t 3 & 6\\\\\n",
       "\\end{tabular}\n"
      ],
      "text/markdown": [
       "\n",
       "| 1 | 4 | \n",
       "| 2 | 5 | \n",
       "| 3 | 6 | \n",
       "\n",
       "\n"
      ],
      "text/plain": [
       "     [,1] [,2]\n",
       "[1,] 1    4   \n",
       "[2,] 2    5   \n",
       "[3,] 3    6   "
      ]
     },
     "metadata": {},
     "output_type": "display_data"
    },
    {
     "name": "stdout",
     "output_type": "stream",
     "text": [
      "[1] \"La matriz z (que si os fijais es la traspuesta de x) contiene:\"\n"
     ]
    },
    {
     "data": {
      "text/html": [
       "<table>\n",
       "<tbody>\n",
       "\t<tr><td>1</td><td>2</td><td>3</td></tr>\n",
       "\t<tr><td>4</td><td>5</td><td>6</td></tr>\n",
       "</tbody>\n",
       "</table>\n"
      ],
      "text/latex": [
       "\\begin{tabular}{lll}\n",
       "\t 1 & 2 & 3\\\\\n",
       "\t 4 & 5 & 6\\\\\n",
       "\\end{tabular}\n"
      ],
      "text/markdown": [
       "\n",
       "| 1 | 2 | 3 | \n",
       "| 4 | 5 | 6 | \n",
       "\n",
       "\n"
      ],
      "text/plain": [
       "     [,1] [,2] [,3]\n",
       "[1,] 1    2    3   \n",
       "[2,] 4    5    6   "
      ]
     },
     "metadata": {},
     "output_type": "display_data"
    }
   ],
   "source": [
    "## Con un bucle for\n",
    "# Con dos bucles for\n",
    "x <- matrix(data = 1:6, ncol = 2, nrow = 3)\n",
    "z <- matrix(data = NA, ncol = 3, nrow = 2)\n",
    "for (i in 1:ncol(x)){\n",
    "        z[i,]= x[,i]\n",
    "}\n",
    "print(\"La matriz x contiene:\") \n",
    "x\n",
    "print(\"La matriz z (que si os fijais es la traspuesta de x) contiene:\") \n",
    "z"
   ]
  },
  {
   "cell_type": "raw",
   "metadata": {},
   "source": [
    "EJERCICIO PROPUESTO: Inicializa un array con valores generados aleatoriamente por una distribucion uniforme entre [-1,1], de dimensiones (100,2,3) y calcula la media a lo largo de la primera dimension, de tal manera que el resultado sea una matriz de dimensiones (2,3). (Para dar valores aleatorios utiliza la función runif(), si no se conoce dicha función buscad la información en la red. Buscar informacion en la red sobre  funciones es una actividad diaria en la vida del programador ya sea principiante o avanzado y por tanto forma parte del aprendizaje en el ámbito de la programación).\n",
    "\n",
    "Sin utilizar la función mean de R, programa un bucle que resuelva el ejercicio."
   ]
  },
  {
   "cell_type": "code",
   "execution_count": 27,
   "metadata": {},
   "outputs": [],
   "source": []
  },
  {
   "cell_type": "markdown",
   "metadata": {},
   "source": [
    "EJERCICIO PROPUESTO: En la clase de ayer visteis como definir una funcion en R. Utiliza el código del ejercicio anterior (el cual calcula la media a lo largo de la primera dimension para un el array x de 3 dimensiones) para definir una funcion el cual calcule dicha media pero para cualquier array x de 3 dimensiones."
   ]
  },
  {
   "cell_type": "code",
   "execution_count": 38,
   "metadata": {},
   "outputs": [],
   "source": [
    "  "
   ]
  },
  {
   "cell_type": "markdown",
   "metadata": {},
   "source": [
    "## while, repeat, break"
   ]
  },
  {
   "cell_type": "markdown",
   "metadata": {},
   "source": [
    "### while"
   ]
  },
  {
   "cell_type": "markdown",
   "metadata": {},
   "source": [
    "A continuación vamos a ver como utilizar la estructura iterativa while, el cual ejecuta el bucle hasta que se cumple una condicion."
   ]
  },
  {
   "cell_type": "code",
   "execution_count": 30,
   "metadata": {},
   "outputs": [
    {
     "name": "stdout",
     "output_type": "stream",
     "text": [
      "[1] \"Aun voy por el numero 0\"\n",
      "[1] \"Aun voy por el numero 1\"\n",
      "[1] \"Aun voy por el numero 2\"\n",
      "[1] \"Aun voy por el numero 3\"\n",
      "[1] \"Aun voy por el numero 4\"\n",
      "[1] \"Aun voy por el numero 5\"\n",
      "[1] \"Aun voy por el numero 6\"\n",
      "[1] \"Aun voy por el numero 7\"\n",
      "[1] \"Aun voy por el numero 8\"\n",
      "[1] \"Aun voy por el numero 9\"\n"
     ]
    }
   ],
   "source": [
    "n <- 0\n",
    "while(n < 10){\n",
    "    print(paste(\"Aun voy por el numero\",n))\n",
    "    n <- n+1\n",
    "}"
   ]
  },
  {
   "cell_type": "markdown",
   "metadata": {},
   "source": [
    "EJERCICIO PROPUESTO: Escriba un algoritmo usando la instrucción while que genere 1000 números al azar con distribución uniforme en [0,1] y los sume hasta llegar a 100. El resultado es el número de sumandos. (Para generar números al azar con dicha distribución utilizar la función runif)"
   ]
  },
  {
   "cell_type": "code",
   "execution_count": 14,
   "metadata": {},
   "outputs": [
    {
     "name": "stdout",
     "output_type": "stream",
     "text": [
      "[1] \"Se han utilizado 205 números, cuya suma es igual a 100.068509225966\"\n"
     ]
    }
   ],
   "source": []
  },
  {
   "cell_type": "markdown",
   "metadata": {},
   "source": [
    "### repeat, break"
   ]
  },
  {
   "cell_type": "markdown",
   "metadata": {},
   "source": [
    "Repeat ejecuta el bucle una y otra vez, repitiéndolo hasta que se cumple una condicion donde es necesario que aparezca la secuencia break. De otra manera, el bucle acabaría siendo infinito."
   ]
  },
  {
   "cell_type": "code",
   "execution_count": 31,
   "metadata": {},
   "outputs": [
    {
     "data": {
      "text/html": [
       "1035"
      ],
      "text/latex": [
       "1035"
      ],
      "text/markdown": [
       "1035"
      ],
      "text/plain": [
       "[1] 1035"
      ]
     },
     "metadata": {},
     "output_type": "display_data"
    },
    {
     "data": {
      "text/html": [
       "45"
      ],
      "text/latex": [
       "45"
      ],
      "text/markdown": [
       "45"
      ],
      "text/plain": [
       "[1] 45"
      ]
     },
     "metadata": {},
     "output_type": "display_data"
    }
   ],
   "source": [
    "n <-0\n",
    "suma <- 0\n",
    "repeat {\n",
    "    n <- n+1 \n",
    "    suma <- suma + n\n",
    "    if ( suma > 1000) break\n",
    "}\n",
    "suma\n",
    "n"
   ]
  },
  {
   "cell_type": "markdown",
   "metadata": {},
   "source": [
    "EJERCICIO PROPUESTO: Escriba un algoritmo usando la instrucción repeat que genere 1000 números al azar con distribución uniforme en [0,1] y los sume uno a uno hasta llegar a 100. El resultado es el número de sumandos. (Para generar números al azar con dicha distribución utilizar la función runif)\n"
   ]
  },
  {
   "cell_type": "code",
   "execution_count": 16,
   "metadata": {},
   "outputs": [
    {
     "name": "stdout",
     "output_type": "stream",
     "text": [
      "[1] \"Se han utilizado 197 números, cuya suma es igual a 100.242720729439\"\n"
     ]
    }
   ],
   "source": []
  }
 ],
 "metadata": {
  "kernelspec": {
   "display_name": "R",
   "language": "R",
   "name": "ir"
  },
  "language_info": {
   "codemirror_mode": "r",
   "file_extension": ".r",
   "mimetype": "text/x-r-source",
   "name": "R",
   "pygments_lexer": "r",
   "version": "3.4.4"
  }
 },
 "nbformat": 4,
 "nbformat_minor": 2
}
